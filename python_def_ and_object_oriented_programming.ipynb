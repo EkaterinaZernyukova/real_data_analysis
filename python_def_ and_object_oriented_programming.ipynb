{
 "cells": [
  {
   "cell_type": "code",
   "execution_count": 5,
   "metadata": {},
   "outputs": [
    {
     "name": "stdout",
     "output_type": "stream",
     "text": [
      "1\n",
      "2\n",
      "сумма\n",
      "3\n",
      "3\n",
      "4\n",
      "сумма\n",
      "7\n",
      "5\n",
      "6\n",
      "сумма\n",
      "11\n"
     ]
    }
   ],
   "source": [
    "item = 0\n",
    "while item < 3:\n",
    "    a = int(input())\n",
    "    b = int(input())\n",
    "    print(\"сумма\")\n",
    "    print(a + b)\n",
    "    item += 1"
   ]
  },
  {
   "cell_type": "code",
   "execution_count": 9,
   "metadata": {},
   "outputs": [
    {
     "name": "stdout",
     "output_type": "stream",
     "text": [
      "Выручка\n",
      "1\n",
      "2\n",
      "Итого 3 руб\n"
     ]
    }
   ],
   "source": [
    "print(\"Выручка\")\n",
    "a = int(input())\n",
    "b = int(input())\n",
    "print(\"Итого\", a + b, \"руб\")"
   ]
  },
  {
   "cell_type": "raw",
   "metadata": {},
   "source": [
    "Функции определяются с помощью оператора def"
   ]
  },
  {
   "cell_type": "code",
   "execution_count": 26,
   "metadata": {},
   "outputs": [],
   "source": [
    "def countFood():\n",
    "    a = int(input())\n",
    "    b = int(input())\n",
    "    print(\"Итого\", a + b, \"руб.\")"
   ]
  },
  {
   "cell_type": "code",
   "execution_count": 28,
   "metadata": {},
   "outputs": [
    {
     "name": "stdout",
     "output_type": "stream",
     "text": [
      "Shop\n",
      "1\n",
      "2\n",
      "Итого 3 руб.\n"
     ]
    }
   ],
   "source": [
    "print(\"Shop\")\n",
    "countFood()"
   ]
  },
  {
   "cell_type": "code",
   "execution_count": 60,
   "metadata": {},
   "outputs": [
    {
     "name": "stdout",
     "output_type": "stream",
     "text": [
      "1-Прямоугольник,2-Треугольник, 3-Круг:4\n",
      "Error\n"
     ]
    }
   ],
   "source": [
    "figure = input(\"1-Прямоугольник,2-Треугольник, 3-Круг:\")\n",
    "\n",
    "if figure == \"1\":\n",
    "    a = float(input(\"Ширина:\"))\n",
    "    b = float(input(\"Длина:\"))\n",
    "    print(\"S %.2f m^2\" % (a * b))\n",
    "elif figure == \"2\":\n",
    "    a = float(input(\"Основание:\"))\n",
    "    b = float(input(\"Высота:\"))\n",
    "    print(\"S %.2f m^2\" % (0.5 * a * b))\n",
    "elif figure == \"3\":\n",
    "    a = float(input(\"Радиус:\"))\n",
    "    print(\"S %.2f m^2\" % (3.14 * a**2))\n",
    "else:\n",
    "    print(\"Error\")"
   ]
  },
  {
   "cell_type": "markdown",
   "metadata": {},
   "source": []
  },
  {
   "cell_type": "code",
   "execution_count": 61,
   "metadata": {},
   "outputs": [
    {
     "name": "stdout",
     "output_type": "stream",
     "text": [
      "1-Прямоугольник, 2 -Треугольник, 3 - Круг:3\n",
      "Радиус:4\n",
      "S=50.24 m^2\n"
     ]
    }
   ],
   "source": [
    "def rectangle():\n",
    "    a = float(input(\"Ширина:\"))\n",
    "    b = float(input(\"Длина:\"))\n",
    "    print(\"S=%.2f m^2\" % (a * b))\n",
    "\n",
    "\n",
    "def triangle():\n",
    "    a = float(input(\"Основание:\"))\n",
    "    b = float(input(\"Высота:\"))\n",
    "    print(\"S=%.2f m^2\" % (a * b * 0.5))\n",
    "\n",
    "\n",
    "def circle():\n",
    "    a = float(input(\"Радиус:\"))\n",
    "    print(\"S=%.2f m^2\" % (a**2 * 3.14))\n",
    "\n",
    "\n",
    "figure = input(\"1-Прямоугольник, 2 -Треугольник, 3 - Круг:\")\n",
    "\n",
    "if figure == \"1\":\n",
    "    rectangle()\n",
    "\n",
    "elif figure == \"2\":\n",
    "    triangle()\n",
    "\n",
    "elif figure == \"3\":\n",
    "    circle()\n",
    "\n",
    "else:\n",
    "    print(\"Error\")"
   ]
  },
  {
   "cell_type": "code",
   "execution_count": 111,
   "metadata": {},
   "outputs": [
    {
     "name": "stdout",
     "output_type": "stream",
     "text": [
      "0\n",
      "Negativ\n"
     ]
    }
   ],
   "source": [
    "def positive():\n",
    "    print(\"Positiv\")\n",
    "\n",
    "\n",
    "def negativ():\n",
    "    print(\"Negativ\")\n",
    "\n",
    "\n",
    "def test():\n",
    "    a = int(input())\n",
    "    if a > 0:\n",
    "        positive()\n",
    "    else:\n",
    "        negativ()\n",
    "\n",
    "\n",
    "test()"
   ]
  },
  {
   "cell_type": "code",
   "execution_count": 110,
   "metadata": {
    "scrolled": true
   },
   "outputs": [
    {
     "name": "stdout",
     "output_type": "stream",
     "text": [
      "4\n",
      "Positiv\n"
     ]
    }
   ],
   "source": [
    "def positive():\n",
    "    return \"Positiv\"\n",
    "\n",
    "\n",
    "def negativ():\n",
    "    return (\"Negativ\")\n",
    "\n",
    "\n",
    "def test():\n",
    "    a = int(input())\n",
    "    if a > 0:\n",
    "        print(positive())\n",
    "    else:\n",
    "        print(negativ())\n",
    "\n",
    "\n",
    "test()"
   ]
  },
  {
   "cell_type": "code",
   "execution_count": 112,
   "metadata": {},
   "outputs": [
    {
     "name": "stdout",
     "output_type": "stream",
     "text": [
      "3\n",
      "Positiv\n"
     ]
    }
   ],
   "source": [
    "def positive():\n",
    "    return \"Positiv\"\n",
    "\n",
    "\n",
    "def negativ():\n",
    "    return (\"Negativ\")\n",
    "\n",
    "\n",
    "def test():\n",
    "    a = int(input())\n",
    "    result = 0\n",
    "\n",
    "    if a > 0:\n",
    "        result = positive()\n",
    "    else:\n",
    "        result = negativ()\n",
    "\n",
    "    print(result)\n",
    "\n",
    "\n",
    "test()"
   ]
  },
  {
   "cell_type": "code",
   "execution_count": 128,
   "metadata": {},
   "outputs": [
    {
     "name": "stdout",
     "output_type": "stream",
     "text": [
      "3\n",
      "4\n"
     ]
    }
   ],
   "source": [
    "def cilinder():\n",
    "    r = int(input())\n",
    "    h = int(input())\n",
    "    side = r * 2 * h * 3.14\n",
    "    circle = 3.14 * r**2\n",
    "    full = side + circle * 2\n",
    "    return full\n",
    "\n",
    "\n",
    "test = cilinder()"
   ]
  },
  {
   "cell_type": "code",
   "execution_count": 129,
   "metadata": {},
   "outputs": [
    {
     "name": "stdout",
     "output_type": "stream",
     "text": [
      "131.88\n"
     ]
    }
   ],
   "source": [
    "print(test)"
   ]
  },
  {
   "cell_type": "code",
   "execution_count": 140,
   "metadata": {},
   "outputs": [
    {
     "name": "stdout",
     "output_type": "stream",
     "text": [
      "e\n",
      "None\n"
     ]
    }
   ],
   "source": [
    "def cylinder():\n",
    "    try:\n",
    "        r = int(input())\n",
    "        h = int(input())\n",
    "    except ValueError:\n",
    "        return\n",
    "    side = r * 2 * h * 3.14\n",
    "    circle = 3.14 * r**2\n",
    "    full = side + circle * 2\n",
    "    return full\n",
    "\n",
    "\n",
    "print(cylinder())"
   ]
  },
  {
   "cell_type": "code",
   "execution_count": 158,
   "metadata": {},
   "outputs": [
    {
     "name": "stdout",
     "output_type": "stream",
     "text": [
      "5\n",
      "6\n",
      "Сторона 188.40 m^2\n",
      "Окружность 78.50 m^2\n",
      "Площадь 345.40 m^2\n"
     ]
    }
   ],
   "source": [
    "def cylinder():\n",
    "    try:\n",
    "        r = float(input())\n",
    "        h = float(input())\n",
    "    except ValueError:\n",
    "        return\n",
    "    side = r * h * 3.14 * 2\n",
    "    circle = r**2 * 3.14\n",
    "    full = side + circle * 2\n",
    "    return side, circle, full\n",
    "\n",
    "\n",
    "si, ci, fu = cylinder()\n",
    "print(\"Сторона %.2f m^2\" % si)\n",
    "print(\"Окружность %.2f m^2\" % ci)\n",
    "print(\"Площадь %.2f m^2\" % fu)"
   ]
  },
  {
   "cell_type": "code",
   "execution_count": 152,
   "metadata": {},
   "outputs": [],
   "source": [
    "# Кортеж\n",
    "a, b, c = 10, 15, 20"
   ]
  },
  {
   "cell_type": "code",
   "execution_count": 153,
   "metadata": {},
   "outputs": [
    {
     "data": {
      "text/plain": [
       "10"
      ]
     },
     "execution_count": 153,
     "metadata": {},
     "output_type": "execute_result"
    }
   ],
   "source": [
    "a"
   ]
  },
  {
   "cell_type": "raw",
   "metadata": {},
   "source": [
    "Напишите программу, в которой вызывается функция, запрашивающая с ввода две строки и возвращающая в программу результат их конкатенации. Выведите результат на экран."
   ]
  },
  {
   "cell_type": "code",
   "execution_count": 176,
   "metadata": {},
   "outputs": [],
   "source": [
    "def concatenaciya():\n",
    "    a = str(input())\n",
    "    b = str(input())\n",
    "    full = (a + ',' + b)\n",
    "    return full"
   ]
  },
  {
   "cell_type": "code",
   "execution_count": 177,
   "metadata": {},
   "outputs": [
    {
     "name": "stdout",
     "output_type": "stream",
     "text": [
      "1,2,3\n",
      "234,5,6,\n"
     ]
    },
    {
     "data": {
      "text/plain": [
       "'1,2,3,234,5,6,'"
      ]
     },
     "execution_count": 177,
     "metadata": {},
     "output_type": "execute_result"
    }
   ],
   "source": [
    "concatenaciya()"
   ]
  },
  {
   "cell_type": "raw",
   "metadata": {},
   "source": [
    "Напишите функцию, которая считывает с клавиатуры числа и перемножает их до тех пор, пока не будет введен 0. Функция должна возвращать полученное произведение. Вызовите функцию и выведите на экран результат ее работы."
   ]
  },
  {
   "cell_type": "code",
   "execution_count": 328,
   "metadata": {},
   "outputs": [],
   "source": [
    "def find_zero():\n",
    "    number = int(input())\n",
    "    a = 1\n",
    "    if number == 0:\n",
    "        return 0\n",
    "    while number != 0:\n",
    "        a *= number\n",
    "        number = int(input())\n",
    "    return a"
   ]
  },
  {
   "cell_type": "code",
   "execution_count": 330,
   "metadata": {},
   "outputs": [
    {
     "name": "stdout",
     "output_type": "stream",
     "text": [
      "1\n",
      "2\n",
      "3\n",
      "7\n",
      "8\n",
      "9\n",
      "0\n"
     ]
    },
    {
     "data": {
      "text/plain": [
       "3024"
      ]
     },
     "execution_count": 330,
     "metadata": {},
     "output_type": "execute_result"
    }
   ],
   "source": [
    "find_zero()"
   ]
  },
  {
   "cell_type": "code",
   "execution_count": 15,
   "metadata": {},
   "outputs": [],
   "source": [
    "class count_nats:\n",
    "    nats = 5                              # nats - атрибут и свойство (поле) класса count_nats\n",
    "    def shoping_bag(price):               # shoping_bag - атрибут и метод класса count_nats\n",
    "        invoice = price * count_nats.nats\n",
    "        return invoice"
   ]
  },
  {
   "cell_type": "code",
   "execution_count": 18,
   "metadata": {},
   "outputs": [
    {
     "data": {
      "text/plain": [
       "5"
      ]
     },
     "execution_count": 18,
     "metadata": {},
     "output_type": "execute_result"
    }
   ],
   "source": [
    "count_nats.nats\n",
    "# count_nats.shoping_bag(3.05)"
   ]
  },
  {
   "cell_type": "code",
   "execution_count": 22,
   "metadata": {},
   "outputs": [
    {
     "data": {
      "text/plain": [
       "5"
      ]
     },
     "execution_count": 22,
     "metadata": {},
     "output_type": "execute_result"
    }
   ],
   "source": [
    "# Создание объекта (экземпляра) на основе класса\n",
    "dinner=count_nats()\n",
    "dinner.nats        # объект с телом класса не поддерживает метод класса без ссылки self"
   ]
  },
  {
   "cell_type": "code",
   "execution_count": 23,
   "metadata": {},
   "outputs": [
    {
     "data": {
      "text/plain": [
       "200"
      ]
     },
     "execution_count": 23,
     "metadata": {},
     "output_type": "execute_result"
    }
   ],
   "source": [
    "dinner.nats=200\n",
    "dinner.nats"
   ]
  },
  {
   "cell_type": "code",
   "execution_count": 34,
   "metadata": {},
   "outputs": [],
   "source": [
    "class A:\n",
    "    def primus():\n",
    "        print(123)"
   ]
  },
  {
   "cell_type": "code",
   "execution_count": 47,
   "metadata": {},
   "outputs": [
    {
     "name": "stdout",
     "output_type": "stream",
     "text": [
      "123\n"
     ]
    }
   ],
   "source": [
    "# s=A()\n",
    "# s.primus()\n",
    "A.primus()"
   ]
  },
  {
   "cell_type": "code",
   "execution_count": 52,
   "metadata": {},
   "outputs": [],
   "source": [
    "class count_nats:\n",
    "    nats = 5                              # nats - атрибут и свойство (поле) класса count_nats\n",
    "    def shoping_bag(self,price):          # shoping_bag - атрибут и метод класса count_nats\n",
    "        invoice = price * count_nats.nats #\n",
    "        return invoice"
   ]
  },
  {
   "cell_type": "code",
   "execution_count": 55,
   "metadata": {},
   "outputs": [
    {
     "data": {
      "text/plain": [
       "10"
      ]
     },
     "execution_count": 55,
     "metadata": {},
     "output_type": "execute_result"
    }
   ],
   "source": [
    "count_nats.shoping_bag(\"self\",2)"
   ]
  },
  {
   "cell_type": "code",
   "execution_count": 56,
   "metadata": {},
   "outputs": [],
   "source": [
    "dinner=count_nats()"
   ]
  },
  {
   "cell_type": "code",
   "execution_count": 59,
   "metadata": {},
   "outputs": [
    {
     "data": {
      "text/plain": [
       "500"
      ]
     },
     "execution_count": 59,
     "metadata": {},
     "output_type": "execute_result"
    }
   ],
   "source": [
    "dinner.shoping_bag(100)"
   ]
  },
  {
   "cell_type": "code",
   "execution_count": null,
   "metadata": {},
   "outputs": [],
   "source": []
  }
 ],
 "metadata": {
  "kernelspec": {
   "display_name": "Python 3",
   "language": "python",
   "name": "python3"
  },
  "language_info": {
   "codemirror_mode": {
    "name": "ipython",
    "version": 3
   },
   "file_extension": ".py",
   "mimetype": "text/x-python",
   "name": "python",
   "nbconvert_exporter": "python",
   "pygments_lexer": "ipython3",
   "version": "3.8.5"
  },
  "nbTranslate": {
   "displayLangs": [
    "*"
   ],
   "hotkey": "alt-t",
   "langInMainMenu": true,
   "sourceLang": "en",
   "targetLang": "fr",
   "useGoogleTranslate": true
  },
  "toc": {
   "base_numbering": 1,
   "nav_menu": {},
   "number_sections": true,
   "sideBar": true,
   "skip_h1_title": false,
   "title_cell": "Table of Contents",
   "title_sidebar": "Contents",
   "toc_cell": false,
   "toc_position": {},
   "toc_section_display": true,
   "toc_window_display": false
  },
  "varInspector": {
   "cols": {
    "lenName": 16,
    "lenType": 16,
    "lenVar": 40
   },
   "kernels_config": {
    "python": {
     "delete_cmd_postfix": "",
     "delete_cmd_prefix": "del ",
     "library": "var_list.py",
     "varRefreshCmd": "print(var_dic_list())"
    },
    "r": {
     "delete_cmd_postfix": ") ",
     "delete_cmd_prefix": "rm(",
     "library": "var_list.r",
     "varRefreshCmd": "cat(var_dic_list()) "
    }
   },
   "types_to_exclude": [
    "module",
    "function",
    "builtin_function_or_method",
    "instance",
    "_Feature"
   ],
   "window_display": false
  }
 },
 "nbformat": 4,
 "nbformat_minor": 4
}
