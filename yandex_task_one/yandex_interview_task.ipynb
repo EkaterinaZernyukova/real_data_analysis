{
 "cells": [
  {
   "cell_type": "markdown",
   "metadata": {},
   "source": [
    "У вас есть список конфет разных типов, вам нужно собрать одинаковые наборы для своих друзей.\n",
    "Какому максимальному числу друзей вы сможете собрать наборы так, чтобы раздарить все конфеты.\n",
    "Реализуйте функцию на питоне, которая принимает на вход список конфет и отдает максимальное число друзей. Формат входных данных - список строк.\n",
    "\n",
    "ТЕСТ: ['a', 'a', 'a', 'b', 'b', 'b', 'b', 'c', 'c', 'c', 'c', 'c'] ОТВЕТ:1\n",
    "ТЕСТ: ['a', 'b', 'c', 'a', 'b', 'c', 'c', 'c'] ОТВЕТ:2"
   ]
  },
  {
   "cell_type": "raw",
   "metadata": {},
   "source": [
    "План:\n",
    "    Подсчет количества повротений уникальных значений списка (получаем Новый список) +\n",
    "    Выбор минимального числа из Нового списка для опредления максимального числа для вывода результата +\n",
    "    Установка счетчика с диапазоном от 1 до минимального числа из Нового списка +\n",
    "    Деление каждого числа из Нового списка на числа счетчика +\n",
    "    Вывод максимального числа счетчика для которого остаток от деления был равен 0 для всех значений Нового списка."
   ]
  },
  {
   "cell_type": "code",
   "execution_count": 1,
   "metadata": {},
   "outputs": [],
   "source": [
    "candies = ['a', 'a', 'a', 'b', 'b', 'b', 'b', 'c', 'c', 'c', 'c', 'c']"
   ]
  },
  {
   "cell_type": "code",
   "execution_count": 2,
   "metadata": {},
   "outputs": [],
   "source": [
    "candies_second = ['a', 'b', 'c', 'a', 'b', 'c', 'c', 'c']"
   ]
  },
  {
   "cell_type": "code",
   "execution_count": 3,
   "metadata": {},
   "outputs": [],
   "source": [
    "candies_third = [\n",
    "    'a', 'a', 'a', 'b', 'b', 'b', 'b', 'c', 'c', 'c', 'c', 'c', 'd', 'd'\n",
    "]"
   ]
  },
  {
   "cell_type": "code",
   "execution_count": 4,
   "metadata": {},
   "outputs": [],
   "source": [
    "def devide_candy_for_friends(candies_list):\n",
    "    count_per_candys_dict = {\n",
    "        item: candies_list.count(item)\n",
    "        for item in candies_list\n",
    "    }\n",
    "    counter_friends = min(count_per_candys_dict.values())\n",
    "\n",
    "    friends_is_found = False\n",
    "    while not friends_is_found:\n",
    "        candy_in_box_list = []\n",
    "        for item in count_per_candys_dict.values():\n",
    "            tail_candy_in_box = item % counter_friends\n",
    "            candy_in_box_list.append(tail_candy_in_box)\n",
    "\n",
    "        if sum(candy_in_box_list) != 0:\n",
    "            counter_friends -= 1\n",
    "\n",
    "            if counter_friends == 1:\n",
    "                friends_is_found = True\n",
    "        else:\n",
    "            friends_is_found = True\n",
    "\n",
    "        print(f\"Максимальное число друзей = {counter_friends}\")\n",
    "        return counter_friends"
   ]
  },
  {
   "cell_type": "code",
   "execution_count": 5,
   "metadata": {},
   "outputs": [
    {
     "name": "stdout",
     "output_type": "stream",
     "text": [
      "Максимальное число друзей = 2\n"
     ]
    },
    {
     "data": {
      "text/plain": [
       "2"
      ]
     },
     "execution_count": 5,
     "metadata": {},
     "output_type": "execute_result"
    }
   ],
   "source": [
    "devide_candy_for_friends(candies_second)"
   ]
  }
 ],
 "metadata": {
  "kernelspec": {
   "display_name": "Python 3",
   "language": "python",
   "name": "python3"
  },
  "language_info": {
   "codemirror_mode": {
    "name": "ipython",
    "version": 3
   },
   "file_extension": ".py",
   "mimetype": "text/x-python",
   "name": "python",
   "nbconvert_exporter": "python",
   "pygments_lexer": "ipython3",
   "version": "3.8.5"
  },
  "nbTranslate": {
   "displayLangs": [
    "*"
   ],
   "hotkey": "alt-t",
   "langInMainMenu": true,
   "sourceLang": "en",
   "targetLang": "fr",
   "useGoogleTranslate": true
  },
  "toc": {
   "base_numbering": 1,
   "nav_menu": {},
   "number_sections": true,
   "sideBar": true,
   "skip_h1_title": false,
   "title_cell": "Table of Contents",
   "title_sidebar": "Contents",
   "toc_cell": false,
   "toc_position": {},
   "toc_section_display": true,
   "toc_window_display": false
  },
  "varInspector": {
   "cols": {
    "lenName": 16,
    "lenType": 16,
    "lenVar": 40
   },
   "kernels_config": {
    "python": {
     "delete_cmd_postfix": "",
     "delete_cmd_prefix": "del ",
     "library": "var_list.py",
     "varRefreshCmd": "print(var_dic_list())"
    },
    "r": {
     "delete_cmd_postfix": ") ",
     "delete_cmd_prefix": "rm(",
     "library": "var_list.r",
     "varRefreshCmd": "cat(var_dic_list()) "
    }
   },
   "types_to_exclude": [
    "module",
    "function",
    "builtin_function_or_method",
    "instance",
    "_Feature"
   ],
   "window_display": false
  }
 },
 "nbformat": 4,
 "nbformat_minor": 4
}
