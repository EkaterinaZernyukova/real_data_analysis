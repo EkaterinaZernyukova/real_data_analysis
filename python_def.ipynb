{
 "cells": [
  {
   "cell_type": "code",
   "execution_count": 5,
   "metadata": {},
   "outputs": [
    {
     "name": "stdout",
     "output_type": "stream",
     "text": [
      "1\n",
      "2\n",
      "сумма\n",
      "3\n",
      "3\n",
      "4\n",
      "сумма\n",
      "7\n",
      "5\n",
      "6\n",
      "сумма\n",
      "11\n"
     ]
    }
   ],
   "source": [
    "item = 0\n",
    "while item < 3:\n",
    "    a = int(input())\n",
    "    b = int(input())\n",
    "    print(\"сумма\")\n",
    "    print(a + b)\n",
    "    item += 1"
   ]
  },
  {
   "cell_type": "code",
   "execution_count": 9,
   "metadata": {},
   "outputs": [
    {
     "name": "stdout",
     "output_type": "stream",
     "text": [
      "Выручка\n",
      "1\n",
      "2\n",
      "Итого 3 руб\n"
     ]
    }
   ],
   "source": [
    "print(\"Выручка\")\n",
    "a = int(input())\n",
    "b = int(input())\n",
    "print(\"Итого\", a + b, \"руб\")"
   ]
  },
  {
   "cell_type": "raw",
   "metadata": {},
   "source": [
    "Функции определяются с помощью оператора def"
   ]
  },
  {
   "cell_type": "code",
   "execution_count": 26,
   "metadata": {},
   "outputs": [],
   "source": [
    "def countFood():\n",
    "    a = int(input())\n",
    "    b = int(input())\n",
    "    print(\"Итого\", a + b, \"руб.\")"
   ]
  },
  {
   "cell_type": "code",
   "execution_count": 28,
   "metadata": {},
   "outputs": [
    {
     "name": "stdout",
     "output_type": "stream",
     "text": [
      "Shop\n",
      "1\n",
      "2\n",
      "Итого 3 руб.\n"
     ]
    }
   ],
   "source": [
    "print(\"Shop\")\n",
    "countFood()"
   ]
  },
  {
   "cell_type": "code",
   "execution_count": 60,
   "metadata": {},
   "outputs": [
    {
     "name": "stdout",
     "output_type": "stream",
     "text": [
      "1-Прямоугольник,2-Треугольник, 3-Круг:4\n",
      "Error\n"
     ]
    }
   ],
   "source": [
    "figure = input(\"1-Прямоугольник,2-Треугольник, 3-Круг:\")\n",
    "\n",
    "if figure == \"1\":\n",
    "    a = float(input(\"Ширина:\"))\n",
    "    b = float(input(\"Длина:\"))\n",
    "    print(\"S %.2f m^2\" % (a * b))\n",
    "elif figure == \"2\":\n",
    "    a = float(input(\"Основание:\"))\n",
    "    b = float(input(\"Высота:\"))\n",
    "    print(\"S %.2f m^2\" % (0.5 * a * b))\n",
    "elif figure == \"3\":\n",
    "    a = float(input(\"Радиус:\"))\n",
    "    print(\"S %.2f m^2\" % (3.14 * a**2))\n",
    "else:\n",
    "    print(\"Error\")"
   ]
  },
  {
   "cell_type": "markdown",
   "metadata": {},
   "source": []
  },
  {
   "cell_type": "code",
   "execution_count": 61,
   "metadata": {},
   "outputs": [
    {
     "name": "stdout",
     "output_type": "stream",
     "text": [
      "1-Прямоугольник, 2 -Треугольник, 3 - Круг:3\n",
      "Радиус:4\n",
      "S=50.24 m^2\n"
     ]
    }
   ],
   "source": [
    "def rectangle():\n",
    "    a = float(input(\"Ширина:\"))\n",
    "    b = float(input(\"Длина:\"))\n",
    "    print(\"S=%.2f m^2\" % (a * b))\n",
    "\n",
    "\n",
    "def triangle():\n",
    "    a = float(input(\"Основание:\"))\n",
    "    b = float(input(\"Высота:\"))\n",
    "    print(\"S=%.2f m^2\" % (a * b * 0.5))\n",
    "\n",
    "\n",
    "def circle():\n",
    "    a = float(input(\"Радиус:\"))\n",
    "    print(\"S=%.2f m^2\" % (a**2 * 3.14))\n",
    "\n",
    "\n",
    "figure = input(\"1-Прямоугольник, 2 -Треугольник, 3 - Круг:\")\n",
    "\n",
    "if figure == \"1\":\n",
    "    rectangle()\n",
    "\n",
    "elif figure == \"2\":\n",
    "    triangle()\n",
    "\n",
    "elif figure == \"3\":\n",
    "    circle()\n",
    "\n",
    "else:\n",
    "    print(\"Error\")"
   ]
  },
  {
   "cell_type": "code",
   "execution_count": 111,
   "metadata": {},
   "outputs": [
    {
     "name": "stdout",
     "output_type": "stream",
     "text": [
      "0\n",
      "Negativ\n"
     ]
    }
   ],
   "source": [
    "def positive():\n",
    "    print(\"Positiv\")\n",
    "\n",
    "\n",
    "def negativ():\n",
    "    print(\"Negativ\")\n",
    "\n",
    "\n",
    "def test():\n",
    "    a = int(input())\n",
    "    if a > 0:\n",
    "        positive()\n",
    "    else:\n",
    "        negativ()\n",
    "\n",
    "\n",
    "test()"
   ]
  },
  {
   "cell_type": "code",
   "execution_count": 70,
   "metadata": {},
   "outputs": [
    {
     "ename": "TypeError",
     "evalue": "forecast() takes 0 positional arguments but 1 was given",
     "output_type": "error",
     "traceback": [
      "\u001b[0;31m---------------------------------------------------------------------------\u001b[0m",
      "\u001b[0;31mTypeError\u001b[0m                                 Traceback (most recent call last)",
      "\u001b[0;32m<ipython-input-70-9cb96a387fce>\u001b[0m in \u001b[0;36m<module>\u001b[0;34m\u001b[0m\n\u001b[1;32m      1\u001b[0m \u001b[0mcandy\u001b[0m\u001b[0;34m=\u001b[0m\u001b[0;34m[\u001b[0m\u001b[0;34m-\u001b[0m\u001b[0;36m1\u001b[0m\u001b[0;34m]\u001b[0m\u001b[0;34m\u001b[0m\u001b[0;34m\u001b[0m\u001b[0m\n\u001b[0;32m----> 2\u001b[0;31m \u001b[0mforecast\u001b[0m\u001b[0;34m(\u001b[0m\u001b[0mcandy\u001b[0m\u001b[0;34m)\u001b[0m\u001b[0;34m\u001b[0m\u001b[0;34m\u001b[0m\u001b[0m\n\u001b[0m",
      "\u001b[0;31mTypeError\u001b[0m: forecast() takes 0 positional arguments but 1 was given"
     ]
    }
   ],
   "source": []
  },
  {
   "cell_type": "code",
   "execution_count": 110,
   "metadata": {
    "scrolled": true
   },
   "outputs": [
    {
     "name": "stdout",
     "output_type": "stream",
     "text": [
      "4\n",
      "Positiv\n"
     ]
    }
   ],
   "source": [
    "def positive():\n",
    "    return \"Positiv\"\n",
    "\n",
    "\n",
    "def negativ():\n",
    "    return(\"Negativ\")\n",
    "\n",
    "\n",
    "def test():\n",
    "    a = int(input())\n",
    "    if a > 0:\n",
    "        print(positive())\n",
    "    else:\n",
    "        print(negativ())\n",
    "\n",
    "\n",
    "test()"
   ]
  },
  {
   "cell_type": "code",
   "execution_count": null,
   "metadata": {},
   "outputs": [],
   "source": [
    "def positive():\n",
    "    return \"Positiv\"\n",
    "\n",
    "\n",
    "def negativ():\n",
    "    return(\"Negativ\")\n",
    "\n",
    "\n",
    "def test():\n",
    "    a = int(input())\n",
    "    result = 0\n",
    "    \n",
    "    if a > 0:\n",
    "        result = positive()\n",
    "    else:\n",
    "        result = negativ()\n",
    "        \n",
    "    print(result)\n",
    "\n",
    "test()"
   ]
  }
 ],
 "metadata": {
  "kernelspec": {
   "display_name": "Python 3",
   "language": "python",
   "name": "python3"
  },
  "language_info": {
   "codemirror_mode": {
    "name": "ipython",
    "version": 3
   },
   "file_extension": ".py",
   "mimetype": "text/x-python",
   "name": "python",
   "nbconvert_exporter": "python",
   "pygments_lexer": "ipython3",
   "version": "3.8.5"
  },
  "nbTranslate": {
   "displayLangs": [
    "*"
   ],
   "hotkey": "alt-t",
   "langInMainMenu": true,
   "sourceLang": "en",
   "targetLang": "fr",
   "useGoogleTranslate": true
  },
  "toc": {
   "base_numbering": 1,
   "nav_menu": {},
   "number_sections": true,
   "sideBar": true,
   "skip_h1_title": false,
   "title_cell": "Table of Contents",
   "title_sidebar": "Contents",
   "toc_cell": false,
   "toc_position": {},
   "toc_section_display": true,
   "toc_window_display": false
  },
  "varInspector": {
   "cols": {
    "lenName": 16,
    "lenType": 16,
    "lenVar": 40
   },
   "kernels_config": {
    "python": {
     "delete_cmd_postfix": "",
     "delete_cmd_prefix": "del ",
     "library": "var_list.py",
     "varRefreshCmd": "print(var_dic_list())"
    },
    "r": {
     "delete_cmd_postfix": ") ",
     "delete_cmd_prefix": "rm(",
     "library": "var_list.r",
     "varRefreshCmd": "cat(var_dic_list()) "
    }
   },
   "types_to_exclude": [
    "module",
    "function",
    "builtin_function_or_method",
    "instance",
    "_Feature"
   ],
   "window_display": false
  }
 },
 "nbformat": 4,
 "nbformat_minor": 4
}
