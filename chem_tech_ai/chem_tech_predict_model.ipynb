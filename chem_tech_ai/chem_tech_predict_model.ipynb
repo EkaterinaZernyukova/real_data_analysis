{
 "cells": [
  {
   "cell_type": "raw",
   "metadata": {},
   "source": [
    "Используя данные представленные по ссылке Train_Data_200k создать модель, нацеленную на прогнозирование значений параметров Target_1...4 по значениям Tag_1...79.\n",
    "После получения модели применить ее к тестовой выборке представленной в архиве ML_Data в файле test_data_100k и на основании значений Tag_1...79 получить прогнозы для параметров Target_1...4.\n",
    "Полученные прогнозы и топ-10 значимых тэгов направить в качестве результата в ответном письме."
   ]
  },
  {
   "cell_type": "code",
   "execution_count": 1,
   "metadata": {},
   "outputs": [],
   "source": [
    "import pandas as pd\n",
    "import numpy as np\n",
    "import seaborn as sns\n",
    "sns.set()\n",
    "import matplotlib.pyplot as plt\n",
    "from scipy.stats import kendalltau\n",
    "\n",
    "from sklearn.ensemble import RandomForestRegressor\n",
    "from sklearn.model_selection import train_test_split"
   ]
  },
  {
   "cell_type": "code",
   "execution_count": 2,
   "metadata": {},
   "outputs": [],
   "source": [
    "df_train=pd.read_csv('/opt/kate_repo/real_data_analysis/chem_tech_ai/train_data_200k.csv')"
   ]
  },
  {
   "cell_type": "code",
   "execution_count": 3,
   "metadata": {},
   "outputs": [
    {
     "data": {
      "text/html": [
       "<div>\n",
       "<style scoped>\n",
       "    .dataframe tbody tr th:only-of-type {\n",
       "        vertical-align: middle;\n",
       "    }\n",
       "\n",
       "    .dataframe tbody tr th {\n",
       "        vertical-align: top;\n",
       "    }\n",
       "\n",
       "    .dataframe thead th {\n",
       "        text-align: right;\n",
       "    }\n",
       "</style>\n",
       "<table border=\"1\" class=\"dataframe\">\n",
       "  <thead>\n",
       "    <tr style=\"text-align: right;\">\n",
       "      <th></th>\n",
       "      <th>Unnamed: 0</th>\n",
       "      <th>tag1</th>\n",
       "      <th>tag2</th>\n",
       "      <th>tag3</th>\n",
       "      <th>tag4</th>\n",
       "      <th>tag5</th>\n",
       "      <th>tag6</th>\n",
       "      <th>tag7</th>\n",
       "      <th>tag8</th>\n",
       "      <th>tag9</th>\n",
       "      <th>...</th>\n",
       "      <th>tag74</th>\n",
       "      <th>tag75</th>\n",
       "      <th>tag76</th>\n",
       "      <th>tag77</th>\n",
       "      <th>tag78</th>\n",
       "      <th>tag79</th>\n",
       "      <th>target1</th>\n",
       "      <th>target2</th>\n",
       "      <th>target3</th>\n",
       "      <th>target4</th>\n",
       "    </tr>\n",
       "  </thead>\n",
       "  <tbody>\n",
       "    <tr>\n",
       "      <th>0</th>\n",
       "      <td>2016-08-18 00:00:00</td>\n",
       "      <td>15.78042</td>\n",
       "      <td>NaN</td>\n",
       "      <td>NaN</td>\n",
       "      <td>NaN</td>\n",
       "      <td>NaN</td>\n",
       "      <td>NaN</td>\n",
       "      <td>NaN</td>\n",
       "      <td>NaN</td>\n",
       "      <td>NaN</td>\n",
       "      <td>...</td>\n",
       "      <td>53.02723</td>\n",
       "      <td>66.30531</td>\n",
       "      <td>55.10297</td>\n",
       "      <td>73.65612</td>\n",
       "      <td>NaN</td>\n",
       "      <td>NaN</td>\n",
       "      <td>NaN</td>\n",
       "      <td>NaN</td>\n",
       "      <td>NaN</td>\n",
       "      <td>NaN</td>\n",
       "    </tr>\n",
       "    <tr>\n",
       "      <th>1</th>\n",
       "      <td>2016-08-18 00:01:00</td>\n",
       "      <td>15.80157</td>\n",
       "      <td>NaN</td>\n",
       "      <td>NaN</td>\n",
       "      <td>NaN</td>\n",
       "      <td>NaN</td>\n",
       "      <td>NaN</td>\n",
       "      <td>53.06440</td>\n",
       "      <td>NaN</td>\n",
       "      <td>NaN</td>\n",
       "      <td>...</td>\n",
       "      <td>53.05109</td>\n",
       "      <td>66.30098</td>\n",
       "      <td>55.11534</td>\n",
       "      <td>NaN</td>\n",
       "      <td>NaN</td>\n",
       "      <td>NaN</td>\n",
       "      <td>NaN</td>\n",
       "      <td>NaN</td>\n",
       "      <td>NaN</td>\n",
       "      <td>NaN</td>\n",
       "    </tr>\n",
       "    <tr>\n",
       "      <th>2</th>\n",
       "      <td>2016-08-18 00:02:00</td>\n",
       "      <td>15.68913</td>\n",
       "      <td>NaN</td>\n",
       "      <td>NaN</td>\n",
       "      <td>NaN</td>\n",
       "      <td>NaN</td>\n",
       "      <td>NaN</td>\n",
       "      <td>NaN</td>\n",
       "      <td>NaN</td>\n",
       "      <td>NaN</td>\n",
       "      <td>...</td>\n",
       "      <td>53.06495</td>\n",
       "      <td>66.30359</td>\n",
       "      <td>55.09395</td>\n",
       "      <td>NaN</td>\n",
       "      <td>NaN</td>\n",
       "      <td>55.07365</td>\n",
       "      <td>NaN</td>\n",
       "      <td>NaN</td>\n",
       "      <td>NaN</td>\n",
       "      <td>NaN</td>\n",
       "    </tr>\n",
       "    <tr>\n",
       "      <th>3</th>\n",
       "      <td>2016-08-18 00:03:00</td>\n",
       "      <td>15.75101</td>\n",
       "      <td>NaN</td>\n",
       "      <td>20.26209</td>\n",
       "      <td>NaN</td>\n",
       "      <td>NaN</td>\n",
       "      <td>NaN</td>\n",
       "      <td>52.95166</td>\n",
       "      <td>NaN</td>\n",
       "      <td>NaN</td>\n",
       "      <td>...</td>\n",
       "      <td>53.06760</td>\n",
       "      <td>66.28421</td>\n",
       "      <td>55.12513</td>\n",
       "      <td>NaN</td>\n",
       "      <td>92.46913</td>\n",
       "      <td>NaN</td>\n",
       "      <td>NaN</td>\n",
       "      <td>NaN</td>\n",
       "      <td>NaN</td>\n",
       "      <td>NaN</td>\n",
       "    </tr>\n",
       "    <tr>\n",
       "      <th>4</th>\n",
       "      <td>2016-08-18 00:04:00</td>\n",
       "      <td>15.57773</td>\n",
       "      <td>NaN</td>\n",
       "      <td>NaN</td>\n",
       "      <td>NaN</td>\n",
       "      <td>NaN</td>\n",
       "      <td>NaN</td>\n",
       "      <td>NaN</td>\n",
       "      <td>NaN</td>\n",
       "      <td>NaN</td>\n",
       "      <td>...</td>\n",
       "      <td>53.09679</td>\n",
       "      <td>66.26472</td>\n",
       "      <td>55.15526</td>\n",
       "      <td>73.67016</td>\n",
       "      <td>NaN</td>\n",
       "      <td>NaN</td>\n",
       "      <td>NaN</td>\n",
       "      <td>NaN</td>\n",
       "      <td>NaN</td>\n",
       "      <td>NaN</td>\n",
       "    </tr>\n",
       "    <tr>\n",
       "      <th>5</th>\n",
       "      <td>2016-08-18 00:05:00</td>\n",
       "      <td>15.57733</td>\n",
       "      <td>NaN</td>\n",
       "      <td>NaN</td>\n",
       "      <td>NaN</td>\n",
       "      <td>NaN</td>\n",
       "      <td>NaN</td>\n",
       "      <td>52.95227</td>\n",
       "      <td>47.23787</td>\n",
       "      <td>NaN</td>\n",
       "      <td>...</td>\n",
       "      <td>53.07378</td>\n",
       "      <td>66.28927</td>\n",
       "      <td>55.15840</td>\n",
       "      <td>NaN</td>\n",
       "      <td>NaN</td>\n",
       "      <td>NaN</td>\n",
       "      <td>NaN</td>\n",
       "      <td>NaN</td>\n",
       "      <td>NaN</td>\n",
       "      <td>NaN</td>\n",
       "    </tr>\n",
       "    <tr>\n",
       "      <th>6</th>\n",
       "      <td>2016-08-18 00:06:00</td>\n",
       "      <td>15.61941</td>\n",
       "      <td>NaN</td>\n",
       "      <td>NaN</td>\n",
       "      <td>NaN</td>\n",
       "      <td>NaN</td>\n",
       "      <td>NaN</td>\n",
       "      <td>NaN</td>\n",
       "      <td>NaN</td>\n",
       "      <td>NaN</td>\n",
       "      <td>...</td>\n",
       "      <td>53.06260</td>\n",
       "      <td>66.27256</td>\n",
       "      <td>55.12681</td>\n",
       "      <td>NaN</td>\n",
       "      <td>NaN</td>\n",
       "      <td>NaN</td>\n",
       "      <td>NaN</td>\n",
       "      <td>NaN</td>\n",
       "      <td>NaN</td>\n",
       "      <td>NaN</td>\n",
       "    </tr>\n",
       "    <tr>\n",
       "      <th>7</th>\n",
       "      <td>2016-08-18 00:07:00</td>\n",
       "      <td>15.62034</td>\n",
       "      <td>NaN</td>\n",
       "      <td>NaN</td>\n",
       "      <td>NaN</td>\n",
       "      <td>NaN</td>\n",
       "      <td>NaN</td>\n",
       "      <td>NaN</td>\n",
       "      <td>NaN</td>\n",
       "      <td>NaN</td>\n",
       "      <td>...</td>\n",
       "      <td>53.02694</td>\n",
       "      <td>66.28844</td>\n",
       "      <td>55.13467</td>\n",
       "      <td>NaN</td>\n",
       "      <td>NaN</td>\n",
       "      <td>55.23989</td>\n",
       "      <td>NaN</td>\n",
       "      <td>NaN</td>\n",
       "      <td>NaN</td>\n",
       "      <td>NaN</td>\n",
       "    </tr>\n",
       "    <tr>\n",
       "      <th>8</th>\n",
       "      <td>2016-08-18 00:08:00</td>\n",
       "      <td>15.46382</td>\n",
       "      <td>NaN</td>\n",
       "      <td>NaN</td>\n",
       "      <td>NaN</td>\n",
       "      <td>NaN</td>\n",
       "      <td>NaN</td>\n",
       "      <td>NaN</td>\n",
       "      <td>NaN</td>\n",
       "      <td>NaN</td>\n",
       "      <td>...</td>\n",
       "      <td>53.01671</td>\n",
       "      <td>66.27395</td>\n",
       "      <td>55.09196</td>\n",
       "      <td>73.62349</td>\n",
       "      <td>92.47112</td>\n",
       "      <td>NaN</td>\n",
       "      <td>NaN</td>\n",
       "      <td>NaN</td>\n",
       "      <td>NaN</td>\n",
       "      <td>NaN</td>\n",
       "    </tr>\n",
       "    <tr>\n",
       "      <th>9</th>\n",
       "      <td>2016-08-18 00:09:00</td>\n",
       "      <td>15.16291</td>\n",
       "      <td>NaN</td>\n",
       "      <td>NaN</td>\n",
       "      <td>NaN</td>\n",
       "      <td>NaN</td>\n",
       "      <td>NaN</td>\n",
       "      <td>NaN</td>\n",
       "      <td>NaN</td>\n",
       "      <td>NaN</td>\n",
       "      <td>...</td>\n",
       "      <td>53.00344</td>\n",
       "      <td>66.27372</td>\n",
       "      <td>55.07862</td>\n",
       "      <td>NaN</td>\n",
       "      <td>NaN</td>\n",
       "      <td>NaN</td>\n",
       "      <td>0.00112</td>\n",
       "      <td>0.048361</td>\n",
       "      <td>0.944454</td>\n",
       "      <td>0.006065</td>\n",
       "    </tr>\n",
       "  </tbody>\n",
       "</table>\n",
       "<p>10 rows × 84 columns</p>\n",
       "</div>"
      ],
      "text/plain": [
       "            Unnamed: 0      tag1  tag2      tag3  tag4  tag5  tag6      tag7  \\\n",
       "0  2016-08-18 00:00:00  15.78042   NaN       NaN   NaN   NaN   NaN       NaN   \n",
       "1  2016-08-18 00:01:00  15.80157   NaN       NaN   NaN   NaN   NaN  53.06440   \n",
       "2  2016-08-18 00:02:00  15.68913   NaN       NaN   NaN   NaN   NaN       NaN   \n",
       "3  2016-08-18 00:03:00  15.75101   NaN  20.26209   NaN   NaN   NaN  52.95166   \n",
       "4  2016-08-18 00:04:00  15.57773   NaN       NaN   NaN   NaN   NaN       NaN   \n",
       "5  2016-08-18 00:05:00  15.57733   NaN       NaN   NaN   NaN   NaN  52.95227   \n",
       "6  2016-08-18 00:06:00  15.61941   NaN       NaN   NaN   NaN   NaN       NaN   \n",
       "7  2016-08-18 00:07:00  15.62034   NaN       NaN   NaN   NaN   NaN       NaN   \n",
       "8  2016-08-18 00:08:00  15.46382   NaN       NaN   NaN   NaN   NaN       NaN   \n",
       "9  2016-08-18 00:09:00  15.16291   NaN       NaN   NaN   NaN   NaN       NaN   \n",
       "\n",
       "       tag8  tag9  ...     tag74     tag75     tag76     tag77     tag78  \\\n",
       "0       NaN   NaN  ...  53.02723  66.30531  55.10297  73.65612       NaN   \n",
       "1       NaN   NaN  ...  53.05109  66.30098  55.11534       NaN       NaN   \n",
       "2       NaN   NaN  ...  53.06495  66.30359  55.09395       NaN       NaN   \n",
       "3       NaN   NaN  ...  53.06760  66.28421  55.12513       NaN  92.46913   \n",
       "4       NaN   NaN  ...  53.09679  66.26472  55.15526  73.67016       NaN   \n",
       "5  47.23787   NaN  ...  53.07378  66.28927  55.15840       NaN       NaN   \n",
       "6       NaN   NaN  ...  53.06260  66.27256  55.12681       NaN       NaN   \n",
       "7       NaN   NaN  ...  53.02694  66.28844  55.13467       NaN       NaN   \n",
       "8       NaN   NaN  ...  53.01671  66.27395  55.09196  73.62349  92.47112   \n",
       "9       NaN   NaN  ...  53.00344  66.27372  55.07862       NaN       NaN   \n",
       "\n",
       "      tag79  target1   target2   target3   target4  \n",
       "0       NaN      NaN       NaN       NaN       NaN  \n",
       "1       NaN      NaN       NaN       NaN       NaN  \n",
       "2  55.07365      NaN       NaN       NaN       NaN  \n",
       "3       NaN      NaN       NaN       NaN       NaN  \n",
       "4       NaN      NaN       NaN       NaN       NaN  \n",
       "5       NaN      NaN       NaN       NaN       NaN  \n",
       "6       NaN      NaN       NaN       NaN       NaN  \n",
       "7  55.23989      NaN       NaN       NaN       NaN  \n",
       "8       NaN      NaN       NaN       NaN       NaN  \n",
       "9       NaN  0.00112  0.048361  0.944454  0.006065  \n",
       "\n",
       "[10 rows x 84 columns]"
      ]
     },
     "execution_count": 3,
     "metadata": {},
     "output_type": "execute_result"
    }
   ],
   "source": [
    "df_train.head(10)"
   ]
  },
  {
   "cell_type": "code",
   "execution_count": 4,
   "metadata": {},
   "outputs": [
    {
     "data": {
      "text/plain": [
       "(200000, 84)"
      ]
     },
     "execution_count": 4,
     "metadata": {},
     "output_type": "execute_result"
    }
   ],
   "source": [
    "df_train.shape"
   ]
  },
  {
   "cell_type": "code",
   "execution_count": 5,
   "metadata": {},
   "outputs": [
    {
     "data": {
      "text/plain": [
       "Unnamed: 0         0\n",
       "tag1              66\n",
       "tag2           90630\n",
       "tag3           90544\n",
       "tag4          199915\n",
       "               ...  \n",
       "tag79         151442\n",
       "target1            9\n",
       "target2            9\n",
       "target3            9\n",
       "target4            9\n",
       "Length: 84, dtype: int64"
      ]
     },
     "execution_count": 5,
     "metadata": {},
     "output_type": "execute_result"
    }
   ],
   "source": [
    "# количество строк с NaN\n",
    "df_train.isnull().sum()"
   ]
  },
  {
   "cell_type": "raw",
   "metadata": {},
   "source": [
    "Параметры Target_1...4 имеют по 9 пропущенных значений. \n",
    "Строки с отсутствующими данными в предсказываемых параметрах невозможно применять в предсказательной модели, поэтому они будут удалены."
   ]
  },
  {
   "cell_type": "code",
   "execution_count": 6,
   "metadata": {},
   "outputs": [],
   "source": [
    "# Удаление строк с NaN для столбцов Target_1...4\n",
    "df_train=df_train.dropna(subset=['target1'])"
   ]
  },
  {
   "cell_type": "code",
   "execution_count": 7,
   "metadata": {},
   "outputs": [],
   "source": [
    "# Заполнение отсутствующих данных значением 0\n",
    "df_train= df_train.fillna(0)"
   ]
  },
  {
   "cell_type": "code",
   "execution_count": 8,
   "metadata": {},
   "outputs": [
    {
     "name": "stdout",
     "output_type": "stream",
     "text": [
      "<class 'pandas.core.frame.DataFrame'>\n",
      "Int64Index: 199991 entries, 9 to 199999\n",
      "Data columns (total 84 columns):\n",
      " #   Column      Non-Null Count   Dtype  \n",
      "---  ------      --------------   -----  \n",
      " 0   Unnamed: 0  199991 non-null  object \n",
      " 1   tag1        199991 non-null  float64\n",
      " 2   tag2        199991 non-null  float64\n",
      " 3   tag3        199991 non-null  float64\n",
      " 4   tag4        199991 non-null  float64\n",
      " 5   tag5        199991 non-null  float64\n",
      " 6   tag6        199991 non-null  float64\n",
      " 7   tag7        199991 non-null  float64\n",
      " 8   tag8        199991 non-null  float64\n",
      " 9   tag9        199991 non-null  float64\n",
      " 10  tag10       199991 non-null  float64\n",
      " 11  tag11       199991 non-null  float64\n",
      " 12  tag12       199991 non-null  float64\n",
      " 13  tag13       199991 non-null  float64\n",
      " 14  tag14       199991 non-null  float64\n",
      " 15  tag15       199991 non-null  float64\n",
      " 16  tag16       199991 non-null  float64\n",
      " 17  tag17       199991 non-null  float64\n",
      " 18  tag18       199991 non-null  float64\n",
      " 19  tag19       199991 non-null  float64\n",
      " 20  tag20       199991 non-null  float64\n",
      " 21  tag21       199991 non-null  float64\n",
      " 22  tag22       199991 non-null  float64\n",
      " 23  tag23       199991 non-null  float64\n",
      " 24  tag24       199991 non-null  float64\n",
      " 25  tag25       199991 non-null  float64\n",
      " 26  tag26       199991 non-null  float64\n",
      " 27  tag27       199991 non-null  float64\n",
      " 28  tag28       199991 non-null  float64\n",
      " 29  tag29       199991 non-null  float64\n",
      " 30  tag30       199991 non-null  float64\n",
      " 31  tag31       199991 non-null  float64\n",
      " 32  tag32       199991 non-null  float64\n",
      " 33  tag33       199991 non-null  float64\n",
      " 34  tag34       199991 non-null  float64\n",
      " 35  tag35       199991 non-null  float64\n",
      " 36  tag36       199991 non-null  float64\n",
      " 37  tag37       199991 non-null  float64\n",
      " 38  tag38       199991 non-null  float64\n",
      " 39  tag39       199991 non-null  float64\n",
      " 40  tag40       199991 non-null  float64\n",
      " 41  tag41       199991 non-null  float64\n",
      " 42  tag42       199991 non-null  float64\n",
      " 43  tag43       199991 non-null  float64\n",
      " 44  tag44       199991 non-null  float64\n",
      " 45  tag45       199991 non-null  float64\n",
      " 46  tag46       199991 non-null  float64\n",
      " 47  tag47       199991 non-null  float64\n",
      " 48  tag48       199991 non-null  float64\n",
      " 49  tag49       199991 non-null  float64\n",
      " 50  tag50       199991 non-null  float64\n",
      " 51  tag51       199991 non-null  float64\n",
      " 52  tag52       199991 non-null  float64\n",
      " 53  tag53       199991 non-null  float64\n",
      " 54  tag54       199991 non-null  float64\n",
      " 55  tag55       199991 non-null  float64\n",
      " 56  tag56       199991 non-null  float64\n",
      " 57  tag57       199991 non-null  float64\n",
      " 58  tag58       199991 non-null  float64\n",
      " 59  tag59       199991 non-null  float64\n",
      " 60  tag60       199991 non-null  float64\n",
      " 61  tag61       199991 non-null  float64\n",
      " 62  tag62       199991 non-null  float64\n",
      " 63  tag63       199991 non-null  float64\n",
      " 64  tag64       199991 non-null  float64\n",
      " 65  tag65       199991 non-null  float64\n",
      " 66  tag66       199991 non-null  float64\n",
      " 67  tag67       199991 non-null  float64\n",
      " 68  tag68       199991 non-null  float64\n",
      " 69  tag69       199991 non-null  float64\n",
      " 70  tag70       199991 non-null  float64\n",
      " 71  tag71       199991 non-null  float64\n",
      " 72  tag72       199991 non-null  float64\n",
      " 73  tag73       199991 non-null  float64\n",
      " 74  tag74       199991 non-null  float64\n",
      " 75  tag75       199991 non-null  float64\n",
      " 76  tag76       199991 non-null  float64\n",
      " 77  tag77       199991 non-null  float64\n",
      " 78  tag78       199991 non-null  float64\n",
      " 79  tag79       199991 non-null  float64\n",
      " 80  target1     199991 non-null  float64\n",
      " 81  target2     199991 non-null  float64\n",
      " 82  target3     199991 non-null  float64\n",
      " 83  target4     199991 non-null  float64\n",
      "dtypes: float64(83), object(1)\n",
      "memory usage: 129.7+ MB\n"
     ]
    }
   ],
   "source": [
    "df_train.info()"
   ]
  },
  {
   "cell_type": "code",
   "execution_count": 9,
   "metadata": {},
   "outputs": [],
   "source": [
    "# корректировка формата даты для Unnamed: 0\n",
    "df_train['Unnamed: 0'] = pd.to_datetime(df_train['Unnamed: 0'])"
   ]
  },
  {
   "cell_type": "code",
   "execution_count": 10,
   "metadata": {},
   "outputs": [],
   "source": [
    "# Удаление выбросов с нулевым значением признака target1\n",
    "\n",
    "# len(df_train[df_train['target1']>0.000)"
   ]
  },
  {
   "cell_type": "code",
   "execution_count": 11,
   "metadata": {},
   "outputs": [
    {
     "data": {
      "text/plain": [
       "count    199991.000000\n",
       "mean          0.001156\n",
       "std           0.000085\n",
       "min           0.000826\n",
       "25%           0.001101\n",
       "50%           0.001155\n",
       "75%           0.001206\n",
       "max           0.001865\n",
       "Name: target1, dtype: float64"
      ]
     },
     "execution_count": 11,
     "metadata": {},
     "output_type": "execute_result"
    }
   ],
   "source": [
    "# Описательная статистика\n",
    "df_train['target1'].describe()"
   ]
  },
  {
   "cell_type": "code",
   "execution_count": 12,
   "metadata": {},
   "outputs": [
    {
     "name": "stderr",
     "output_type": "stream",
     "text": [
      "/home/kate/.local/lib/python3.8/site-packages/seaborn/_decorators.py:36: FutureWarning: Pass the following variable as a keyword arg: x. From version 0.12, the only valid positional argument will be `data`, and passing other arguments without an explicit keyword will result in an error or misinterpretation.\n",
      "  warnings.warn(\n"
     ]
    },
    {
     "data": {
      "text/plain": [
       "<AxesSubplot:xlabel='target1'>"
      ]
     },
     "execution_count": 12,
     "metadata": {},
     "output_type": "execute_result"
    },
    {
     "data": {
      "image/png": "[encoded data removed]",
      "text/plain": [
       "<Figure size 432x288 with 1 Axes>"
      ]
     },
     "metadata": {},
     "output_type": "display_data"
    }
   ],
   "source": [
    "# Распределение параметра target1\n",
    "sns.boxplot(df_train['target1'], orient='h')"
   ]
  },
  {
   "cell_type": "code",
   "execution_count": 13,
   "metadata": {},
   "outputs": [
    {
     "data": {
      "text/plain": [
       "<AxesSubplot:>"
      ]
     },
     "execution_count": 13,
     "metadata": {},
     "output_type": "execute_result"
    },
    {
     "data": {
      "image/png": "[encoded data removed]",
      "text/plain": [
       "<Figure size 432x288 with 1 Axes>"
      ]
     },
     "metadata": {},
     "output_type": "display_data"
    }
   ],
   "source": [
    "df_train['target1'].hist(bins=200)"
   ]
  },
  {
   "cell_type": "code",
   "execution_count": 14,
   "metadata": {},
   "outputs": [
    {
     "data": {
      "text/plain": [
       "<AxesSubplot:>"
      ]
     },
     "execution_count": 14,
     "metadata": {},
     "output_type": "execute_result"
    },
    {
     "data": {
      "image/png": "[encoded data removed]",
      "text/plain": [
       "<Figure size 432x288 with 1 Axes>"
      ]
     },
     "metadata": {},
     "output_type": "display_data"
    }
   ],
   "source": [
    "df_train['target2'].hist(bins=200)"
   ]
  },
  {
   "cell_type": "code",
   "execution_count": 15,
   "metadata": {},
   "outputs": [
    {
     "name": "stderr",
     "output_type": "stream",
     "text": [
      "/home/kate/.local/lib/python3.8/site-packages/seaborn/_decorators.py:36: FutureWarning: Pass the following variable as a keyword arg: x. From version 0.12, the only valid positional argument will be `data`, and passing other arguments without an explicit keyword will result in an error or misinterpretation.\n",
      "  warnings.warn(\n"
     ]
    },
    {
     "data": {
      "text/plain": [
       "<AxesSubplot:xlabel='target2'>"
      ]
     },
     "execution_count": 15,
     "metadata": {},
     "output_type": "execute_result"
    },
    {
     "data": {
      "image/png": "[encoded data removed]",
      "text/plain": [
       "<Figure size 432x288 with 1 Axes>"
      ]
     },
     "metadata": {},
     "output_type": "display_data"
    }
   ],
   "source": [
    "sns.boxplot(df_train['target2'], orient='h')"
   ]
  },
  {
   "cell_type": "code",
   "execution_count": 16,
   "metadata": {},
   "outputs": [
    {
     "data": {
      "text/plain": [
       "<AxesSubplot:>"
      ]
     },
     "execution_count": 16,
     "metadata": {},
     "output_type": "execute_result"
    },
    {
     "data": {
      "image/png": "[encoded data removed]",
      "text/plain": [
       "<Figure size 432x288 with 1 Axes>"
      ]
     },
     "metadata": {},
     "output_type": "display_data"
    }
   ],
   "source": [
    "df_train['target3'].hist(bins=200)"
   ]
  },
  {
   "cell_type": "code",
   "execution_count": 17,
   "metadata": {},
   "outputs": [
    {
     "name": "stderr",
     "output_type": "stream",
     "text": [
      "/home/kate/.local/lib/python3.8/site-packages/seaborn/_decorators.py:36: FutureWarning: Pass the following variable as a keyword arg: x. From version 0.12, the only valid positional argument will be `data`, and passing other arguments without an explicit keyword will result in an error or misinterpretation.\n",
      "  warnings.warn(\n"
     ]
    },
    {
     "data": {
      "text/plain": [
       "<AxesSubplot:xlabel='target3'>"
      ]
     },
     "execution_count": 17,
     "metadata": {},
     "output_type": "execute_result"
    },
    {
     "data": {
      "image/png": "[encoded data removed]",
      "text/plain": [
       "<Figure size 432x288 with 1 Axes>"
      ]
     },
     "metadata": {},
     "output_type": "display_data"
    }
   ],
   "source": [
    "sns.boxplot(df_train['target3'], orient='h')"
   ]
  },
  {
   "cell_type": "code",
   "execution_count": 18,
   "metadata": {},
   "outputs": [
    {
     "data": {
      "text/plain": [
       "<AxesSubplot:>"
      ]
     },
     "execution_count": 18,
     "metadata": {},
     "output_type": "execute_result"
    },
    {
     "data": {
      "image/png": "[encoded data removed]",
      "text/plain": [
       "<Figure size 432x288 with 1 Axes>"
      ]
     },
     "metadata": {},
     "output_type": "display_data"
    }
   ],
   "source": [
    "df_train['target4'].hist(bins=200)"
   ]
  },
  {
   "cell_type": "code",
   "execution_count": 19,
   "metadata": {},
   "outputs": [
    {
     "name": "stderr",
     "output_type": "stream",
     "text": [
      "/home/kate/.local/lib/python3.8/site-packages/seaborn/_decorators.py:36: FutureWarning: Pass the following variable as a keyword arg: x. From version 0.12, the only valid positional argument will be `data`, and passing other arguments without an explicit keyword will result in an error or misinterpretation.\n",
      "  warnings.warn(\n"
     ]
    },
    {
     "data": {
      "text/plain": [
       "<AxesSubplot:xlabel='target4'>"
      ]
     },
     "execution_count": 19,
     "metadata": {},
     "output_type": "execute_result"
    },
    {
     "data": {
      "image/png": "[encoded data removed]",
      "text/plain": [
       "<Figure size 432x288 with 1 Axes>"
      ]
     },
     "metadata": {},
     "output_type": "display_data"
    }
   ],
   "source": [
    "sns.boxplot(df_train['target4'], orient='h')"
   ]
  },
  {
   "cell_type": "markdown",
   "metadata": {},
   "source": [
    "Подбор коэффициентов для регрессионного анализа\n",
    "1. Линейная зависимость переменных\n",
    "2. Нормальность распределения остатков\n",
    "3. Гетероскедастичность\n",
    "4. Мультиколлинеарность\n",
    "5. Нормальное распределение переменных"
   ]
  },
  {
   "cell_type": "raw",
   "metadata": {},
   "source": [
    "Выбор метрик, которые будут использованы для прогнозирования"
   ]
  },
  {
   "cell_type": "raw",
   "metadata": {},
   "source": [
    "статистическая взимосвязь:"
   ]
  },
  {
   "cell_type": "raw",
   "metadata": {},
   "source": [
    "#Корреляция Спирмана\n",
    "fig, ax = plt.subplots(figsize=(200, 200))\n",
    "sns.heatmap(df_train.corr(method=\"spearman\"),\n",
    "            annot=True)"
   ]
  },
  {
   "cell_type": "code",
   "execution_count": 24,
   "metadata": {},
   "outputs": [
    {
     "name": "stdout",
     "output_type": "stream",
     "text": [
      "Kendall correlation coefficient: -0.157\n",
      "Samples are correlated (reject H0) p=0.000\n"
     ]
    }
   ],
   "source": [
    "# Расчет корреляции Кендалла\n",
    "# tags=df_train.drop(df_train.columns[[80,81,82,83]],axis=1)\n",
    "tags=df_train[[\"tag1\",\"tag2\",\"tag3\",\"tag4\"]]\n",
    "targets=df_train[[\"target1\",\"target2\",\"target3\",\"target4\"]]\n",
    "coef, p = kendalltau(tags, targets)\n",
    "\n",
    "print('Kendall correlation coefficient: %.3f' % coef)\n",
    "# Интерпретация значений корреляции\n",
    "alpha = 0.05\n",
    "if p > alpha:\n",
    "    print('Выборки не коррелируют(fail to reject H0) p=%.3f' % p)\n",
    "else:\n",
    "    print('Выборки коррелируют (reject H0) p=%.3f' % p)"
   ]
  },
  {
   "cell_type": "markdown",
   "metadata": {},
   "source": []
  },
  {
   "cell_type": "raw",
   "metadata": {},
   "source": [
    "# линейная зависимость\n",
    "from numpy import cov\n",
    "covariance = cov(tags, targets) #не работает, потому что параметров больше 2х"
   ]
  },
  {
   "cell_type": "raw",
   "metadata": {},
   "source": [
    "sklearn.linear_model.LinearRegression"
   ]
  },
  {
   "cell_type": "code",
   "execution_count": 64,
   "metadata": {},
   "outputs": [],
   "source": [
    "from sklearn import linear_model as lm\n",
    "\n",
    "import statsmodels.api as sm\n",
    "\n",
    "target1 = df_train['target1']\n",
    "res = sm.OLS(target1, df_train.iloc[:,1:-4], missing='drop').fit()"
   ]
  },
  {
   "cell_type": "code",
   "execution_count": 65,
   "metadata": {},
   "outputs": [
    {
     "data": {
      "text/html": [
       "<table class=\"simpletable\">\n",
       "<caption>OLS Regression Results</caption>\n",
       "<tr>\n",
       "  <th>Dep. Variable:</th>         <td>target1</td>     <th>  R-squared (uncentered):</th>       <td>   0.999</td> \n",
       "</tr>\n",
       "<tr>\n",
       "  <th>Model:</th>                   <td>OLS</td>       <th>  Adj. R-squared (uncentered):</th>  <td>   0.999</td> \n",
       "</tr>\n",
       "<tr>\n",
       "  <th>Method:</th>             <td>Least Squares</td>  <th>  F-statistic:       </th>           <td>2.107e+06</td>\n",
       "</tr>\n",
       "<tr>\n",
       "  <th>Date:</th>             <td>Sun, 17 Jan 2021</td> <th>  Prob (F-statistic):</th>            <td>  0.00</td>  \n",
       "</tr>\n",
       "<tr>\n",
       "  <th>Time:</th>                 <td>20:36:14</td>     <th>  Log-Likelihood:    </th>          <td>1.7368e+06</td>\n",
       "</tr>\n",
       "<tr>\n",
       "  <th>No. Observations:</th>      <td>199991</td>      <th>  AIC:               </th>          <td>-3.473e+06</td>\n",
       "</tr>\n",
       "<tr>\n",
       "  <th>Df Residuals:</th>          <td>199915</td>      <th>  BIC:               </th>          <td>-3.473e+06</td>\n",
       "</tr>\n",
       "<tr>\n",
       "  <th>Df Model:</th>              <td>    76</td>      <th>                     </th>               <td> </td>    \n",
       "</tr>\n",
       "<tr>\n",
       "  <th>Covariance Type:</th>      <td>nonrobust</td>    <th>                     </th>               <td> </td>    \n",
       "</tr>\n",
       "</table>\n",
       "<table class=\"simpletable\">\n",
       "<tr>\n",
       "    <td></td>       <th>coef</th>     <th>std err</th>      <th>t</th>      <th>P>|t|</th>  <th>[0.025</th>    <th>0.975]</th>  \n",
       "</tr>\n",
       "<tr>\n",
       "  <th>tag1</th>  <td> 7.088e-06</td> <td> 8.63e-08</td> <td>   82.166</td> <td> 0.000</td> <td> 6.92e-06</td> <td> 7.26e-06</td>\n",
       "</tr>\n",
       "<tr>\n",
       "  <th>tag2</th>  <td>  1.82e-05</td> <td> 7.26e-06</td> <td>    2.509</td> <td> 0.012</td> <td> 3.98e-06</td> <td> 3.24e-05</td>\n",
       "</tr>\n",
       "<tr>\n",
       "  <th>tag3</th>  <td>-6.244e-08</td> <td> 4.15e-08</td> <td>   -1.505</td> <td> 0.132</td> <td>-1.44e-07</td> <td> 1.89e-08</td>\n",
       "</tr>\n",
       "<tr>\n",
       "  <th>tag4</th>  <td> 5.346e-07</td> <td> 3.36e-07</td> <td>    1.590</td> <td> 0.112</td> <td>-1.24e-07</td> <td> 1.19e-06</td>\n",
       "</tr>\n",
       "<tr>\n",
       "  <th>tag5</th>  <td> 4.291e-08</td> <td> 1.35e-08</td> <td>    3.186</td> <td> 0.001</td> <td> 1.65e-08</td> <td> 6.93e-08</td>\n",
       "</tr>\n",
       "<tr>\n",
       "  <th>tag6</th>  <td> 1.159e-07</td> <td> 3.07e-08</td> <td>    3.777</td> <td> 0.000</td> <td> 5.57e-08</td> <td> 1.76e-07</td>\n",
       "</tr>\n",
       "<tr>\n",
       "  <th>tag7</th>  <td>-1.364e-08</td> <td> 4.04e-09</td> <td>   -3.378</td> <td> 0.001</td> <td>-2.16e-08</td> <td>-5.73e-09</td>\n",
       "</tr>\n",
       "<tr>\n",
       "  <th>tag8</th>  <td> 1.028e-07</td> <td> 7.66e-09</td> <td>   13.421</td> <td> 0.000</td> <td> 8.78e-08</td> <td> 1.18e-07</td>\n",
       "</tr>\n",
       "<tr>\n",
       "  <th>tag9</th>  <td> 1.063e-07</td> <td> 2.99e-08</td> <td>    3.561</td> <td> 0.000</td> <td> 4.78e-08</td> <td> 1.65e-07</td>\n",
       "</tr>\n",
       "<tr>\n",
       "  <th>tag10</th> <td>  7.17e-07</td> <td> 3.06e-08</td> <td>   23.398</td> <td> 0.000</td> <td> 6.57e-07</td> <td> 7.77e-07</td>\n",
       "</tr>\n",
       "<tr>\n",
       "  <th>tag11</th> <td> 1.222e-07</td> <td> 1.23e-08</td> <td>    9.931</td> <td> 0.000</td> <td> 9.81e-08</td> <td> 1.46e-07</td>\n",
       "</tr>\n",
       "<tr>\n",
       "  <th>tag12</th> <td>    0.0003</td> <td> 3.65e-05</td> <td>    9.401</td> <td> 0.000</td> <td>    0.000</td> <td>    0.000</td>\n",
       "</tr>\n",
       "<tr>\n",
       "  <th>tag13</th> <td>   -0.0034</td> <td>    0.000</td> <td>  -29.516</td> <td> 0.000</td> <td>   -0.004</td> <td>   -0.003</td>\n",
       "</tr>\n",
       "<tr>\n",
       "  <th>tag14</th> <td>   -0.0005</td> <td>    0.000</td> <td>   -1.228</td> <td> 0.219</td> <td>   -0.001</td> <td>    0.000</td>\n",
       "</tr>\n",
       "<tr>\n",
       "  <th>tag15</th> <td>   -0.0604</td> <td>    0.002</td> <td>  -38.279</td> <td> 0.000</td> <td>   -0.064</td> <td>   -0.057</td>\n",
       "</tr>\n",
       "<tr>\n",
       "  <th>tag16</th> <td>   -0.0527</td> <td>    0.007</td> <td>   -7.426</td> <td> 0.000</td> <td>   -0.067</td> <td>   -0.039</td>\n",
       "</tr>\n",
       "<tr>\n",
       "  <th>tag17</th> <td>   -0.0083</td> <td>    0.007</td> <td>   -1.214</td> <td> 0.225</td> <td>   -0.022</td> <td>    0.005</td>\n",
       "</tr>\n",
       "<tr>\n",
       "  <th>tag18</th> <td>   -0.0012</td> <td>    0.000</td> <td>   -3.436</td> <td> 0.001</td> <td>   -0.002</td> <td>   -0.001</td>\n",
       "</tr>\n",
       "<tr>\n",
       "  <th>tag19</th> <td>-5.008e-07</td> <td> 2.52e-08</td> <td>  -19.908</td> <td> 0.000</td> <td> -5.5e-07</td> <td>-4.52e-07</td>\n",
       "</tr>\n",
       "<tr>\n",
       "  <th>tag20</th> <td>-4.117e-08</td> <td> 2.73e-08</td> <td>   -1.507</td> <td> 0.132</td> <td>-9.47e-08</td> <td> 1.24e-08</td>\n",
       "</tr>\n",
       "<tr>\n",
       "  <th>tag21</th> <td> 3.581e-07</td> <td> 4.69e-08</td> <td>    7.644</td> <td> 0.000</td> <td> 2.66e-07</td> <td>  4.5e-07</td>\n",
       "</tr>\n",
       "<tr>\n",
       "  <th>tag22</th> <td>-1.407e-07</td> <td> 2.97e-08</td> <td>   -4.732</td> <td> 0.000</td> <td>-1.99e-07</td> <td>-8.24e-08</td>\n",
       "</tr>\n",
       "<tr>\n",
       "  <th>tag23</th> <td> 8.516e-06</td> <td> 2.77e-07</td> <td>   30.781</td> <td> 0.000</td> <td> 7.97e-06</td> <td> 9.06e-06</td>\n",
       "</tr>\n",
       "<tr>\n",
       "  <th>tag24</th> <td>-8.003e-07</td> <td> 8.47e-08</td> <td>   -9.444</td> <td> 0.000</td> <td>-9.66e-07</td> <td>-6.34e-07</td>\n",
       "</tr>\n",
       "<tr>\n",
       "  <th>tag25</th> <td> 1.489e-06</td> <td> 1.01e-07</td> <td>   14.806</td> <td> 0.000</td> <td> 1.29e-06</td> <td> 1.69e-06</td>\n",
       "</tr>\n",
       "<tr>\n",
       "  <th>tag26</th> <td> 5.993e-07</td> <td> 8.95e-08</td> <td>    6.698</td> <td> 0.000</td> <td> 4.24e-07</td> <td> 7.75e-07</td>\n",
       "</tr>\n",
       "<tr>\n",
       "  <th>tag27</th> <td>-2.997e-06</td> <td> 1.06e-07</td> <td>  -28.341</td> <td> 0.000</td> <td> -3.2e-06</td> <td>-2.79e-06</td>\n",
       "</tr>\n",
       "<tr>\n",
       "  <th>tag28</th> <td> 2.005e-06</td> <td> 1.01e-07</td> <td>   19.853</td> <td> 0.000</td> <td> 1.81e-06</td> <td>  2.2e-06</td>\n",
       "</tr>\n",
       "<tr>\n",
       "  <th>tag29</th> <td> 1.267e-06</td> <td> 1.58e-07</td> <td>    8.035</td> <td> 0.000</td> <td> 9.58e-07</td> <td> 1.58e-06</td>\n",
       "</tr>\n",
       "<tr>\n",
       "  <th>tag30</th> <td>-1.629e-06</td> <td> 1.49e-07</td> <td>  -10.915</td> <td> 0.000</td> <td>-1.92e-06</td> <td>-1.34e-06</td>\n",
       "</tr>\n",
       "<tr>\n",
       "  <th>tag31</th> <td>-2.374e-07</td> <td> 1.55e-07</td> <td>   -1.536</td> <td> 0.124</td> <td> -5.4e-07</td> <td> 6.55e-08</td>\n",
       "</tr>\n",
       "<tr>\n",
       "  <th>tag32</th> <td> 2.833e-06</td> <td> 6.04e-08</td> <td>   46.909</td> <td> 0.000</td> <td> 2.71e-06</td> <td> 2.95e-06</td>\n",
       "</tr>\n",
       "<tr>\n",
       "  <th>tag33</th> <td> 1.258e-07</td> <td> 1.11e-07</td> <td>    1.133</td> <td> 0.257</td> <td>-9.19e-08</td> <td> 3.43e-07</td>\n",
       "</tr>\n",
       "<tr>\n",
       "  <th>tag34</th> <td>-1.266e-06</td> <td> 4.29e-08</td> <td>  -29.498</td> <td> 0.000</td> <td>-1.35e-06</td> <td>-1.18e-06</td>\n",
       "</tr>\n",
       "<tr>\n",
       "  <th>tag35</th> <td> 9.264e-07</td> <td> 1.19e-07</td> <td>    7.759</td> <td> 0.000</td> <td> 6.92e-07</td> <td> 1.16e-06</td>\n",
       "</tr>\n",
       "<tr>\n",
       "  <th>tag36</th> <td>-1.158e-07</td> <td> 1.61e-08</td> <td>   -7.203</td> <td> 0.000</td> <td>-1.47e-07</td> <td>-8.43e-08</td>\n",
       "</tr>\n",
       "<tr>\n",
       "  <th>tag37</th> <td>-1.563e-07</td> <td> 1.92e-08</td> <td>   -8.136</td> <td> 0.000</td> <td>-1.94e-07</td> <td>-1.19e-07</td>\n",
       "</tr>\n",
       "<tr>\n",
       "  <th>tag38</th> <td>-5.106e-09</td> <td> 3.24e-09</td> <td>   -1.577</td> <td> 0.115</td> <td>-1.15e-08</td> <td> 1.24e-09</td>\n",
       "</tr>\n",
       "<tr>\n",
       "  <th>tag39</th> <td>-1.028e-08</td> <td> 4.39e-09</td> <td>   -2.344</td> <td> 0.019</td> <td>-1.89e-08</td> <td>-1.68e-09</td>\n",
       "</tr>\n",
       "<tr>\n",
       "  <th>tag40</th> <td>-2.271e-08</td> <td> 8.47e-09</td> <td>   -2.679</td> <td> 0.007</td> <td>-3.93e-08</td> <td> -6.1e-09</td>\n",
       "</tr>\n",
       "<tr>\n",
       "  <th>tag41</th> <td>-3.289e-07</td> <td> 1.17e-07</td> <td>   -2.822</td> <td> 0.005</td> <td>-5.57e-07</td> <td>   -1e-07</td>\n",
       "</tr>\n",
       "<tr>\n",
       "  <th>tag42</th> <td> 2.167e-05</td> <td> 1.15e-07</td> <td>  188.189</td> <td> 0.000</td> <td> 2.14e-05</td> <td> 2.19e-05</td>\n",
       "</tr>\n",
       "<tr>\n",
       "  <th>tag43</th> <td>-2.065e-06</td> <td> 2.33e-08</td> <td>  -88.617</td> <td> 0.000</td> <td>-2.11e-06</td> <td>-2.02e-06</td>\n",
       "</tr>\n",
       "<tr>\n",
       "  <th>tag44</th> <td>-1.691e-07</td> <td> 2.05e-08</td> <td>   -8.269</td> <td> 0.000</td> <td>-2.09e-07</td> <td>-1.29e-07</td>\n",
       "</tr>\n",
       "<tr>\n",
       "  <th>tag45</th> <td> 2.624e-06</td> <td> 1.22e-07</td> <td>   21.477</td> <td> 0.000</td> <td> 2.38e-06</td> <td> 2.86e-06</td>\n",
       "</tr>\n",
       "<tr>\n",
       "  <th>tag46</th> <td> 2.039e-14</td> <td> 6.47e-15</td> <td>    3.149</td> <td> 0.002</td> <td>  7.7e-15</td> <td> 3.31e-14</td>\n",
       "</tr>\n",
       "<tr>\n",
       "  <th>tag47</th> <td>-2.603e-06</td> <td> 2.88e-08</td> <td>  -90.297</td> <td> 0.000</td> <td>-2.66e-06</td> <td>-2.55e-06</td>\n",
       "</tr>\n",
       "<tr>\n",
       "  <th>tag48</th> <td> -2.01e-09</td> <td> 1.28e-09</td> <td>   -1.569</td> <td> 0.117</td> <td>-4.52e-09</td> <td> 5.01e-10</td>\n",
       "</tr>\n",
       "<tr>\n",
       "  <th>tag49</th> <td> 1.124e-05</td> <td> 4.24e-08</td> <td>  265.009</td> <td> 0.000</td> <td> 1.12e-05</td> <td> 1.13e-05</td>\n",
       "</tr>\n",
       "<tr>\n",
       "  <th>tag50</th> <td>-2.735e-08</td> <td> 4.69e-09</td> <td>   -5.825</td> <td> 0.000</td> <td>-3.65e-08</td> <td>-1.81e-08</td>\n",
       "</tr>\n",
       "<tr>\n",
       "  <th>tag51</th> <td> 2.855e-08</td> <td>  7.8e-09</td> <td>    3.661</td> <td> 0.000</td> <td> 1.33e-08</td> <td> 4.38e-08</td>\n",
       "</tr>\n",
       "<tr>\n",
       "  <th>tag52</th> <td>-1.275e-08</td> <td> 4.44e-09</td> <td>   -2.873</td> <td> 0.004</td> <td>-2.15e-08</td> <td>-4.05e-09</td>\n",
       "</tr>\n",
       "<tr>\n",
       "  <th>tag53</th> <td>-1.243e-08</td> <td> 4.68e-09</td> <td>   -2.658</td> <td> 0.008</td> <td>-2.16e-08</td> <td>-3.27e-09</td>\n",
       "</tr>\n",
       "<tr>\n",
       "  <th>tag54</th> <td> 9.621e-09</td> <td> 4.95e-09</td> <td>    1.945</td> <td> 0.052</td> <td>-7.41e-11</td> <td> 1.93e-08</td>\n",
       "</tr>\n",
       "<tr>\n",
       "  <th>tag55</th> <td> 1.891e-05</td> <td> 4.07e-07</td> <td>   46.500</td> <td> 0.000</td> <td> 1.81e-05</td> <td> 1.97e-05</td>\n",
       "</tr>\n",
       "<tr>\n",
       "  <th>tag56</th> <td>  7.17e-07</td> <td> 3.06e-08</td> <td>   23.398</td> <td> 0.000</td> <td> 6.57e-07</td> <td> 7.77e-07</td>\n",
       "</tr>\n",
       "<tr>\n",
       "  <th>tag57</th> <td> 1.222e-07</td> <td> 1.23e-08</td> <td>    9.931</td> <td> 0.000</td> <td> 9.81e-08</td> <td> 1.46e-07</td>\n",
       "</tr>\n",
       "<tr>\n",
       "  <th>tag58</th> <td>    0.0001</td> <td> 5.91e-07</td> <td>  189.121</td> <td> 0.000</td> <td>    0.000</td> <td>    0.000</td>\n",
       "</tr>\n",
       "<tr>\n",
       "  <th>tag59</th> <td>   2.1e-05</td> <td> 5.52e-07</td> <td>   38.025</td> <td> 0.000</td> <td> 1.99e-05</td> <td> 2.21e-05</td>\n",
       "</tr>\n",
       "<tr>\n",
       "  <th>tag60</th> <td> 4.046e-07</td> <td> 2.62e-06</td> <td>    0.154</td> <td> 0.877</td> <td>-4.73e-06</td> <td> 5.54e-06</td>\n",
       "</tr>\n",
       "<tr>\n",
       "  <th>tag61</th> <td>-3.849e-06</td> <td> 3.58e-07</td> <td>  -10.759</td> <td> 0.000</td> <td>-4.55e-06</td> <td>-3.15e-06</td>\n",
       "</tr>\n",
       "<tr>\n",
       "  <th>tag62</th> <td>-9.193e-07</td> <td>  2.2e-07</td> <td>   -4.185</td> <td> 0.000</td> <td>-1.35e-06</td> <td>-4.89e-07</td>\n",
       "</tr>\n",
       "<tr>\n",
       "  <th>tag63</th> <td>    0.0005</td> <td> 4.88e-06</td> <td>  107.815</td> <td> 0.000</td> <td>    0.001</td> <td>    0.001</td>\n",
       "</tr>\n",
       "<tr>\n",
       "  <th>tag64</th> <td>  3.52e-07</td> <td> 2.92e-08</td> <td>   12.039</td> <td> 0.000</td> <td> 2.95e-07</td> <td> 4.09e-07</td>\n",
       "</tr>\n",
       "<tr>\n",
       "  <th>tag65</th> <td> 1.489e-06</td> <td> 9.66e-08</td> <td>   15.403</td> <td> 0.000</td> <td>  1.3e-06</td> <td> 1.68e-06</td>\n",
       "</tr>\n",
       "<tr>\n",
       "  <th>tag66</th> <td> -8.02e-06</td> <td> 7.14e-08</td> <td> -112.346</td> <td> 0.000</td> <td>-8.16e-06</td> <td>-7.88e-06</td>\n",
       "</tr>\n",
       "<tr>\n",
       "  <th>tag67</th> <td>-2.134e-05</td> <td> 3.22e-07</td> <td>  -66.187</td> <td> 0.000</td> <td> -2.2e-05</td> <td>-2.07e-05</td>\n",
       "</tr>\n",
       "<tr>\n",
       "  <th>tag68</th> <td> 4.484e-06</td> <td> 2.39e-07</td> <td>   18.750</td> <td> 0.000</td> <td> 4.02e-06</td> <td> 4.95e-06</td>\n",
       "</tr>\n",
       "<tr>\n",
       "  <th>tag69</th> <td>-1.705e-07</td> <td>  1.8e-08</td> <td>   -9.464</td> <td> 0.000</td> <td>-2.06e-07</td> <td>-1.35e-07</td>\n",
       "</tr>\n",
       "<tr>\n",
       "  <th>tag70</th> <td> 1.401e-07</td> <td> 2.58e-07</td> <td>    0.543</td> <td> 0.587</td> <td>-3.66e-07</td> <td> 6.46e-07</td>\n",
       "</tr>\n",
       "<tr>\n",
       "  <th>tag71</th> <td>-1.395e-05</td> <td> 5.69e-07</td> <td>  -24.505</td> <td> 0.000</td> <td>-1.51e-05</td> <td>-1.28e-05</td>\n",
       "</tr>\n",
       "<tr>\n",
       "  <th>tag72</th> <td> 6.987e-06</td> <td> 3.03e-07</td> <td>   23.080</td> <td> 0.000</td> <td> 6.39e-06</td> <td> 7.58e-06</td>\n",
       "</tr>\n",
       "<tr>\n",
       "  <th>tag73</th> <td>-1.289e-07</td> <td> 9.48e-09</td> <td>  -13.586</td> <td> 0.000</td> <td>-1.47e-07</td> <td> -1.1e-07</td>\n",
       "</tr>\n",
       "<tr>\n",
       "  <th>tag74</th> <td>-8.228e-06</td> <td> 3.59e-07</td> <td>  -22.925</td> <td> 0.000</td> <td>-8.93e-06</td> <td>-7.52e-06</td>\n",
       "</tr>\n",
       "<tr>\n",
       "  <th>tag75</th> <td>-2.604e-05</td> <td> 4.66e-07</td> <td>  -55.920</td> <td> 0.000</td> <td> -2.7e-05</td> <td>-2.51e-05</td>\n",
       "</tr>\n",
       "<tr>\n",
       "  <th>tag76</th> <td> 7.462e-06</td> <td> 6.79e-07</td> <td>   10.989</td> <td> 0.000</td> <td> 6.13e-06</td> <td> 8.79e-06</td>\n",
       "</tr>\n",
       "<tr>\n",
       "  <th>tag77</th> <td>-1.055e-09</td> <td> 2.83e-09</td> <td>   -0.373</td> <td> 0.709</td> <td> -6.6e-09</td> <td> 4.49e-09</td>\n",
       "</tr>\n",
       "<tr>\n",
       "  <th>tag78</th> <td> 7.524e-10</td> <td> 2.74e-09</td> <td>    0.275</td> <td> 0.783</td> <td>-4.61e-09</td> <td> 6.12e-09</td>\n",
       "</tr>\n",
       "<tr>\n",
       "  <th>tag79</th> <td>-6.812e-10</td> <td> 4.65e-09</td> <td>   -0.147</td> <td> 0.883</td> <td>-9.79e-09</td> <td> 8.43e-09</td>\n",
       "</tr>\n",
       "</table>\n",
       "<table class=\"simpletable\">\n",
       "<tr>\n",
       "  <th>Omnibus:</th>       <td>268690.675</td> <th>  Durbin-Watson:     </th>   <td>   0.092</td>   \n",
       "</tr>\n",
       "<tr>\n",
       "  <th>Prob(Omnibus):</th>   <td> 0.000</td>   <th>  Jarque-Bera (JB):  </th> <td>529198648.830</td>\n",
       "</tr>\n",
       "<tr>\n",
       "  <th>Skew:</th>            <td> 6.877</td>   <th>  Prob(JB):          </th>   <td>    0.00</td>   \n",
       "</tr>\n",
       "<tr>\n",
       "  <th>Kurtosis:</th>        <td>254.630</td>  <th>  Cond. No.          </th>   <td>1.02e+16</td>   \n",
       "</tr>\n",
       "</table><br/><br/>Warnings:<br/>[1] Standard Errors assume that the covariance matrix of the errors is correctly specified.<br/>[2] The smallest eigenvalue is 2.83e-22. This might indicate that there are<br/>strong multicollinearity problems or that the design matrix is singular."
      ],
      "text/plain": [
       "<class 'statsmodels.iolib.summary.Summary'>\n",
       "\"\"\"\n",
       "                                 OLS Regression Results                                \n",
       "=======================================================================================\n",
       "Dep. Variable:                target1   R-squared (uncentered):                   0.999\n",
       "Model:                            OLS   Adj. R-squared (uncentered):              0.999\n",
       "Method:                 Least Squares   F-statistic:                          2.107e+06\n",
       "Date:                Sun, 17 Jan 2021   Prob (F-statistic):                        0.00\n",
       "Time:                        20:36:14   Log-Likelihood:                      1.7368e+06\n",
       "No. Observations:              199991   AIC:                                 -3.473e+06\n",
       "Df Residuals:                  199915   BIC:                                 -3.473e+06\n",
       "Df Model:                          76                                                  \n",
       "Covariance Type:            nonrobust                                                  \n",
       "==============================================================================\n",
       "                 coef    std err          t      P>|t|      [0.025      0.975]\n",
       "------------------------------------------------------------------------------\n",
       "tag1        7.088e-06   8.63e-08     82.166      0.000    6.92e-06    7.26e-06\n",
       "tag2         1.82e-05   7.26e-06      2.509      0.012    3.98e-06    3.24e-05\n",
       "tag3       -6.244e-08   4.15e-08     -1.505      0.132   -1.44e-07    1.89e-08\n",
       "tag4        5.346e-07   3.36e-07      1.590      0.112   -1.24e-07    1.19e-06\n",
       "tag5        4.291e-08   1.35e-08      3.186      0.001    1.65e-08    6.93e-08\n",
       "tag6        1.159e-07   3.07e-08      3.777      0.000    5.57e-08    1.76e-07\n",
       "tag7       -1.364e-08   4.04e-09     -3.378      0.001   -2.16e-08   -5.73e-09\n",
       "tag8        1.028e-07   7.66e-09     13.421      0.000    8.78e-08    1.18e-07\n",
       "tag9        1.063e-07   2.99e-08      3.561      0.000    4.78e-08    1.65e-07\n",
       "tag10        7.17e-07   3.06e-08     23.398      0.000    6.57e-07    7.77e-07\n",
       "tag11       1.222e-07   1.23e-08      9.931      0.000    9.81e-08    1.46e-07\n",
       "tag12          0.0003   3.65e-05      9.401      0.000       0.000       0.000\n",
       "tag13         -0.0034      0.000    -29.516      0.000      -0.004      -0.003\n",
       "tag14         -0.0005      0.000     -1.228      0.219      -0.001       0.000\n",
       "tag15         -0.0604      0.002    -38.279      0.000      -0.064      -0.057\n",
       "tag16         -0.0527      0.007     -7.426      0.000      -0.067      -0.039\n",
       "tag17         -0.0083      0.007     -1.214      0.225      -0.022       0.005\n",
       "tag18         -0.0012      0.000     -3.436      0.001      -0.002      -0.001\n",
       "tag19      -5.008e-07   2.52e-08    -19.908      0.000    -5.5e-07   -4.52e-07\n",
       "tag20      -4.117e-08   2.73e-08     -1.507      0.132   -9.47e-08    1.24e-08\n",
       "tag21       3.581e-07   4.69e-08      7.644      0.000    2.66e-07     4.5e-07\n",
       "tag22      -1.407e-07   2.97e-08     -4.732      0.000   -1.99e-07   -8.24e-08\n",
       "tag23       8.516e-06   2.77e-07     30.781      0.000    7.97e-06    9.06e-06\n",
       "tag24      -8.003e-07   8.47e-08     -9.444      0.000   -9.66e-07   -6.34e-07\n",
       "tag25       1.489e-06   1.01e-07     14.806      0.000    1.29e-06    1.69e-06\n",
       "tag26       5.993e-07   8.95e-08      6.698      0.000    4.24e-07    7.75e-07\n",
       "tag27      -2.997e-06   1.06e-07    -28.341      0.000    -3.2e-06   -2.79e-06\n",
       "tag28       2.005e-06   1.01e-07     19.853      0.000    1.81e-06     2.2e-06\n",
       "tag29       1.267e-06   1.58e-07      8.035      0.000    9.58e-07    1.58e-06\n",
       "tag30      -1.629e-06   1.49e-07    -10.915      0.000   -1.92e-06   -1.34e-06\n",
       "tag31      -2.374e-07   1.55e-07     -1.536      0.124    -5.4e-07    6.55e-08\n",
       "tag32       2.833e-06   6.04e-08     46.909      0.000    2.71e-06    2.95e-06\n",
       "tag33       1.258e-07   1.11e-07      1.133      0.257   -9.19e-08    3.43e-07\n",
       "tag34      -1.266e-06   4.29e-08    -29.498      0.000   -1.35e-06   -1.18e-06\n",
       "tag35       9.264e-07   1.19e-07      7.759      0.000    6.92e-07    1.16e-06\n",
       "tag36      -1.158e-07   1.61e-08     -7.203      0.000   -1.47e-07   -8.43e-08\n",
       "tag37      -1.563e-07   1.92e-08     -8.136      0.000   -1.94e-07   -1.19e-07\n",
       "tag38      -5.106e-09   3.24e-09     -1.577      0.115   -1.15e-08    1.24e-09\n",
       "tag39      -1.028e-08   4.39e-09     -2.344      0.019   -1.89e-08   -1.68e-09\n",
       "tag40      -2.271e-08   8.47e-09     -2.679      0.007   -3.93e-08    -6.1e-09\n",
       "tag41      -3.289e-07   1.17e-07     -2.822      0.005   -5.57e-07      -1e-07\n",
       "tag42       2.167e-05   1.15e-07    188.189      0.000    2.14e-05    2.19e-05\n",
       "tag43      -2.065e-06   2.33e-08    -88.617      0.000   -2.11e-06   -2.02e-06\n",
       "tag44      -1.691e-07   2.05e-08     -8.269      0.000   -2.09e-07   -1.29e-07\n",
       "tag45       2.624e-06   1.22e-07     21.477      0.000    2.38e-06    2.86e-06\n",
       "tag46       2.039e-14   6.47e-15      3.149      0.002     7.7e-15    3.31e-14\n",
       "tag47      -2.603e-06   2.88e-08    -90.297      0.000   -2.66e-06   -2.55e-06\n",
       "tag48       -2.01e-09   1.28e-09     -1.569      0.117   -4.52e-09    5.01e-10\n",
       "tag49       1.124e-05   4.24e-08    265.009      0.000    1.12e-05    1.13e-05\n",
       "tag50      -2.735e-08   4.69e-09     -5.825      0.000   -3.65e-08   -1.81e-08\n",
       "tag51       2.855e-08    7.8e-09      3.661      0.000    1.33e-08    4.38e-08\n",
       "tag52      -1.275e-08   4.44e-09     -2.873      0.004   -2.15e-08   -4.05e-09\n",
       "tag53      -1.243e-08   4.68e-09     -2.658      0.008   -2.16e-08   -3.27e-09\n",
       "tag54       9.621e-09   4.95e-09      1.945      0.052   -7.41e-11    1.93e-08\n",
       "tag55       1.891e-05   4.07e-07     46.500      0.000    1.81e-05    1.97e-05\n",
       "tag56        7.17e-07   3.06e-08     23.398      0.000    6.57e-07    7.77e-07\n",
       "tag57       1.222e-07   1.23e-08      9.931      0.000    9.81e-08    1.46e-07\n",
       "tag58          0.0001   5.91e-07    189.121      0.000       0.000       0.000\n",
       "tag59         2.1e-05   5.52e-07     38.025      0.000    1.99e-05    2.21e-05\n",
       "tag60       4.046e-07   2.62e-06      0.154      0.877   -4.73e-06    5.54e-06\n",
       "tag61      -3.849e-06   3.58e-07    -10.759      0.000   -4.55e-06   -3.15e-06\n",
       "tag62      -9.193e-07    2.2e-07     -4.185      0.000   -1.35e-06   -4.89e-07\n",
       "tag63          0.0005   4.88e-06    107.815      0.000       0.001       0.001\n",
       "tag64        3.52e-07   2.92e-08     12.039      0.000    2.95e-07    4.09e-07\n",
       "tag65       1.489e-06   9.66e-08     15.403      0.000     1.3e-06    1.68e-06\n",
       "tag66       -8.02e-06   7.14e-08   -112.346      0.000   -8.16e-06   -7.88e-06\n",
       "tag67      -2.134e-05   3.22e-07    -66.187      0.000    -2.2e-05   -2.07e-05\n",
       "tag68       4.484e-06   2.39e-07     18.750      0.000    4.02e-06    4.95e-06\n",
       "tag69      -1.705e-07    1.8e-08     -9.464      0.000   -2.06e-07   -1.35e-07\n",
       "tag70       1.401e-07   2.58e-07      0.543      0.587   -3.66e-07    6.46e-07\n",
       "tag71      -1.395e-05   5.69e-07    -24.505      0.000   -1.51e-05   -1.28e-05\n",
       "tag72       6.987e-06   3.03e-07     23.080      0.000    6.39e-06    7.58e-06\n",
       "tag73      -1.289e-07   9.48e-09    -13.586      0.000   -1.47e-07    -1.1e-07\n",
       "tag74      -8.228e-06   3.59e-07    -22.925      0.000   -8.93e-06   -7.52e-06\n",
       "tag75      -2.604e-05   4.66e-07    -55.920      0.000    -2.7e-05   -2.51e-05\n",
       "tag76       7.462e-06   6.79e-07     10.989      0.000    6.13e-06    8.79e-06\n",
       "tag77      -1.055e-09   2.83e-09     -0.373      0.709    -6.6e-09    4.49e-09\n",
       "tag78       7.524e-10   2.74e-09      0.275      0.783   -4.61e-09    6.12e-09\n",
       "tag79      -6.812e-10   4.65e-09     -0.147      0.883   -9.79e-09    8.43e-09\n",
       "==============================================================================\n",
       "Omnibus:                   268690.675   Durbin-Watson:                   0.092\n",
       "Prob(Omnibus):                  0.000   Jarque-Bera (JB):        529198648.830\n",
       "Skew:                           6.877   Prob(JB):                         0.00\n",
       "Kurtosis:                     254.630   Cond. No.                     1.02e+16\n",
       "==============================================================================\n",
       "\n",
       "Warnings:\n",
       "[1] Standard Errors assume that the covariance matrix of the errors is correctly specified.\n",
       "[2] The smallest eigenvalue is 2.83e-22. This might indicate that there are\n",
       "strong multicollinearity problems or that the design matrix is singular.\n",
       "\"\"\""
      ]
     },
     "execution_count": 65,
     "metadata": {},
     "output_type": "execute_result"
    }
   ],
   "source": [
    "res.summary()"
   ]
  },
  {
   "cell_type": "code",
   "execution_count": null,
   "metadata": {},
   "outputs": [],
   "source": []
  },
  {
   "cell_type": "raw",
   "metadata": {},
   "source": [
    " num_bins = 10 \n",
    " \n",
    " df_train.hist(bins=num_bins, figsize=(20,15)) \n",
    " plt.savefig(\"train_histogram_plots\") \n",
    " plt.show() "
   ]
  },
  {
   "cell_type": "raw",
   "metadata": {},
   "source": [
    "# разделение данных на обучающее и тестовое подмножества.\n",
    "x, y = df_train(return_X_y=True)\n",
    "x_train, x_test, y_train, y_test =train_test_split(x, y, test_size=0.33, random_state=0)"
   ]
  },
  {
   "cell_type": "raw",
   "metadata": {},
   "source": [
    "from sklearn.model_selection import train_test_split\n",
    "\n",
    "# Разделение массива на случайные обучающие и тестовые подмножества\n",
    "\n",
    "X_train, X_vaild, y_train, y_vaild = train_test_split(df_train.drop(df_train.columns[[0,80,81,82,83]],\n",
    "                                                              axis=1),\n",
    "                                                      df_train[[\"target1\",\"target2\",\"target3\",\"target4\"]],\n",
    "                                                      test_size=0.3,\n",
    "                                                      random_state=2000)\n",
    "\n",
    "# test_size - доля набора данных, которая будет включена в тестовую группу.\n",
    "# X_train, X_vaild, y_train, y_vaild Двумерные неоднородные табличные данные с изменяемым размером.\n",
    "# random_state - способ разделения выборки на тестовую и тренинговую -\n",
    "# это случайное число позволит зафиксировать разделение и не менять его при прогонах"
   ]
  },
  {
   "cell_type": "raw",
   "metadata": {},
   "source": [
    "from sklearn.ensemble import RandomForestClassifier\n",
    "rf = RandomForestClassifier(n_estimators=100, random_state=2000)\n",
    "\n",
    "# n_estimators - кол-во деревьев\n",
    "\n",
    "rf.fit(X_train, y_train)\n",
    "\n",
    "# fit - постоить rf  из обучающего набора\n",
    "\n",
    "y_pred = rf.predict(X_vaild)\n",
    "\n",
    "# predict - предсказанный класс - тот, у которого самая высокая средняя вероятность по деревьям\n",
    "\n",
    "from sklearn.metrics import accuracy_score  # оценка точности\n",
    "print(accuracy_score(y_vaild, y_pred))"
   ]
  }
 ],
 "metadata": {
  "kernelspec": {
   "display_name": "Python 3",
   "language": "python",
   "name": "python3"
  },
  "language_info": {
   "codemirror_mode": {
    "name": "ipython",
    "version": 3
   },
   "file_extension": ".py",
   "mimetype": "text/x-python",
   "name": "python",
   "nbconvert_exporter": "python",
   "pygments_lexer": "ipython3",
   "version": "3.8.5"
  },
  "nbTranslate": {
   "displayLangs": [
    "*"
   ],
   "hotkey": "alt-t",
   "langInMainMenu": true,
   "sourceLang": "en",
   "targetLang": "fr",
   "useGoogleTranslate": true
  },
  "toc": {
   "base_numbering": 1,
   "nav_menu": {},
   "number_sections": true,
   "sideBar": true,
   "skip_h1_title": false,
   "title_cell": "Table of Contents",
   "title_sidebar": "Contents",
   "toc_cell": false,
   "toc_position": {},
   "toc_section_display": true,
   "toc_window_display": false
  },
  "varInspector": {
   "cols": {
    "lenName": 16,
    "lenType": 16,
    "lenVar": 40
   },
   "kernels_config": {
    "python": {
     "delete_cmd_postfix": "",
     "delete_cmd_prefix": "del ",
     "library": "var_list.py",
     "varRefreshCmd": "print(var_dic_list())"
    },
    "r": {
     "delete_cmd_postfix": ") ",
     "delete_cmd_prefix": "rm(",
     "library": "var_list.r",
     "varRefreshCmd": "cat(var_dic_list()) "
    }
   },
   "types_to_exclude": [
    "module",
    "function",
    "builtin_function_or_method",
    "instance",
    "_Feature"
   ],
   "window_display": false
  }
 },
 "nbformat": 4,
 "nbformat_minor": 4
}
