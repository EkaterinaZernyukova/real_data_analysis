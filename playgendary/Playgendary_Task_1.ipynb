{
 "cells": [
  {
   "cell_type": "code",
   "execution_count": 7,
   "id": "1b7c151a",
   "metadata": {},
   "outputs": [],
   "source": [
    "import numpy as np\n",
    "import pandas as pd\n",
    "\n",
    "from scipy import polyval, stats\n",
    "import math\n",
    "from statsmodels.graphics.mosaicplot import mosaic\n",
    "import statsmodels.formula.api as sf\n",
    "import statsmodels.api as sm\n",
    "\n",
    "from scipy.stats import normaltest  #для проверки распределения на нормальность\n",
    "\n",
    "from scipy.stats import spearmanr  #корреляция Спирмена\n",
    "\n",
    "import seaborn as sns\n",
    "sns.set()\n",
    "import matplotlib.pyplot as plt\n",
    "\n",
    "from collections import Counter\n",
    "\n",
    "from datetime import timedelta"
   ]
  },
  {
   "cell_type": "code",
   "execution_count": 8,
   "id": "4896a6bd",
   "metadata": {},
   "outputs": [],
   "source": [
    "import psycopg2\n",
    "from psycopg2 import OperationalError\n",
    "\n",
    "def create_connection(db_name, db_user, db_password, db_host, db_port):\n",
    "    connection = None\n",
    "    try:\n",
    "        connection = psycopg2.connect(\n",
    "            database=db_name,\n",
    "            user=db_user,\n",
    "            password=db_password,\n",
    "            host=db_host,\n",
    "            port=db_port,\n",
    "        )\n",
    "        print(\"Connection to PostgreSQL DB successful\")\n",
    "    except OperationalError as e:\n",
    "        print(f\"The error '{e}' occurred\")"
   ]
  },
  {
   "cell_type": "code",
   "execution_count": 9,
   "id": "a4ca0e04",
   "metadata": {},
   "outputs": [
    {
     "name": "stdout",
     "output_type": "stream",
     "text": [
      "Connection to PostgreSQL DB successful\n"
     ]
    }
   ],
   "source": [
    "connection = create_connection(\"test\", \"tuser\", \"faexoh9A\", \"htstmysql35.plg.dev\", \"5432\")"
   ]
  },
  {
   "cell_type": "markdown",
   "id": "e59cd370",
   "metadata": {},
   "source": [
    "### Посчитайте различные KPI метрики игры: DAU, ARPU, ARPPU, Conversion."
   ]
  },
  {
   "cell_type": "raw",
   "id": "d463c518",
   "metadata": {},
   "source": [
    "DAU (Daily Active Users) - число уникальных пользователей в день\n",
    "\n",
    "ARPU (Average Revenue Per User)- средний доход с пользователя\n",
    "        определяется путем соотношения брутто-дохода от пользователей к среднему показателю посещаемости \n",
    "        в день/неделю/месяц.\n",
    "        ARPU = Revenue / Users (чистый доход «поделить» на количество всех пользователей)\n",
    "\n",
    "        +Paying Share = доля платящих пользователей\n",
    "        ARPU = ARPPU × Paying Share\n",
    "        \n",
    "ARPPU (Average Revenue Per Paying User)- доход с одного платящего пользователя\n",
    "        брутто-доход соотносим с количеством платящих пользователей или PU \n",
    "        (число клиентов, оплативших дополнительный контент в конкретный период).\n",
    "        ARPPU всегда будет больше APRU.\n",
    "        \n",
    "        \n",
    "Conversion -Конверсия (какая доля посетителей сайта совершила покупку)\n",
    "    Conversion rate = (кол-во продаж) / (кол-во сессий) * 100%"
   ]
  },
  {
   "cell_type": "code",
   "execution_count": null,
   "id": "38b5b19b",
   "metadata": {},
   "outputs": [],
   "source": []
  },
  {
   "cell_type": "code",
   "execution_count": null,
   "id": "b0831f9d",
   "metadata": {},
   "outputs": [],
   "source": []
  }
 ],
 "metadata": {
  "kernelspec": {
   "display_name": "Python 3",
   "language": "python",
   "name": "python3"
  },
  "language_info": {
   "codemirror_mode": {
    "name": "ipython",
    "version": 3
   },
   "file_extension": ".py",
   "mimetype": "text/x-python",
   "name": "python",
   "nbconvert_exporter": "python",
   "pygments_lexer": "ipython3",
   "version": "3.8.8"
  }
 },
 "nbformat": 4,
 "nbformat_minor": 5
}
