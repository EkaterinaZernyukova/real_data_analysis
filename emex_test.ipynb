{
 "cells": [
  {
   "cell_type": "raw",
   "metadata": {},
   "source": [
    "В продукте для продавцов был произведен пробный запуск, состоявший из нескольких этапов. Одной из метрик успешности считается количество продаж каждым из продавцов. Владелец продукта установил такой критерий успешности пробного запуска — 10 продаж на продавца. В вашем распоряжении три таблицы:\n",
    "\n",
    "registrations - заявки потенциальных продавцов,\n",
    "sellers - учётные записи зарегистрированных продавцов,\n",
    "orders - заказы у продавцов.\n",
    "\n",
    "На основании данных определите:\n",
    "    Какие характерные этапы были в запуске, сколько их было и когда?\n",
    "    Удалось ли достичь критериев успешности?\n",
    "    Какие бы вы визуализации предложили для обозревания ответа на каждый вопрос? \n",
    "    Кроме изображений, прикрепите к заданию код, с помощью которого вы пришли к ним."
   ]
  },
  {
   "cell_type": "code",
   "execution_count": 1,
   "metadata": {},
   "outputs": [],
   "source": [
    "import pandas as pd\n",
    "import numpy as np\n",
    "import seaborn as sns\n",
    "sns.set()\n",
    "import matplotlib.pyplot as plt"
   ]
  },
  {
   "cell_type": "code",
   "execution_count": 2,
   "metadata": {},
   "outputs": [],
   "source": [
    "# настройки отображения графиков\n",
    "%matplotlib inline\n",
    "plt.style.use('ggplot')\n",
    "plt.rcParams['figure.figsize'] = (15, 5)\n",
    "plt.rcParams['font.family'] = 'sans-serif'"
   ]
  },
  {
   "cell_type": "markdown",
   "metadata": {},
   "source": [
    "### Orders - заказы у продавцов"
   ]
  },
  {
   "cell_type": "code",
   "execution_count": 3,
   "metadata": {},
   "outputs": [],
   "source": [
    "orders = pd.read_csv(\n",
    "    '/opt/kate_repo/real_data_analysis/emex_interview_task/orders.csv')"
   ]
  },
  {
   "cell_type": "code",
   "execution_count": 4,
   "metadata": {},
   "outputs": [],
   "source": [
    "# Корректировка формата даты\n",
    "orders['created_at'] = pd.to_datetime(orders['created_at'])"
   ]
  },
  {
   "cell_type": "code",
   "execution_count": 5,
   "metadata": {},
   "outputs": [],
   "source": [
    "# Извлечение даты\n",
    "orders['created_at'] = [d.date() for d in orders['created_at']]"
   ]
  },
  {
   "cell_type": "code",
   "execution_count": 6,
   "metadata": {},
   "outputs": [],
   "source": [
    "# Сортировка данных по дате\n",
    "orders = orders.sort_values('created_at', ascending=True)\n",
    "orders.reset_index(drop=True, inplace=True)"
   ]
  },
  {
   "cell_type": "code",
   "execution_count": 7,
   "metadata": {},
   "outputs": [
    {
     "data": {
      "text/html": [
       "<div>\n",
       "<style scoped>\n",
       "    .dataframe tbody tr th:only-of-type {\n",
       "        vertical-align: middle;\n",
       "    }\n",
       "\n",
       "    .dataframe tbody tr th {\n",
       "        vertical-align: top;\n",
       "    }\n",
       "\n",
       "    .dataframe thead th {\n",
       "        text-align: right;\n",
       "    }\n",
       "</style>\n",
       "<table border=\"1\" class=\"dataframe\">\n",
       "  <thead>\n",
       "    <tr style=\"text-align: right;\">\n",
       "      <th></th>\n",
       "      <th>id</th>\n",
       "      <th>created_at</th>\n",
       "      <th>seller_id</th>\n",
       "      <th>product_price</th>\n",
       "      <th>quantity</th>\n",
       "      <th>status</th>\n",
       "    </tr>\n",
       "  </thead>\n",
       "  <tbody>\n",
       "    <tr>\n",
       "      <th>0</th>\n",
       "      <td>1</td>\n",
       "      <td>2020-08-03</td>\n",
       "      <td>2</td>\n",
       "      <td>911.50</td>\n",
       "      <td>1</td>\n",
       "      <td>BuyerDidNotCome</td>\n",
       "    </tr>\n",
       "    <tr>\n",
       "      <th>1</th>\n",
       "      <td>2</td>\n",
       "      <td>2020-08-03</td>\n",
       "      <td>2</td>\n",
       "      <td>911.50</td>\n",
       "      <td>2</td>\n",
       "      <td>Rejection</td>\n",
       "    </tr>\n",
       "    <tr>\n",
       "      <th>2</th>\n",
       "      <td>3</td>\n",
       "      <td>2020-08-03</td>\n",
       "      <td>1</td>\n",
       "      <td>911.50</td>\n",
       "      <td>3</td>\n",
       "      <td>New</td>\n",
       "    </tr>\n",
       "    <tr>\n",
       "      <th>3</th>\n",
       "      <td>5</td>\n",
       "      <td>2020-08-03</td>\n",
       "      <td>1</td>\n",
       "      <td>5001.99</td>\n",
       "      <td>7</td>\n",
       "      <td>New</td>\n",
       "    </tr>\n",
       "    <tr>\n",
       "      <th>4</th>\n",
       "      <td>4</td>\n",
       "      <td>2020-08-03</td>\n",
       "      <td>2</td>\n",
       "      <td>911.50</td>\n",
       "      <td>1</td>\n",
       "      <td>Rejection</td>\n",
       "    </tr>\n",
       "  </tbody>\n",
       "</table>\n",
       "</div>"
      ],
      "text/plain": [
       "   id  created_at  seller_id  product_price  quantity           status\n",
       "0   1  2020-08-03          2         911.50         1  BuyerDidNotCome\n",
       "1   2  2020-08-03          2         911.50         2        Rejection\n",
       "2   3  2020-08-03          1         911.50         3              New\n",
       "3   5  2020-08-03          1        5001.99         7              New\n",
       "4   4  2020-08-03          2         911.50         1        Rejection"
      ]
     },
     "execution_count": 7,
     "metadata": {},
     "output_type": "execute_result"
    }
   ],
   "source": [
    "orders.head()"
   ]
  },
  {
   "cell_type": "code",
   "execution_count": 8,
   "metadata": {},
   "outputs": [
    {
     "data": {
      "text/plain": [
       "(338, 6)"
      ]
     },
     "execution_count": 8,
     "metadata": {},
     "output_type": "execute_result"
    }
   ],
   "source": [
    "orders.shape"
   ]
  },
  {
   "cell_type": "code",
   "execution_count": 9,
   "metadata": {},
   "outputs": [
    {
     "data": {
      "text/plain": [
       "id                 int64\n",
       "created_at        object\n",
       "seller_id          int64\n",
       "product_price    float64\n",
       "quantity           int64\n",
       "status            object\n",
       "dtype: object"
      ]
     },
     "execution_count": 9,
     "metadata": {},
     "output_type": "execute_result"
    }
   ],
   "source": [
    "# Типы данных\n",
    "orders.dtypes"
   ]
  },
  {
   "cell_type": "code",
   "execution_count": 10,
   "metadata": {},
   "outputs": [
    {
     "data": {
      "text/html": [
       "<div>\n",
       "<style scoped>\n",
       "    .dataframe tbody tr th:only-of-type {\n",
       "        vertical-align: middle;\n",
       "    }\n",
       "\n",
       "    .dataframe tbody tr th {\n",
       "        vertical-align: top;\n",
       "    }\n",
       "\n",
       "    .dataframe thead th {\n",
       "        text-align: right;\n",
       "    }\n",
       "</style>\n",
       "<table border=\"1\" class=\"dataframe\">\n",
       "  <thead>\n",
       "    <tr style=\"text-align: right;\">\n",
       "      <th></th>\n",
       "      <th>id</th>\n",
       "      <th>seller_id</th>\n",
       "      <th>product_price</th>\n",
       "      <th>quantity</th>\n",
       "      <th>status</th>\n",
       "    </tr>\n",
       "    <tr>\n",
       "      <th>created_at</th>\n",
       "      <th></th>\n",
       "      <th></th>\n",
       "      <th></th>\n",
       "      <th></th>\n",
       "      <th></th>\n",
       "    </tr>\n",
       "  </thead>\n",
       "  <tbody>\n",
       "    <tr>\n",
       "      <th>2020-08-03</th>\n",
       "      <td>5</td>\n",
       "      <td>5</td>\n",
       "      <td>5</td>\n",
       "      <td>5</td>\n",
       "      <td>5</td>\n",
       "    </tr>\n",
       "    <tr>\n",
       "      <th>2020-08-07</th>\n",
       "      <td>1</td>\n",
       "      <td>1</td>\n",
       "      <td>1</td>\n",
       "      <td>1</td>\n",
       "      <td>1</td>\n",
       "    </tr>\n",
       "    <tr>\n",
       "      <th>2020-08-11</th>\n",
       "      <td>4</td>\n",
       "      <td>4</td>\n",
       "      <td>4</td>\n",
       "      <td>4</td>\n",
       "      <td>4</td>\n",
       "    </tr>\n",
       "    <tr>\n",
       "      <th>2020-08-20</th>\n",
       "      <td>1</td>\n",
       "      <td>1</td>\n",
       "      <td>1</td>\n",
       "      <td>1</td>\n",
       "      <td>1</td>\n",
       "    </tr>\n",
       "    <tr>\n",
       "      <th>2020-08-21</th>\n",
       "      <td>3</td>\n",
       "      <td>3</td>\n",
       "      <td>3</td>\n",
       "      <td>3</td>\n",
       "      <td>3</td>\n",
       "    </tr>\n",
       "    <tr>\n",
       "      <th>...</th>\n",
       "      <td>...</td>\n",
       "      <td>...</td>\n",
       "      <td>...</td>\n",
       "      <td>...</td>\n",
       "      <td>...</td>\n",
       "    </tr>\n",
       "    <tr>\n",
       "      <th>2020-11-07</th>\n",
       "      <td>7</td>\n",
       "      <td>7</td>\n",
       "      <td>7</td>\n",
       "      <td>7</td>\n",
       "      <td>7</td>\n",
       "    </tr>\n",
       "    <tr>\n",
       "      <th>2020-11-08</th>\n",
       "      <td>4</td>\n",
       "      <td>4</td>\n",
       "      <td>4</td>\n",
       "      <td>4</td>\n",
       "      <td>4</td>\n",
       "    </tr>\n",
       "    <tr>\n",
       "      <th>2020-11-09</th>\n",
       "      <td>9</td>\n",
       "      <td>9</td>\n",
       "      <td>9</td>\n",
       "      <td>9</td>\n",
       "      <td>9</td>\n",
       "    </tr>\n",
       "    <tr>\n",
       "      <th>2020-11-10</th>\n",
       "      <td>18</td>\n",
       "      <td>18</td>\n",
       "      <td>18</td>\n",
       "      <td>18</td>\n",
       "      <td>18</td>\n",
       "    </tr>\n",
       "    <tr>\n",
       "      <th>2020-11-11</th>\n",
       "      <td>10</td>\n",
       "      <td>10</td>\n",
       "      <td>10</td>\n",
       "      <td>10</td>\n",
       "      <td>10</td>\n",
       "    </tr>\n",
       "  </tbody>\n",
       "</table>\n",
       "<p>66 rows × 5 columns</p>\n",
       "</div>"
      ],
      "text/plain": [
       "            id  seller_id  product_price  quantity  status\n",
       "created_at                                                \n",
       "2020-08-03   5          5              5         5       5\n",
       "2020-08-07   1          1              1         1       1\n",
       "2020-08-11   4          4              4         4       4\n",
       "2020-08-20   1          1              1         1       1\n",
       "2020-08-21   3          3              3         3       3\n",
       "...         ..        ...            ...       ...     ...\n",
       "2020-11-07   7          7              7         7       7\n",
       "2020-11-08   4          4              4         4       4\n",
       "2020-11-09   9          9              9         9       9\n",
       "2020-11-10  18         18             18        18      18\n",
       "2020-11-11  10         10             10        10      10\n",
       "\n",
       "[66 rows x 5 columns]"
      ]
     },
     "execution_count": 10,
     "metadata": {},
     "output_type": "execute_result"
    }
   ],
   "source": [
    "# Количество заказов по дням\n",
    "orders_date_count = orders.groupby('created_at').count()\n",
    "orders_date_count"
   ]
  },
  {
   "cell_type": "code",
   "execution_count": 11,
   "metadata": {},
   "outputs": [
    {
     "data": {
      "text/plain": [
       "31"
      ]
     },
     "execution_count": 11,
     "metadata": {},
     "output_type": "execute_result"
    }
   ],
   "source": [
    "# Количество продавцов, разместивших заказы\n",
    "num_seller = orders['seller_id'].value_counts(sort=False)\n",
    "len(num_seller)"
   ]
  },
  {
   "cell_type": "code",
   "execution_count": 12,
   "metadata": {},
   "outputs": [
    {
     "data": {
      "text/plain": [
       "<AxesSubplot:>"
      ]
     },
     "execution_count": 12,
     "metadata": {},
     "output_type": "execute_result"
    },
    {
     "data": {
      "image/png": "[encoded data removed]",
      "text/plain": [
       "<Figure size 1080x360 with 1 Axes>"
      ]
     },
     "metadata": {},
     "output_type": "display_data"
    }
   ],
   "source": [
    "# Количество заказов у продавцов\n",
    "orders['seller_id'].value_counts().plot.bar()"
   ]
  },
  {
   "cell_type": "code",
   "execution_count": 13,
   "metadata": {},
   "outputs": [
    {
     "data": {
      "text/plain": [
       "Issued             155\n",
       "Rejection           66\n",
       "New                 41\n",
       "Canceled            38\n",
       "BuyerDidNotCome     38\n",
       "Name: status, dtype: int64"
      ]
     },
     "execution_count": 13,
     "metadata": {},
     "output_type": "execute_result"
    }
   ],
   "source": [
    "orders['status'].value_counts()"
   ]
  },
  {
   "cell_type": "code",
   "execution_count": 14,
   "metadata": {},
   "outputs": [
    {
     "data": {
      "text/plain": [
       "Text(0.5, 1.0, 'Статусы заказов у продавцов')"
      ]
     },
     "execution_count": 14,
     "metadata": {},
     "output_type": "execute_result"
    },
    {
     "data": {
      "image/png": "[encoded data removed]",
      "text/plain": [
       "<Figure size 1280x720 with 1 Axes>"
      ]
     },
     "metadata": {},
     "output_type": "display_data"
    }
   ],
   "source": [
    "# Статусы заказов у продавцов\n",
    "\n",
    "# Данные\n",
    "x_var = 'seller_id'\n",
    "groupby_var = 'status'\n",
    "orders_agg = orders.loc[:, [x_var, groupby_var]].groupby(groupby_var)\n",
    "vals = [orders[x_var].values.tolist() for i, orders in orders_agg]\n",
    "\n",
    "# График\n",
    "plt.figure(figsize=(16, 9), dpi=80)\n",
    "n, bins, patches = plt.hist(vals,\n",
    "                            30,\n",
    "                            stacked=True,\n",
    "                            density=False,\n",
    "                            color=['r', 'y', 'b', 'k', 'g'])\n",
    "\n",
    "# Легенда\n",
    "colors = [plt.cm.Spectral(i / float(len(vals) - 1)) for i in range(len(vals))]\n",
    "plt.legend({\n",
    "    group: col\n",
    "    for group, col in zip(\n",
    "        np.unique(orders[groupby_var]).tolist(), colors[:len(vals)])\n",
    "})\n",
    "\n",
    "plt.ylim(0, 90)\n",
    "plt.xticks(ticks=bins,\n",
    "           labels=np.unique(orders[x_var]).tolist(),\n",
    "           rotation=90,\n",
    "           horizontalalignment='left')\n",
    "plt.xlabel('id продавца')\n",
    "plt.ylabel('Количество заказов у продавца')\n",
    "plt.title('Статусы заказов у продавцов')"
   ]
  },
  {
   "cell_type": "code",
   "execution_count": 15,
   "metadata": {},
   "outputs": [],
   "source": [
    "# Достигнут критерий успешности пробного запуска >= 10 продаж на продавца\n",
    "orders_issued = orders[orders['status'] == 'Issued']\n",
    "\n",
    "sellers_id_groups = orders_issued.groupby(['seller_id'])\n",
    "\n",
    "success_sellers = sellers_id_groups.filter(\n",
    "    lambda group: group['status'].count() >= 10)"
   ]
  },
  {
   "cell_type": "code",
   "execution_count": 16,
   "metadata": {},
   "outputs": [
    {
     "data": {
      "text/plain": [
       "Text(0.5, 1.0, '>= 10 продаж на продавца')"
      ]
     },
     "execution_count": 16,
     "metadata": {},
     "output_type": "execute_result"
    },
    {
     "data": {
      "image/png": "[encoded data removed]",
      "text/plain": [
       "<Figure size 1080x360 with 1 Axes>"
      ]
     },
     "metadata": {},
     "output_type": "display_data"
    }
   ],
   "source": [
    "# Id продавцов, достигнувших критерия успешности\n",
    "success_sellers['seller_id'].value_counts().plot.bar()\n",
    "\n",
    "plt.xlabel('id продавца')\n",
    "plt.ylabel('Количество продаж у продавца')\n",
    "plt.title('>= 10 продаж на продавца')"
   ]
  },
  {
   "cell_type": "code",
   "execution_count": 17,
   "metadata": {},
   "outputs": [],
   "source": [
    "# Процент продавцов, которым удалось достичь критерия успешности\n",
    "num_success_sellers = success_sellers['seller_id'].value_counts(sort=False)\n",
    "\n",
    "percent_success_sellers = len(num_success_sellers) / len(num_seller) * 100\n",
    "percent_unsuccess_sellers = (\n",
    "    len(num_seller) - num_success_sellers.count()) / len(num_seller) * 100"
   ]
  },
  {
   "cell_type": "code",
   "execution_count": 18,
   "metadata": {},
   "outputs": [
    {
     "data": {
      "image/png": "[encoded data removed]",
      "text/plain": [
       "<Figure size 1080x360 with 1 Axes>"
      ]
     },
     "metadata": {},
     "output_type": "display_data"
    },
    {
     "data": {
      "text/plain": [
       "<Figure size 1080x360 with 0 Axes>"
      ]
     },
     "metadata": {},
     "output_type": "display_data"
    }
   ],
   "source": [
    "plt.pie([percent_unsuccess_sellers, percent_success_sellers], autopct='%.1f')\n",
    "\n",
    "plt.title('Продавцы, которым удалось достичь критерия успешности (%)')\n",
    "plt.legend(loc='best',\n",
    "           labels=('Критерий успешности не достигнут',\n",
    "                   'Критерий успешности достигнут'))\n",
    "plt.show()\n",
    "\n",
    "plt.savefig('Продавцы, которым удалось достичь критерия успешности (%).png');"
   ]
  },
  {
   "cell_type": "markdown",
   "metadata": {},
   "source": [
    "### Registrations - заявки потенциальных продавцов"
   ]
  },
  {
   "cell_type": "code",
   "execution_count": 19,
   "metadata": {},
   "outputs": [
    {
     "data": {
      "text/html": [
       "<div>\n",
       "<style scoped>\n",
       "    .dataframe tbody tr th:only-of-type {\n",
       "        vertical-align: middle;\n",
       "    }\n",
       "\n",
       "    .dataframe tbody tr th {\n",
       "        vertical-align: top;\n",
       "    }\n",
       "\n",
       "    .dataframe thead th {\n",
       "        text-align: right;\n",
       "    }\n",
       "</style>\n",
       "<table border=\"1\" class=\"dataframe\">\n",
       "  <thead>\n",
       "    <tr style=\"text-align: right;\">\n",
       "      <th></th>\n",
       "      <th>id</th>\n",
       "      <th>inn</th>\n",
       "      <th>created_at</th>\n",
       "      <th>is_accepted</th>\n",
       "      <th>is_seller</th>\n",
       "    </tr>\n",
       "  </thead>\n",
       "  <tbody>\n",
       "    <tr>\n",
       "      <th>0</th>\n",
       "      <td>5781db93a6444c921c45efcc7f30bd08</td>\n",
       "      <td>2.301126e+11</td>\n",
       "      <td>2020-07-17 10:11:40.204382</td>\n",
       "      <td>False</td>\n",
       "      <td>False</td>\n",
       "    </tr>\n",
       "    <tr>\n",
       "      <th>1</th>\n",
       "      <td>e8862ca7b667307568ca408c05c57cce</td>\n",
       "      <td>5.047905e+11</td>\n",
       "      <td>2020-07-31 15:54:30.906968</td>\n",
       "      <td>False</td>\n",
       "      <td>False</td>\n",
       "    </tr>\n",
       "    <tr>\n",
       "      <th>2</th>\n",
       "      <td>838ae3edd30e77940522cb950fb6a77d</td>\n",
       "      <td>NaN</td>\n",
       "      <td>2020-08-03 08:09:59.410891</td>\n",
       "      <td>False</td>\n",
       "      <td>True</td>\n",
       "    </tr>\n",
       "    <tr>\n",
       "      <th>3</th>\n",
       "      <td>d8aa22a597b538ddef927675a20fec45</td>\n",
       "      <td>NaN</td>\n",
       "      <td>2020-07-29 10:03:43.949494</td>\n",
       "      <td>False</td>\n",
       "      <td>True</td>\n",
       "    </tr>\n",
       "    <tr>\n",
       "      <th>4</th>\n",
       "      <td>d30bd4297f49a76595df3eb348b59eaa</td>\n",
       "      <td>NaN</td>\n",
       "      <td>2020-07-30 12:48:44.982906</td>\n",
       "      <td>False</td>\n",
       "      <td>True</td>\n",
       "    </tr>\n",
       "  </tbody>\n",
       "</table>\n",
       "</div>"
      ],
      "text/plain": [
       "                                 id           inn                  created_at  \\\n",
       "0  5781db93a6444c921c45efcc7f30bd08  2.301126e+11  2020-07-17 10:11:40.204382   \n",
       "1  e8862ca7b667307568ca408c05c57cce  5.047905e+11  2020-07-31 15:54:30.906968   \n",
       "2  838ae3edd30e77940522cb950fb6a77d           NaN  2020-08-03 08:09:59.410891   \n",
       "3  d8aa22a597b538ddef927675a20fec45           NaN  2020-07-29 10:03:43.949494   \n",
       "4  d30bd4297f49a76595df3eb348b59eaa           NaN  2020-07-30 12:48:44.982906   \n",
       "\n",
       "   is_accepted  is_seller  \n",
       "0        False      False  \n",
       "1        False      False  \n",
       "2        False       True  \n",
       "3        False       True  \n",
       "4        False       True  "
      ]
     },
     "execution_count": 19,
     "metadata": {},
     "output_type": "execute_result"
    }
   ],
   "source": [
    "registrations = pd.read_csv(\n",
    "    '/opt/kate_repo/real_data_analysis/emex_interview_task/registrations.csv')\n",
    "registrations.head()"
   ]
  },
  {
   "cell_type": "code",
   "execution_count": 20,
   "metadata": {},
   "outputs": [
    {
     "data": {
      "text/plain": [
       "id              object\n",
       "inn            float64\n",
       "created_at      object\n",
       "is_accepted       bool\n",
       "is_seller         bool\n",
       "dtype: object"
      ]
     },
     "execution_count": 20,
     "metadata": {},
     "output_type": "execute_result"
    }
   ],
   "source": [
    "registrations.dtypes"
   ]
  },
  {
   "cell_type": "code",
   "execution_count": 21,
   "metadata": {},
   "outputs": [],
   "source": [
    "# Переименование столбцов\n",
    "registrations.rename(columns=lambda x: x.replace('inn', 'Inn'), inplace=True)\n",
    "registrations.rename(\n",
    "    columns=lambda x: x.replace('created_at', 'created_at_registrations'),\n",
    "    inplace=True)"
   ]
  },
  {
   "cell_type": "code",
   "execution_count": 22,
   "metadata": {},
   "outputs": [
    {
     "data": {
      "text/plain": [
       "(6537, 5)"
      ]
     },
     "execution_count": 22,
     "metadata": {},
     "output_type": "execute_result"
    }
   ],
   "source": [
    "registrations.shape"
   ]
  },
  {
   "cell_type": "code",
   "execution_count": 23,
   "metadata": {},
   "outputs": [
    {
     "name": "stdout",
     "output_type": "stream",
     "text": [
      "id - 0%\n",
      "Inn - 73%\n",
      "created_at_registrations - 0%\n",
      "is_accepted - 0%\n",
      "is_seller - 0%\n"
     ]
    }
   ],
   "source": [
    "# Список долей отсутствующих записей для каждого признака\n",
    "for col in registrations.columns:\n",
    "    pct_missing = np.mean(registrations[col].isnull())\n",
    "    print('{} - {}%'.format(col, round(pct_missing * 100)))"
   ]
  },
  {
   "cell_type": "code",
   "execution_count": 24,
   "metadata": {},
   "outputs": [],
   "source": [
    "# Заполнение отсутствующих данных значением 0\n",
    "registrations = registrations.fillna(0)"
   ]
  },
  {
   "cell_type": "code",
   "execution_count": null,
   "metadata": {},
   "outputs": [],
   "source": [
    "# Сортировка данных по дате\n",
    "registrations = registrations.sort_values('created_at_registrations',\n",
    "                                          ascending=True)\n",
    "registrations.reset_index(drop=True, inplace=True)"
   ]
  },
  {
   "cell_type": "code",
   "execution_count": 25,
   "metadata": {},
   "outputs": [],
   "source": [
    "# Корректировка форматов даты и ИНН\n",
    "registrations['created_at_registrations'] = pd.to_datetime(\n",
    "    registrations['created_at_registrations'])\n",
    "\n",
    "registrations['created_at_registrations'] = [\n",
    "    d.date() for d in registrations['created_at_registrations']\n",
    "]\n",
    "\n",
    "registrations['Inn'] = registrations['Inn'].astype(int)"
   ]
  },
  {
   "cell_type": "code",
   "execution_count": 26,
   "metadata": {},
   "outputs": [
    {
     "data": {
      "text/plain": [
       "86"
      ]
     },
     "execution_count": 26,
     "metadata": {},
     "output_type": "execute_result"
    }
   ],
   "source": [
    "# Продавцы, успешно прошедшие регистрацию\n",
    "registrations_is_correct = registrations[(registrations['is_accepted'] == True)\n",
    "                                         &\n",
    "                                         (registrations['is_seller'] == True)]\n",
    "registrations_is_correct = registrations_is_correct.sort_values(\n",
    "    'created_at_registrations', ascending=True)\n",
    "registrations_is_correct.reset_index(drop=True, inplace=True)\n",
    "len(registrations_is_correct)"
   ]
  },
  {
   "cell_type": "code",
   "execution_count": 28,
   "metadata": {},
   "outputs": [
    {
     "data": {
      "image/png": "[encoded data removed]",
      "text/plain": [
       "<Figure size 1080x360 with 1 Axes>"
      ]
     },
     "metadata": {},
     "output_type": "display_data"
    }
   ],
   "source": [
    "# Продавцы, успешно прошедшие регистрацию\n",
    "correct = len(registrations_is_correct)\n",
    "reject = len(registrations) - len(registrations_is_correct)\n",
    "\n",
    "plt.pie([correct, reject], autopct='%.1f')\n",
    "plt.legend(loc='best', labels=('Зарегистрированы', 'Не прошли регистрацию'))\n",
    "plt.title('Продавцы, успешно прошедшие регистрацию (%)')\n",
    "plt.show()"
   ]
  },
  {
   "cell_type": "markdown",
   "metadata": {},
   "source": [
    "### Sellers - учётные записи зарегистрированных продавцов"
   ]
  },
  {
   "cell_type": "code",
   "execution_count": 29,
   "metadata": {},
   "outputs": [
    {
     "name": "stderr",
     "output_type": "stream",
     "text": [
      "<ipython-input-29-6a9fd22de0f4>:6: FutureWarning: pandas.io.json.json_normalize is deprecated, use pandas.json_normalize instead\n",
      "  contractor = sellers.join(pd.io.json.json_normalize(\n"
     ]
    },
    {
     "data": {
      "text/html": [
       "<div>\n",
       "<style scoped>\n",
       "    .dataframe tbody tr th:only-of-type {\n",
       "        vertical-align: middle;\n",
       "    }\n",
       "\n",
       "    .dataframe tbody tr th {\n",
       "        vertical-align: top;\n",
       "    }\n",
       "\n",
       "    .dataframe thead th {\n",
       "        text-align: right;\n",
       "    }\n",
       "</style>\n",
       "<table border=\"1\" class=\"dataframe\">\n",
       "  <thead>\n",
       "    <tr style=\"text-align: right;\">\n",
       "      <th></th>\n",
       "      <th>id</th>\n",
       "      <th>created_at</th>\n",
       "      <th>Inn</th>\n",
       "      <th>Bulk</th>\n",
       "      <th>City</th>\n",
       "      <th>Flat</th>\n",
       "      <th>Ogrn</th>\n",
       "      <th>House</th>\n",
       "      <th>Оkpo</th>\n",
       "      <th>Status</th>\n",
       "      <th>Street</th>\n",
       "      <th>ZipCode</th>\n",
       "      <th>LegalName</th>\n",
       "      <th>RegionName</th>\n",
       "      <th>Settlement</th>\n",
       "    </tr>\n",
       "  </thead>\n",
       "  <tbody>\n",
       "    <tr>\n",
       "      <th>0</th>\n",
       "      <td>1</td>\n",
       "      <td>2020-08-03 07:12:03.963452</td>\n",
       "      <td>5544554451</td>\n",
       "      <td>None</td>\n",
       "      <td>None</td>\n",
       "      <td>None</td>\n",
       "      <td>None</td>\n",
       "      <td>None</td>\n",
       "      <td>None</td>\n",
       "      <td>0</td>\n",
       "      <td>None</td>\n",
       "      <td>None</td>\n",
       "      <td>None</td>\n",
       "      <td>None</td>\n",
       "      <td>None</td>\n",
       "    </tr>\n",
       "    <tr>\n",
       "      <th>1</th>\n",
       "      <td>2</td>\n",
       "      <td>2020-08-03 07:38:31.136276</td>\n",
       "      <td>0000000000</td>\n",
       "      <td>None</td>\n",
       "      <td>None</td>\n",
       "      <td>None</td>\n",
       "      <td>None</td>\n",
       "      <td>None</td>\n",
       "      <td>None</td>\n",
       "      <td>0</td>\n",
       "      <td>None</td>\n",
       "      <td>None</td>\n",
       "      <td>None</td>\n",
       "      <td>None</td>\n",
       "      <td>None</td>\n",
       "    </tr>\n",
       "    <tr>\n",
       "      <th>2</th>\n",
       "      <td>3</td>\n",
       "      <td>2020-08-04 05:58:33.473403</td>\n",
       "      <td>700202974358</td>\n",
       "      <td>None</td>\n",
       "      <td>Томск</td>\n",
       "      <td>None</td>\n",
       "      <td>317703100080340</td>\n",
       "      <td>None</td>\n",
       "      <td>0114009213</td>\n",
       "      <td>1</td>\n",
       "      <td>None</td>\n",
       "      <td>None</td>\n",
       "      <td>None</td>\n",
       "      <td>Томская область</td>\n",
       "      <td>None</td>\n",
       "    </tr>\n",
       "    <tr>\n",
       "      <th>3</th>\n",
       "      <td>4</td>\n",
       "      <td>2020-08-06 05:05:37.043578</td>\n",
       "      <td>7017216138</td>\n",
       "      <td>None</td>\n",
       "      <td>Томск</td>\n",
       "      <td>None</td>\n",
       "      <td>1087017018395</td>\n",
       "      <td>дом 9</td>\n",
       "      <td>85256729</td>\n",
       "      <td>1</td>\n",
       "      <td>улица Киевская</td>\n",
       "      <td>634012</td>\n",
       "      <td>Общество с ограниченной ответственностью \"Авто...</td>\n",
       "      <td>Томская область</td>\n",
       "      <td>None</td>\n",
       "    </tr>\n",
       "    <tr>\n",
       "      <th>4</th>\n",
       "      <td>5</td>\n",
       "      <td>2020-08-06 06:03:06.613762</td>\n",
       "      <td>352500119022</td>\n",
       "      <td>None</td>\n",
       "      <td>None</td>\n",
       "      <td>None</td>\n",
       "      <td>316290100082018</td>\n",
       "      <td>None</td>\n",
       "      <td>0104421401</td>\n",
       "      <td>1</td>\n",
       "      <td>None</td>\n",
       "      <td>None</td>\n",
       "      <td>None</td>\n",
       "      <td>Архангельская область</td>\n",
       "      <td>None</td>\n",
       "    </tr>\n",
       "  </tbody>\n",
       "</table>\n",
       "</div>"
      ],
      "text/plain": [
       "   id                  created_at           Inn  Bulk   City  Flat  \\\n",
       "0   1  2020-08-03 07:12:03.963452    5544554451  None   None  None   \n",
       "1   2  2020-08-03 07:38:31.136276    0000000000  None   None  None   \n",
       "2   3  2020-08-04 05:58:33.473403  700202974358  None  Томск  None   \n",
       "3   4  2020-08-06 05:05:37.043578    7017216138  None  Томск  None   \n",
       "4   5  2020-08-06 06:03:06.613762  352500119022  None   None  None   \n",
       "\n",
       "              Ogrn  House        Оkpo  Status          Street ZipCode  \\\n",
       "0             None   None        None       0            None    None   \n",
       "1             None   None        None       0            None    None   \n",
       "2  317703100080340   None  0114009213       1            None    None   \n",
       "3    1087017018395  дом 9    85256729       1  улица Киевская  634012   \n",
       "4  316290100082018   None  0104421401       1            None    None   \n",
       "\n",
       "                                           LegalName             RegionName  \\\n",
       "0                                               None                   None   \n",
       "1                                               None                   None   \n",
       "2                                               None        Томская область   \n",
       "3  Общество с ограниченной ответственностью \"Авто...        Томская область   \n",
       "4                                               None  Архангельская область   \n",
       "\n",
       "  Settlement  \n",
       "0       None  \n",
       "1       None  \n",
       "2       None  \n",
       "3       None  \n",
       "4       None  "
      ]
     },
     "execution_count": 29,
     "metadata": {},
     "output_type": "execute_result"
    }
   ],
   "source": [
    "sellers = pd.read_csv(\n",
    "    '/opt/kate_repo/real_data_analysis/emex_interview_task/sellers.csv',\n",
    "    converters={'contractor_json': json.loads},\n",
    "    header=0,\n",
    "    quotechar='\"')\n",
    "contractor = sellers.join(pd.io.json.json_normalize(\n",
    "    sellers[\"contractor_json\"])).drop([\"contractor_json\"], axis=1)\n",
    "contractor.head()"
   ]
  },
  {
   "cell_type": "code",
   "execution_count": 30,
   "metadata": {},
   "outputs": [],
   "source": [
    "# Переименование столбцов данных о зарегистрированных продавцах\n",
    "contractor.rename(columns=lambda x: x.replace('id', 'seller_id'), inplace=True)\n",
    "contractor.rename(\n",
    "    columns=lambda x: x.replace('created_at', 'created_at_sellers'),\n",
    "    inplace=True)"
   ]
  },
  {
   "cell_type": "code",
   "execution_count": 31,
   "metadata": {},
   "outputs": [
    {
     "data": {
      "text/plain": [
       "(72, 15)"
      ]
     },
     "execution_count": 31,
     "metadata": {},
     "output_type": "execute_result"
    }
   ],
   "source": [
    "contractor.shape"
   ]
  },
  {
   "cell_type": "code",
   "execution_count": 32,
   "metadata": {},
   "outputs": [
    {
     "data": {
      "text/plain": [
       "seller_id              int64\n",
       "created_at_sellers    object\n",
       "Inn                   object\n",
       "Bulk                  object\n",
       "City                  object\n",
       "Flat                  object\n",
       "Ogrn                  object\n",
       "House                 object\n",
       "Оkpo                  object\n",
       "Status                 int64\n",
       "Street                object\n",
       "ZipCode               object\n",
       "LegalName             object\n",
       "RegionName            object\n",
       "Settlement            object\n",
       "dtype: object"
      ]
     },
     "execution_count": 32,
     "metadata": {},
     "output_type": "execute_result"
    }
   ],
   "source": [
    "contractor.dtypes"
   ]
  },
  {
   "cell_type": "code",
   "execution_count": 33,
   "metadata": {},
   "outputs": [],
   "source": [
    "# Корректировка формата даты\n",
    "contractor['created_at_sellers'] = pd.to_datetime(\n",
    "    contractor['created_at_sellers'])\n",
    "\n",
    "contractor['created_at_sellers'] = [\n",
    "    d.date() for d in contractor['created_at_sellers']\n",
    "]"
   ]
  },
  {
   "cell_type": "code",
   "execution_count": 34,
   "metadata": {},
   "outputs": [
    {
     "name": "stdout",
     "output_type": "stream",
     "text": [
      "seller_id - 0%\n",
      "created_at_sellers - 0%\n",
      "Inn - 0%\n",
      "Bulk - 97%\n",
      "City - 18%\n",
      "Flat - 93%\n",
      "Ogrn - 7%\n",
      "House - 78%\n",
      "Оkpo - 8%\n",
      "Status - 0%\n",
      "Street - 78%\n",
      "ZipCode - 78%\n",
      "LegalName - 78%\n",
      "RegionName - 7%\n",
      "Settlement - 97%\n"
     ]
    }
   ],
   "source": [
    "# Список долей отсутствующих записей для каждого признака\n",
    "for col in contractor.columns:\n",
    "    pct_missing = np.mean(contractor[col].isnull())\n",
    "    print('{} - {}%'.format(col, round(pct_missing * 100)))"
   ]
  },
  {
   "cell_type": "code",
   "execution_count": 35,
   "metadata": {},
   "outputs": [],
   "source": [
    "# Заполнение отсутствующих данных значением 0\n",
    "contractor = contractor.fillna(0)"
   ]
  },
  {
   "cell_type": "code",
   "execution_count": 36,
   "metadata": {},
   "outputs": [
    {
     "data": {
      "image/png": "[encoded data removed]",
      "text/plain": [
       "<Figure size 1080x360 with 1 Axes>"
      ]
     },
     "metadata": {},
     "output_type": "display_data"
    }
   ],
   "source": [
    "# Получение заявок потенциальных продавцов\n",
    "x = registrations.created_at_registrations\n",
    "y = registrations.index\n",
    "sns.lineplot(x=x, y=y, data=registrations, color='green')\n",
    "\n",
    "plt.xticks(rotation=90)\n",
    "\n",
    "# Создание учётных записей продавцов\n",
    "x = contractor.created_at_sellers\n",
    "y = contractor.index\n",
    "sns.lineplot(x=x, y=y, data=sellers, color='red')\n",
    "plt.xticks(rotation=90)\n",
    "\n",
    "# Размещение заказов\n",
    "x = orders_issued.created_at\n",
    "y = orders_issued.index\n",
    "sns.lineplot(x=x, y=y, data=orders_issued, color='black')\n",
    "plt.xticks(rotation=90)\n",
    "plt.legend(loc='best',\n",
    "           labels=('Получение заявок потенциальных продавцов',\n",
    "                   'Создание учётных записей продавцов', 'Размещение заказов'))\n",
    "\n",
    "plt.xlabel('Дата')\n",
    "plt.ylabel('Id шага')\n",
    "plt.title('Этапы пробного запуска продукта')\n",
    "\n",
    "plt.savefig('Этапы пробного запуска продукта')"
   ]
  },
  {
   "cell_type": "raw",
   "metadata": {},
   "source": [
    "Согласно графику, cбор заявок потенциальных продавцов состоялся ранее, чем были созданы учётные записи зарегистрированных продавцов и размещены заказы.\n",
    "Следовательно, пробный запуск состоялся:"
   ]
  },
  {
   "cell_type": "markdown",
   "metadata": {},
   "source": [
    "### Дата пробного запуска"
   ]
  },
  {
   "cell_type": "code",
   "execution_count": 37,
   "metadata": {},
   "outputs": [
    {
     "data": {
      "text/plain": [
       "datetime.date(2020, 6, 25)"
      ]
     },
     "execution_count": 37,
     "metadata": {},
     "output_type": "execute_result"
    }
   ],
   "source": [
    "registrations.created_at_registrations.min()"
   ]
  },
  {
   "cell_type": "markdown",
   "metadata": {},
   "source": [
    "### Дата начала тестирования этапа создания учётных записей зарегистрированных продавцов:"
   ]
  },
  {
   "cell_type": "code",
   "execution_count": 38,
   "metadata": {},
   "outputs": [
    {
     "data": {
      "text/plain": [
       "datetime.date(2020, 8, 3)"
      ]
     },
     "execution_count": 38,
     "metadata": {},
     "output_type": "execute_result"
    }
   ],
   "source": [
    "contractor.created_at_sellers.min()"
   ]
  },
  {
   "cell_type": "markdown",
   "metadata": {},
   "source": [
    "### Дата первого размещенного заказа"
   ]
  },
  {
   "cell_type": "code",
   "execution_count": 39,
   "metadata": {},
   "outputs": [
    {
     "data": {
      "text/plain": [
       "datetime.date(2020, 8, 11)"
      ]
     },
     "execution_count": 39,
     "metadata": {},
     "output_type": "execute_result"
    }
   ],
   "source": [
    "orders_issued.created_at.min()"
   ]
  },
  {
   "cell_type": "markdown",
   "metadata": {},
   "source": [
    "### Дата первого выполненного заказа:"
   ]
  },
  {
   "cell_type": "code",
   "execution_count": 40,
   "metadata": {},
   "outputs": [
    {
     "data": {
      "text/plain": [
       "datetime.date(2020, 8, 11)"
      ]
     },
     "execution_count": 40,
     "metadata": {},
     "output_type": "execute_result"
    }
   ],
   "source": [
    "orders_issued.created_at.min()"
   ]
  },
  {
   "cell_type": "code",
   "execution_count": 41,
   "metadata": {},
   "outputs": [
    {
     "data": {
      "text/plain": [
       "[30]"
      ]
     },
     "execution_count": 41,
     "metadata": {},
     "output_type": "execute_result"
    }
   ],
   "source": [
    "# Id наиболее успешного продавца\n",
    "\n",
    "dict_id_seller = orders.groupby(orders.seller_id)['created_at'].nunique()\n",
    "\n",
    "dict_id_seller_max = [\n",
    "    keys for keys, values in dict_id_seller.items()\n",
    "    if values == dict_id_seller.max()\n",
    "]\n",
    "dict_id_seller_max"
   ]
  },
  {
   "cell_type": "code",
   "execution_count": 42,
   "metadata": {},
   "outputs": [
    {
     "data": {
      "text/html": [
       "<div>\n",
       "<style scoped>\n",
       "    .dataframe tbody tr th:only-of-type {\n",
       "        vertical-align: middle;\n",
       "    }\n",
       "\n",
       "    .dataframe tbody tr th {\n",
       "        vertical-align: top;\n",
       "    }\n",
       "\n",
       "    .dataframe thead th {\n",
       "        text-align: right;\n",
       "    }\n",
       "</style>\n",
       "<table border=\"1\" class=\"dataframe\">\n",
       "  <thead>\n",
       "    <tr style=\"text-align: right;\">\n",
       "      <th></th>\n",
       "      <th>created_at_orders</th>\n",
       "      <th>seller_id</th>\n",
       "      <th>status</th>\n",
       "      <th>created_at_orders_sellers</th>\n",
       "      <th>created_at_orders_registrations</th>\n",
       "    </tr>\n",
       "  </thead>\n",
       "  <tbody>\n",
       "    <tr>\n",
       "      <th>0</th>\n",
       "      <td>2020-09-14</td>\n",
       "      <td>30</td>\n",
       "      <td>BuyerDidNotCome</td>\n",
       "      <td>2020-09-12</td>\n",
       "      <td>2020-08-17</td>\n",
       "    </tr>\n",
       "    <tr>\n",
       "      <th>1</th>\n",
       "      <td>2020-09-14</td>\n",
       "      <td>30</td>\n",
       "      <td>Rejection</td>\n",
       "      <td>2020-09-12</td>\n",
       "      <td>2020-08-17</td>\n",
       "    </tr>\n",
       "    <tr>\n",
       "      <th>2</th>\n",
       "      <td>2020-09-14</td>\n",
       "      <td>30</td>\n",
       "      <td>Rejection</td>\n",
       "      <td>2020-09-12</td>\n",
       "      <td>2020-08-17</td>\n",
       "    </tr>\n",
       "    <tr>\n",
       "      <th>3</th>\n",
       "      <td>2020-09-14</td>\n",
       "      <td>30</td>\n",
       "      <td>Rejection</td>\n",
       "      <td>2020-09-12</td>\n",
       "      <td>2020-08-17</td>\n",
       "    </tr>\n",
       "    <tr>\n",
       "      <th>4</th>\n",
       "      <td>2020-09-16</td>\n",
       "      <td>30</td>\n",
       "      <td>Rejection</td>\n",
       "      <td>2020-09-12</td>\n",
       "      <td>2020-08-17</td>\n",
       "    </tr>\n",
       "    <tr>\n",
       "      <th>...</th>\n",
       "      <td>...</td>\n",
       "      <td>...</td>\n",
       "      <td>...</td>\n",
       "      <td>...</td>\n",
       "      <td>...</td>\n",
       "    </tr>\n",
       "    <tr>\n",
       "      <th>76</th>\n",
       "      <td>2020-11-09</td>\n",
       "      <td>30</td>\n",
       "      <td>BuyerDidNotCome</td>\n",
       "      <td>2020-09-12</td>\n",
       "      <td>2020-08-17</td>\n",
       "    </tr>\n",
       "    <tr>\n",
       "      <th>77</th>\n",
       "      <td>2020-11-09</td>\n",
       "      <td>30</td>\n",
       "      <td>BuyerDidNotCome</td>\n",
       "      <td>2020-09-12</td>\n",
       "      <td>2020-08-17</td>\n",
       "    </tr>\n",
       "    <tr>\n",
       "      <th>78</th>\n",
       "      <td>2020-11-10</td>\n",
       "      <td>30</td>\n",
       "      <td>Rejection</td>\n",
       "      <td>2020-09-12</td>\n",
       "      <td>2020-08-17</td>\n",
       "    </tr>\n",
       "    <tr>\n",
       "      <th>79</th>\n",
       "      <td>2020-11-11</td>\n",
       "      <td>30</td>\n",
       "      <td>BuyerDidNotCome</td>\n",
       "      <td>2020-09-12</td>\n",
       "      <td>2020-08-17</td>\n",
       "    </tr>\n",
       "    <tr>\n",
       "      <th>80</th>\n",
       "      <td>2020-11-11</td>\n",
       "      <td>30</td>\n",
       "      <td>New</td>\n",
       "      <td>2020-09-12</td>\n",
       "      <td>2020-08-17</td>\n",
       "    </tr>\n",
       "  </tbody>\n",
       "</table>\n",
       "<p>81 rows × 5 columns</p>\n",
       "</div>"
      ],
      "text/plain": [
       "   created_at_orders  seller_id           status created_at_orders_sellers  \\\n",
       "0         2020-09-14         30  BuyerDidNotCome                2020-09-12   \n",
       "1         2020-09-14         30        Rejection                2020-09-12   \n",
       "2         2020-09-14         30        Rejection                2020-09-12   \n",
       "3         2020-09-14         30        Rejection                2020-09-12   \n",
       "4         2020-09-16         30        Rejection                2020-09-12   \n",
       "..               ...        ...              ...                       ...   \n",
       "76        2020-11-09         30  BuyerDidNotCome                2020-09-12   \n",
       "77        2020-11-09         30  BuyerDidNotCome                2020-09-12   \n",
       "78        2020-11-10         30        Rejection                2020-09-12   \n",
       "79        2020-11-11         30  BuyerDidNotCome                2020-09-12   \n",
       "80        2020-11-11         30              New                2020-09-12   \n",
       "\n",
       "   created_at_orders_registrations  \n",
       "0                       2020-08-17  \n",
       "1                       2020-08-17  \n",
       "2                       2020-08-17  \n",
       "3                       2020-08-17  \n",
       "4                       2020-08-17  \n",
       "..                             ...  \n",
       "76                      2020-08-17  \n",
       "77                      2020-08-17  \n",
       "78                      2020-08-17  \n",
       "79                      2020-08-17  \n",
       "80                      2020-08-17  \n",
       "\n",
       "[81 rows x 5 columns]"
      ]
     },
     "execution_count": 42,
     "metadata": {},
     "output_type": "execute_result"
    }
   ],
   "source": [
    "# Данные о наиболее успешном продавце\n",
    "max_seller = orders[orders['seller_id'].isin(dict_id_seller_max)]\n",
    "orders_with_saler_name = pd.merge(max_seller,\n",
    "                                  contractor,\n",
    "                                  on=['seller_id'],\n",
    "                                  how='left')\n",
    "orders_with_saler_name['Inn'] = orders_with_saler_name['Inn'].astype(int)\n",
    "info_max_seller = pd.merge(orders_with_saler_name,\n",
    "                           registrations,\n",
    "                           on=['Inn'],\n",
    "                           how='left')\n",
    "info_max_seller.rename(\n",
    "    columns=lambda x: x.replace('created_at', 'created_at_orders'),\n",
    "    inplace=True)\n",
    "\n",
    "info_max_seller.drop(info_max_seller.columns[[\n",
    "    0, 3, 4, 7, 8, 9, 10, 11, 12, 13, 14, 15, 16, 17, 18, 19, 20, 22, 23\n",
    "]],\n",
    "                     axis='columns')\n",
    "# info_max_seller"
   ]
  },
  {
   "cell_type": "code",
   "execution_count": 43,
   "metadata": {},
   "outputs": [
    {
     "data": {
      "text/plain": [
       "datetime.date(2020, 9, 14)"
      ]
     },
     "execution_count": 43,
     "metadata": {},
     "output_type": "execute_result"
    }
   ],
   "source": [
    "info_max_seller.created_at_orders.min()"
   ]
  },
  {
   "cell_type": "code",
   "execution_count": 44,
   "metadata": {},
   "outputs": [
    {
     "data": {
      "text/plain": [
       "datetime.date(2020, 11, 2)"
      ]
     },
     "execution_count": 44,
     "metadata": {},
     "output_type": "execute_result"
    }
   ],
   "source": [
    "# Самая ранняя дата заказа со статусом New\n",
    "info_max_seller_new_order = info_max_seller[info_max_seller['status'] == 'New']\n",
    "info_max_seller_new_order.created_at_orders.min()"
   ]
  },
  {
   "cell_type": "code",
   "execution_count": 45,
   "metadata": {},
   "outputs": [
    {
     "data": {
      "text/plain": [
       "datetime.date(2020, 9, 24)"
      ]
     },
     "execution_count": 45,
     "metadata": {},
     "output_type": "execute_result"
    }
   ],
   "source": [
    "# Самая ранняя дата заказа со статусом Issued\n",
    "info_max_seller_new_order = info_max_seller[info_max_seller['status'] ==\n",
    "                                            'Issued']\n",
    "info_max_seller_new_order.created_at_orders.min()"
   ]
  },
  {
   "cell_type": "markdown",
   "metadata": {},
   "source": [
    "### Какие характерные этапы были в запуске, сколько их было и когда?"
   ]
  },
  {
   "cell_type": "raw",
   "metadata": {},
   "source": [
    " Согласно полученным данным можно выделить 3 этапа пробного запуска продукта:\n",
    "    1. Получение заявок потенциальных продавцов (25.06.2020)\n",
    "    2. Создание учётных записей (регистрация) продавцов (03.08.2020)\n",
    "    3. Размещение заказа/Выполнение заказа (03.08.2020)/(11.08.2020)\n",
    "    \n",
    "В таблице Orders поле status содержит нескольких вариантов статусов заказов, но таблица не содержит данные о дате размещения завершенных заказов, которая разделила бы третий этап на Размещение и Выполнение заказа.\n",
    "\n",
    "Если проанализировать динамику самого успешного продавца, то для него характерные этапы запуска произошли:\n",
    "\n",
    "    1. Получение заявки от продавца - 17.08.2020\n",
    "    2. Создание учётной записи - 12.09.2020\n",
    "    3а. Размещение заказа - 14.09.2020\n",
    "    3б. Первое выполнение заказа - 24.09.2020"
   ]
  },
  {
   "cell_type": "markdown",
   "metadata": {},
   "source": [
    "### Удалось ли достичь критериев успешности?"
   ]
  },
  {
   "cell_type": "raw",
   "metadata": {},
   "source": [
    "С момента пробного запуска продукта (25.06.2020) достигли критерия успешности 19% продавцов"
   ]
  }
 ],
 "metadata": {
  "kernelspec": {
   "display_name": "Python 3",
   "language": "python",
   "name": "python3"
  },
  "language_info": {
   "codemirror_mode": {
    "name": "ipython",
    "version": 3
   },
   "file_extension": ".py",
   "mimetype": "text/x-python",
   "name": "python",
   "nbconvert_exporter": "python",
   "pygments_lexer": "ipython3",
   "version": "3.8.5"
  },
  "nbTranslate": {
   "displayLangs": [
    "*"
   ],
   "hotkey": "alt-t",
   "langInMainMenu": true,
   "sourceLang": "en",
   "targetLang": "fr",
   "useGoogleTranslate": true
  },
  "toc": {
   "base_numbering": 1,
   "nav_menu": {
    "height": "271px",
    "width": "236px"
   },
   "number_sections": true,
   "sideBar": true,
   "skip_h1_title": false,
   "title_cell": "Table of Contents",
   "title_sidebar": "Contents",
   "toc_cell": false,
   "toc_position": {},
   "toc_section_display": true,
   "toc_window_display": false
  },
  "varInspector": {
   "cols": {
    "lenName": 16,
    "lenType": 16,
    "lenVar": 40
   },
   "kernels_config": {
    "python": {
     "delete_cmd_postfix": "",
     "delete_cmd_prefix": "del ",
     "library": "var_list.py",
     "varRefreshCmd": "print(var_dic_list())"
    },
    "r": {
     "delete_cmd_postfix": ") ",
     "delete_cmd_prefix": "rm(",
     "library": "var_list.r",
     "varRefreshCmd": "cat(var_dic_list()) "
    }
   },
   "types_to_exclude": [
    "module",
    "function",
    "builtin_function_or_method",
    "instance",
    "_Feature"
   ],
   "window_display": false
  }
 },
 "nbformat": 4,
 "nbformat_minor": 4
}
