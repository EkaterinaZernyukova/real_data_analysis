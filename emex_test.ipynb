{
 "cells": [
  {
   "cell_type": "raw",
   "metadata": {},
   "source": [
    "В продукте для продавцов был произведен пробный запуск, состоявший из нескольких этапов. Одной из метрик успешности считается количество продаж каждым из продавцов. Владелец продукта установил такой критерий успешности пробного запуска — 10 продаж на продавца. В вашем распоряжении три таблицы:\n",
    "\n",
    "registrations - заявки потенциальных продавцов,\n",
    "sellers - учётные записи зарегистрированных продавцов,\n",
    "orders - заказы у продавцов.\n",
    "\n",
    "На основании данных определите\n",
    "    Какие характерные этапы были в запуске, сколько их было и когда?\n",
    "    Удалось ли достичь критериев успешности?\n",
    "    Какие бы вы визуализации предложили для обозревания ответа на каждый вопрос? \n",
    "    Кроме изображений, прикрепите к заданию код, с помощью которого вы пришли к ним."
   ]
  },
  {
   "cell_type": "code",
   "execution_count": 1,
   "metadata": {},
   "outputs": [],
   "source": [
    "import pandas as pd\n",
    "import numpy as np\n",
    "import seaborn as sns\n",
    "sns.set()\n",
    "import matplotlib.pyplot as plt"
   ]
  },
  {
   "cell_type": "code",
   "execution_count": 2,
   "metadata": {},
   "outputs": [],
   "source": [
    "# настройки отображения графиков\n",
    "%matplotlib inline\n",
    "plt.style.use('ggplot')\n",
    "plt.rcParams['figure.figsize'] = (15, 5)\n",
    "plt.rcParams['font.family'] = 'sans-serif'"
   ]
  },
  {
   "cell_type": "markdown",
   "metadata": {},
   "source": [
    "### Orders - заказы у продавцов"
   ]
  },
  {
   "cell_type": "code",
   "execution_count": 3,
   "metadata": {},
   "outputs": [],
   "source": [
    "orders = pd.read_csv(\n",
    "    '/opt/kate_repo/real_data_analysis/emex_interview_task/orders.csv')"
   ]
  },
  {
   "cell_type": "code",
   "execution_count": 4,
   "metadata": {},
   "outputs": [
    {
     "data": {
      "text/html": [
       "<div>\n",
       "<style scoped>\n",
       "    .dataframe tbody tr th:only-of-type {\n",
       "        vertical-align: middle;\n",
       "    }\n",
       "\n",
       "    .dataframe tbody tr th {\n",
       "        vertical-align: top;\n",
       "    }\n",
       "\n",
       "    .dataframe thead th {\n",
       "        text-align: right;\n",
       "    }\n",
       "</style>\n",
       "<table border=\"1\" class=\"dataframe\">\n",
       "  <thead>\n",
       "    <tr style=\"text-align: right;\">\n",
       "      <th></th>\n",
       "      <th>id</th>\n",
       "      <th>created_at</th>\n",
       "      <th>seller_id</th>\n",
       "      <th>product_price</th>\n",
       "      <th>quantity</th>\n",
       "      <th>status</th>\n",
       "    </tr>\n",
       "  </thead>\n",
       "  <tbody>\n",
       "    <tr>\n",
       "      <th>0</th>\n",
       "      <td>1</td>\n",
       "      <td>2020-08-03 10:39:52.847</td>\n",
       "      <td>2</td>\n",
       "      <td>911.50</td>\n",
       "      <td>1</td>\n",
       "      <td>BuyerDidNotCome</td>\n",
       "    </tr>\n",
       "    <tr>\n",
       "      <th>1</th>\n",
       "      <td>4</td>\n",
       "      <td>2020-08-03 10:45:59.203</td>\n",
       "      <td>2</td>\n",
       "      <td>911.50</td>\n",
       "      <td>1</td>\n",
       "      <td>Rejection</td>\n",
       "    </tr>\n",
       "    <tr>\n",
       "      <th>2</th>\n",
       "      <td>2</td>\n",
       "      <td>2020-08-03 10:48:48.763</td>\n",
       "      <td>2</td>\n",
       "      <td>911.50</td>\n",
       "      <td>2</td>\n",
       "      <td>Rejection</td>\n",
       "    </tr>\n",
       "    <tr>\n",
       "      <th>3</th>\n",
       "      <td>3</td>\n",
       "      <td>2020-08-03 10:51:56.99</td>\n",
       "      <td>1</td>\n",
       "      <td>911.50</td>\n",
       "      <td>3</td>\n",
       "      <td>New</td>\n",
       "    </tr>\n",
       "    <tr>\n",
       "      <th>4</th>\n",
       "      <td>5</td>\n",
       "      <td>2020-08-03 10:58:08.137</td>\n",
       "      <td>1</td>\n",
       "      <td>5001.99</td>\n",
       "      <td>7</td>\n",
       "      <td>New</td>\n",
       "    </tr>\n",
       "  </tbody>\n",
       "</table>\n",
       "</div>"
      ],
      "text/plain": [
       "   id               created_at  seller_id  product_price  quantity  \\\n",
       "0   1  2020-08-03 10:39:52.847          2         911.50         1   \n",
       "1   4  2020-08-03 10:45:59.203          2         911.50         1   \n",
       "2   2  2020-08-03 10:48:48.763          2         911.50         2   \n",
       "3   3   2020-08-03 10:51:56.99          1         911.50         3   \n",
       "4   5  2020-08-03 10:58:08.137          1        5001.99         7   \n",
       "\n",
       "            status  \n",
       "0  BuyerDidNotCome  \n",
       "1        Rejection  \n",
       "2        Rejection  \n",
       "3              New  \n",
       "4              New  "
      ]
     },
     "execution_count": 4,
     "metadata": {},
     "output_type": "execute_result"
    }
   ],
   "source": [
    "# Сортировка данных по дате\n",
    "orders = orders.sort_values('created_at', ascending=True)\n",
    "orders.reset_index(drop=True, inplace=True)\n",
    "orders.head()"
   ]
  },
  {
   "cell_type": "code",
   "execution_count": 5,
   "metadata": {},
   "outputs": [
    {
     "data": {
      "text/plain": [
       "'2020-08-03 10:39:52.847'"
      ]
     },
     "execution_count": 5,
     "metadata": {},
     "output_type": "execute_result"
    }
   ],
   "source": [
    "orders['created_at'].min()"
   ]
  },
  {
   "cell_type": "code",
   "execution_count": 6,
   "metadata": {},
   "outputs": [
    {
     "data": {
      "text/plain": [
       "(338, 6)"
      ]
     },
     "execution_count": 6,
     "metadata": {},
     "output_type": "execute_result"
    }
   ],
   "source": [
    "orders.shape"
   ]
  },
  {
   "cell_type": "code",
   "execution_count": 7,
   "metadata": {},
   "outputs": [
    {
     "data": {
      "text/plain": [
       "id                 int64\n",
       "created_at        object\n",
       "seller_id          int64\n",
       "product_price    float64\n",
       "quantity           int64\n",
       "status            object\n",
       "dtype: object"
      ]
     },
     "execution_count": 7,
     "metadata": {},
     "output_type": "execute_result"
    }
   ],
   "source": [
    "# Тип данных\n",
    "orders.dtypes"
   ]
  },
  {
   "cell_type": "code",
   "execution_count": 8,
   "metadata": {},
   "outputs": [],
   "source": [
    "# Корректировка формата даты\n",
    "orders['created_at'] = pd.to_datetime(orders['created_at'])"
   ]
  },
  {
   "cell_type": "code",
   "execution_count": 9,
   "metadata": {},
   "outputs": [],
   "source": [
    "# Извлечение даты\n",
    "orders['created_at']=[d.date() for d in orders['created_at']] "
   ]
  },
  {
   "cell_type": "code",
   "execution_count": 10,
   "metadata": {},
   "outputs": [
    {
     "data": {
      "text/plain": [
       "id               int64\n",
       "seller_id        int64\n",
       "product_price    int64\n",
       "quantity         int64\n",
       "status           int64\n",
       "dtype: object"
      ]
     },
     "execution_count": 10,
     "metadata": {},
     "output_type": "execute_result"
    }
   ],
   "source": [
    "# Количество заказов по дням\n",
    "# orders_date_count=orders.groupby(pd.Grouper(key=\"created_at\", freq=\"D\")).count()\n",
    "\n",
    "# Количество заказов по дням\n",
    "orders_date_count=orders.groupby('created_at').count()\n",
    "orders_date_count.dtypes"
   ]
  },
  {
   "cell_type": "code",
   "execution_count": 11,
   "metadata": {},
   "outputs": [
    {
     "data": {
      "text/plain": [
       "31"
      ]
     },
     "execution_count": 11,
     "metadata": {},
     "output_type": "execute_result"
    }
   ],
   "source": [
    "# Количество продавцов\n",
    "num_seller = orders['seller_id'].value_counts(sort=False)\n",
    "len(num_seller)"
   ]
  },
  {
   "cell_type": "code",
   "execution_count": 12,
   "metadata": {},
   "outputs": [
    {
     "data": {
      "text/plain": [
       "<AxesSubplot:>"
      ]
     },
     "execution_count": 12,
     "metadata": {},
     "output_type": "execute_result"
    },
    {
     "data": {
      "image/png": "[encoded data removed]",
      "text/plain": [
       "<Figure size 1080x360 with 1 Axes>"
      ]
     },
     "metadata": {},
     "output_type": "display_data"
    }
   ],
   "source": [
    "# Количество заказов у продавцов\n",
    "orders['seller_id'].value_counts().plot.bar()"
   ]
  },
  {
   "cell_type": "code",
   "execution_count": 13,
   "metadata": {},
   "outputs": [
    {
     "data": {
      "text/plain": [
       "Issued             155\n",
       "Rejection           66\n",
       "New                 41\n",
       "Canceled            38\n",
       "BuyerDidNotCome     38\n",
       "Name: status, dtype: int64"
      ]
     },
     "execution_count": 13,
     "metadata": {},
     "output_type": "execute_result"
    }
   ],
   "source": [
    "orders['status'].value_counts()"
   ]
  },
  {
   "cell_type": "code",
   "execution_count": 14,
   "metadata": {},
   "outputs": [
    {
     "data": {
      "text/plain": [
       "Text(0.5, 1.0, 'Статусы заказов у продавцов')"
      ]
     },
     "execution_count": 14,
     "metadata": {},
     "output_type": "execute_result"
    },
    {
     "data": {
      "image/png": "[encoded data removed]",
      "text/plain": [
       "<Figure size 1280x720 with 1 Axes>"
      ]
     },
     "metadata": {},
     "output_type": "display_data"
    }
   ],
   "source": [
    "# Статусы заказов у продавцов\n",
    "\n",
    "# Данные\n",
    "x_var = 'seller_id'\n",
    "groupby_var = 'status'\n",
    "orders_agg = orders.loc[:, [x_var, groupby_var]].groupby(groupby_var)\n",
    "vals = [orders[x_var].values.tolist() for i, orders in orders_agg]\n",
    "\n",
    "# График\n",
    "plt.figure(figsize=(16, 9), dpi=80)\n",
    "n, bins, patches = plt.hist(vals,\n",
    "                            30,\n",
    "                            stacked=True,\n",
    "                            density=False,\n",
    "                            color=['r', 'y', 'b', 'k', 'g'])\n",
    "\n",
    "# Легенда\n",
    "colors = [plt.cm.Spectral(i / float(len(vals) - 1)) for i in range(len(vals))]\n",
    "plt.legend({\n",
    "    group: col\n",
    "    for group, col in zip(\n",
    "        np.unique(orders[groupby_var]).tolist(), colors[:len(vals)])\n",
    "})\n",
    "\n",
    "plt.ylim(0, 90)\n",
    "plt.xticks(ticks=bins,\n",
    "           labels=np.unique(orders[x_var]).tolist(),\n",
    "           rotation=90,\n",
    "           horizontalalignment='left')\n",
    "plt.xlabel('id продавца')\n",
    "plt.ylabel('Количество заказов у продавца')\n",
    "plt.title('Статусы заказов у продавцов')"
   ]
  },
  {
   "cell_type": "code",
   "execution_count": 15,
   "metadata": {},
   "outputs": [],
   "source": [
    "# # Период обработки заказов\n",
    "\n",
    "# sns.kdeplot(data=orders, x='created_at', hue='status')\n",
    "# plt.xlabel('Дата создания заказа')\n",
    "# plt.ylabel('Количество заказов')\n",
    "# plt.title('Период обработки заказов')"
   ]
  },
  {
   "cell_type": "code",
   "execution_count": 16,
   "metadata": {},
   "outputs": [],
   "source": [
    "# Достигнут критерий успешности пробного запуска >= 10 продаж на продавца\n",
    "orders_issued = orders[orders['status'] == 'Issued']\n",
    "\n",
    "sellers_id_groups = orders_issued.groupby(['seller_id'])\n",
    "\n",
    "success_sellers = sellers_id_groups.filter(\n",
    "    lambda group: group['status'].count() >= 10)"
   ]
  },
  {
   "cell_type": "code",
   "execution_count": 17,
   "metadata": {},
   "outputs": [
    {
     "data": {
      "text/plain": [
       "Text(0.5, 1.0, '>= 10 продаж на продавца')"
      ]
     },
     "execution_count": 17,
     "metadata": {},
     "output_type": "execute_result"
    },
    {
     "data": {
      "image/png": "[encoded data removed]",
      "text/plain": [
       "<Figure size 1080x360 with 1 Axes>"
      ]
     },
     "metadata": {},
     "output_type": "display_data"
    }
   ],
   "source": [
    "# Id продавцов, достигнувших критерия успешности\n",
    "success_sellers['seller_id'].value_counts().plot.bar()\n",
    "\n",
    "plt.xlabel('id продавца')\n",
    "plt.ylabel('Количество продаж у продавца')\n",
    "plt.title('>= 10 продаж на продавца')"
   ]
  },
  {
   "cell_type": "code",
   "execution_count": 18,
   "metadata": {},
   "outputs": [
    {
     "data": {
      "image/png": "[encoded data removed]",
      "text/plain": [
       "<Figure size 1080x360 with 1 Axes>"
      ]
     },
     "metadata": {},
     "output_type": "display_data"
    }
   ],
   "source": [
    "# Процент продавцов, которым удалось достичь критерия успешности\n",
    "num_success_sellers = success_sellers['seller_id'].value_counts(sort=False)\n",
    "\n",
    "plt.pie([len(num_success_sellers), len(num_seller)],autopct='%.1f')\n",
    "plt.title('Продавцы, которым удалось достичь критерия успешности (%)')\n",
    "plt.legend(\n",
    "    loc = 'best', labels = ('Successful','Not enough') )\n",
    "plt.show()"
   ]
  },
  {
   "cell_type": "markdown",
   "metadata": {},
   "source": [
    "### Registrations - заявки потенциальных продавцов"
   ]
  },
  {
   "cell_type": "code",
   "execution_count": 19,
   "metadata": {},
   "outputs": [
    {
     "data": {
      "text/html": [
       "<div>\n",
       "<style scoped>\n",
       "    .dataframe tbody tr th:only-of-type {\n",
       "        vertical-align: middle;\n",
       "    }\n",
       "\n",
       "    .dataframe tbody tr th {\n",
       "        vertical-align: top;\n",
       "    }\n",
       "\n",
       "    .dataframe thead th {\n",
       "        text-align: right;\n",
       "    }\n",
       "</style>\n",
       "<table border=\"1\" class=\"dataframe\">\n",
       "  <thead>\n",
       "    <tr style=\"text-align: right;\">\n",
       "      <th></th>\n",
       "      <th>id</th>\n",
       "      <th>inn</th>\n",
       "      <th>created_at</th>\n",
       "      <th>is_accepted</th>\n",
       "      <th>is_seller</th>\n",
       "    </tr>\n",
       "  </thead>\n",
       "  <tbody>\n",
       "    <tr>\n",
       "      <th>0</th>\n",
       "      <td>5781db93a6444c921c45efcc7f30bd08</td>\n",
       "      <td>2.301126e+11</td>\n",
       "      <td>2020-07-17 10:11:40.204382</td>\n",
       "      <td>False</td>\n",
       "      <td>False</td>\n",
       "    </tr>\n",
       "    <tr>\n",
       "      <th>1</th>\n",
       "      <td>e8862ca7b667307568ca408c05c57cce</td>\n",
       "      <td>5.047905e+11</td>\n",
       "      <td>2020-07-31 15:54:30.906968</td>\n",
       "      <td>False</td>\n",
       "      <td>False</td>\n",
       "    </tr>\n",
       "    <tr>\n",
       "      <th>2</th>\n",
       "      <td>838ae3edd30e77940522cb950fb6a77d</td>\n",
       "      <td>NaN</td>\n",
       "      <td>2020-08-03 08:09:59.410891</td>\n",
       "      <td>False</td>\n",
       "      <td>True</td>\n",
       "    </tr>\n",
       "    <tr>\n",
       "      <th>3</th>\n",
       "      <td>d8aa22a597b538ddef927675a20fec45</td>\n",
       "      <td>NaN</td>\n",
       "      <td>2020-07-29 10:03:43.949494</td>\n",
       "      <td>False</td>\n",
       "      <td>True</td>\n",
       "    </tr>\n",
       "    <tr>\n",
       "      <th>4</th>\n",
       "      <td>d30bd4297f49a76595df3eb348b59eaa</td>\n",
       "      <td>NaN</td>\n",
       "      <td>2020-07-30 12:48:44.982906</td>\n",
       "      <td>False</td>\n",
       "      <td>True</td>\n",
       "    </tr>\n",
       "  </tbody>\n",
       "</table>\n",
       "</div>"
      ],
      "text/plain": [
       "                                 id           inn                  created_at  \\\n",
       "0  5781db93a6444c921c45efcc7f30bd08  2.301126e+11  2020-07-17 10:11:40.204382   \n",
       "1  e8862ca7b667307568ca408c05c57cce  5.047905e+11  2020-07-31 15:54:30.906968   \n",
       "2  838ae3edd30e77940522cb950fb6a77d           NaN  2020-08-03 08:09:59.410891   \n",
       "3  d8aa22a597b538ddef927675a20fec45           NaN  2020-07-29 10:03:43.949494   \n",
       "4  d30bd4297f49a76595df3eb348b59eaa           NaN  2020-07-30 12:48:44.982906   \n",
       "\n",
       "   is_accepted  is_seller  \n",
       "0        False      False  \n",
       "1        False      False  \n",
       "2        False       True  \n",
       "3        False       True  \n",
       "4        False       True  "
      ]
     },
     "execution_count": 19,
     "metadata": {},
     "output_type": "execute_result"
    }
   ],
   "source": [
    "registrations = pd.read_csv(\n",
    "    '/opt/kate_repo/real_data_analysis/emex_interview_task/registrations.csv')\n",
    "registrations.head()"
   ]
  },
  {
   "cell_type": "code",
   "execution_count": 20,
   "metadata": {},
   "outputs": [
    {
     "data": {
      "text/plain": [
       "id              object\n",
       "inn            float64\n",
       "created_at      object\n",
       "is_accepted       bool\n",
       "is_seller         bool\n",
       "dtype: object"
      ]
     },
     "execution_count": 20,
     "metadata": {},
     "output_type": "execute_result"
    }
   ],
   "source": [
    "registrations.dtypes"
   ]
  },
  {
   "cell_type": "code",
   "execution_count": 21,
   "metadata": {},
   "outputs": [],
   "source": [
    "registrations.rename(columns=lambda x: x.replace('inn', 'Inn'), inplace=True)\n",
    "registrations.rename(\n",
    "    columns=lambda x: x.replace('created_at', 'created_at_registrations'),\n",
    "    inplace=True)"
   ]
  },
  {
   "cell_type": "code",
   "execution_count": 22,
   "metadata": {},
   "outputs": [
    {
     "data": {
      "text/plain": [
       "True     4675\n",
       "False    1862\n",
       "Name: is_seller, dtype: int64"
      ]
     },
     "execution_count": 22,
     "metadata": {},
     "output_type": "execute_result"
    }
   ],
   "source": [
    "registrations['is_seller'].value_counts()"
   ]
  },
  {
   "cell_type": "code",
   "execution_count": 23,
   "metadata": {},
   "outputs": [
    {
     "data": {
      "text/plain": [
       "(6537, 5)"
      ]
     },
     "execution_count": 23,
     "metadata": {},
     "output_type": "execute_result"
    }
   ],
   "source": [
    "# Количество заявок потенциальных продавцов\n",
    "registrations.shape"
   ]
  },
  {
   "cell_type": "code",
   "execution_count": 24,
   "metadata": {},
   "outputs": [
    {
     "data": {
      "text/plain": [
       "id                           object\n",
       "Inn                         float64\n",
       "created_at_registrations     object\n",
       "is_accepted                    bool\n",
       "is_seller                      bool\n",
       "dtype: object"
      ]
     },
     "execution_count": 24,
     "metadata": {},
     "output_type": "execute_result"
    }
   ],
   "source": [
    "registrations.dtypes"
   ]
  },
  {
   "cell_type": "code",
   "execution_count": 25,
   "metadata": {},
   "outputs": [],
   "source": [
    "# Заполнение отсутствующих данных значением 0\n",
    "registrations = registrations.fillna(0)"
   ]
  },
  {
   "cell_type": "code",
   "execution_count": 26,
   "metadata": {},
   "outputs": [],
   "source": [
    "# Корректировка форматов даты и ИНН\n",
    "registrations['created_at_registrations'] = pd.to_datetime(\n",
    "    registrations['created_at_registrations'])\n",
    "registrations['Inn'] = registrations['Inn'].astype(int)"
   ]
  },
  {
   "cell_type": "code",
   "execution_count": 27,
   "metadata": {},
   "outputs": [
    {
     "data": {
      "text/html": [
       "<div>\n",
       "<style scoped>\n",
       "    .dataframe tbody tr th:only-of-type {\n",
       "        vertical-align: middle;\n",
       "    }\n",
       "\n",
       "    .dataframe tbody tr th {\n",
       "        vertical-align: top;\n",
       "    }\n",
       "\n",
       "    .dataframe thead th {\n",
       "        text-align: right;\n",
       "    }\n",
       "</style>\n",
       "<table border=\"1\" class=\"dataframe\">\n",
       "  <thead>\n",
       "    <tr style=\"text-align: right;\">\n",
       "      <th></th>\n",
       "      <th>id</th>\n",
       "      <th>Inn</th>\n",
       "      <th>created_at_registrations</th>\n",
       "      <th>is_accepted</th>\n",
       "      <th>is_seller</th>\n",
       "    </tr>\n",
       "  </thead>\n",
       "  <tbody>\n",
       "    <tr>\n",
       "      <th>0</th>\n",
       "      <td>3aa8856e733439ab813f31334918591b</td>\n",
       "      <td>744709932397</td>\n",
       "      <td>2020-07-08 11:21:22.054524</td>\n",
       "      <td>True</td>\n",
       "      <td>True</td>\n",
       "    </tr>\n",
       "    <tr>\n",
       "      <th>1</th>\n",
       "      <td>d37ef554b61b33220c87b001b1f7a0bc</td>\n",
       "      <td>2724220678</td>\n",
       "      <td>2020-07-13 06:45:56.916201</td>\n",
       "      <td>True</td>\n",
       "      <td>True</td>\n",
       "    </tr>\n",
       "    <tr>\n",
       "      <th>2</th>\n",
       "      <td>3749723e1447ed22b9caf8829b1f3783</td>\n",
       "      <td>27810334737</td>\n",
       "      <td>2020-07-13 07:15:07.828710</td>\n",
       "      <td>True</td>\n",
       "      <td>True</td>\n",
       "    </tr>\n",
       "    <tr>\n",
       "      <th>3</th>\n",
       "      <td>b5f6fb3626c3a0c744f6811217e00984</td>\n",
       "      <td>434546079680</td>\n",
       "      <td>2020-07-13 07:47:46.554344</td>\n",
       "      <td>True</td>\n",
       "      <td>True</td>\n",
       "    </tr>\n",
       "    <tr>\n",
       "      <th>4</th>\n",
       "      <td>5477fdfd5d4ced6514cd615f7c5e028d</td>\n",
       "      <td>7017329974</td>\n",
       "      <td>2020-07-13 07:51:35.371213</td>\n",
       "      <td>True</td>\n",
       "      <td>True</td>\n",
       "    </tr>\n",
       "    <tr>\n",
       "      <th>...</th>\n",
       "      <td>...</td>\n",
       "      <td>...</td>\n",
       "      <td>...</td>\n",
       "      <td>...</td>\n",
       "      <td>...</td>\n",
       "    </tr>\n",
       "    <tr>\n",
       "      <th>81</th>\n",
       "      <td>30103da2752407e8d267352a823a7d80</td>\n",
       "      <td>5905302430</td>\n",
       "      <td>2020-11-05 02:30:40.321752</td>\n",
       "      <td>True</td>\n",
       "      <td>True</td>\n",
       "    </tr>\n",
       "    <tr>\n",
       "      <th>82</th>\n",
       "      <td>e78711447557fa807c0ea9d100f1801e</td>\n",
       "      <td>667115487638</td>\n",
       "      <td>2020-11-07 06:50:33.759575</td>\n",
       "      <td>True</td>\n",
       "      <td>True</td>\n",
       "    </tr>\n",
       "    <tr>\n",
       "      <th>83</th>\n",
       "      <td>7ba0a247ec42fc6e854de159a71a93e0</td>\n",
       "      <td>702000860312</td>\n",
       "      <td>2020-11-10 06:07:34.392419</td>\n",
       "      <td>True</td>\n",
       "      <td>True</td>\n",
       "    </tr>\n",
       "    <tr>\n",
       "      <th>84</th>\n",
       "      <td>300a8c8eb7187853903685f3e9f479dd</td>\n",
       "      <td>7017148329</td>\n",
       "      <td>2020-11-11 03:16:37.012612</td>\n",
       "      <td>True</td>\n",
       "      <td>True</td>\n",
       "    </tr>\n",
       "    <tr>\n",
       "      <th>85</th>\n",
       "      <td>50c7a0e492e71d944273e3bbf97a2dc1</td>\n",
       "      <td>745214807998</td>\n",
       "      <td>2020-11-11 08:28:36.751805</td>\n",
       "      <td>True</td>\n",
       "      <td>True</td>\n",
       "    </tr>\n",
       "  </tbody>\n",
       "</table>\n",
       "<p>86 rows × 5 columns</p>\n",
       "</div>"
      ],
      "text/plain": [
       "                                  id           Inn   created_at_registrations  \\\n",
       "0   3aa8856e733439ab813f31334918591b  744709932397 2020-07-08 11:21:22.054524   \n",
       "1   d37ef554b61b33220c87b001b1f7a0bc    2724220678 2020-07-13 06:45:56.916201   \n",
       "2   3749723e1447ed22b9caf8829b1f3783   27810334737 2020-07-13 07:15:07.828710   \n",
       "3   b5f6fb3626c3a0c744f6811217e00984  434546079680 2020-07-13 07:47:46.554344   \n",
       "4   5477fdfd5d4ced6514cd615f7c5e028d    7017329974 2020-07-13 07:51:35.371213   \n",
       "..                               ...           ...                        ...   \n",
       "81  30103da2752407e8d267352a823a7d80    5905302430 2020-11-05 02:30:40.321752   \n",
       "82  e78711447557fa807c0ea9d100f1801e  667115487638 2020-11-07 06:50:33.759575   \n",
       "83  7ba0a247ec42fc6e854de159a71a93e0  702000860312 2020-11-10 06:07:34.392419   \n",
       "84  300a8c8eb7187853903685f3e9f479dd    7017148329 2020-11-11 03:16:37.012612   \n",
       "85  50c7a0e492e71d944273e3bbf97a2dc1  745214807998 2020-11-11 08:28:36.751805   \n",
       "\n",
       "    is_accepted  is_seller  \n",
       "0          True       True  \n",
       "1          True       True  \n",
       "2          True       True  \n",
       "3          True       True  \n",
       "4          True       True  \n",
       "..          ...        ...  \n",
       "81         True       True  \n",
       "82         True       True  \n",
       "83         True       True  \n",
       "84         True       True  \n",
       "85         True       True  \n",
       "\n",
       "[86 rows x 5 columns]"
      ]
     },
     "execution_count": 27,
     "metadata": {},
     "output_type": "execute_result"
    }
   ],
   "source": [
    "# Продавцы, успешно прошедшие регистрацию\n",
    "registrations_is_correct = registrations[(registrations['is_accepted'] ==True) \n",
    "                              & (registrations['is_seller'] == True)]\n",
    "registrations_is_correct = registrations_is_correct.sort_values('created_at_registrations',\n",
    "                                          ascending=True)\n",
    "registrations_is_correct.reset_index(drop=True, inplace=True)\n",
    "registrations_is_correct"
   ]
  },
  {
   "cell_type": "code",
   "execution_count": 28,
   "metadata": {},
   "outputs": [
    {
     "data": {
      "image/png": "[encoded data removed]",
      "text/plain": [
       "<Figure size 1080x360 with 1 Axes>"
      ]
     },
     "metadata": {},
     "output_type": "display_data"
    }
   ],
   "source": [
    "# Продавцы, успешно прошедшие регистрацию\n",
    "correct=len(registrations_is_correct)\n",
    "reject=len(registrations)\n",
    "plt.pie([correct,reject],autopct='%.1f')\n",
    "plt.legend(\n",
    "    loc = 'best', labels = ('Correct','Reject') )\n",
    "plt.title('Продавцы, успешно прошедшие регистрацию (%)')\n",
    "plt.show()"
   ]
  },
  {
   "cell_type": "code",
   "execution_count": 29,
   "metadata": {},
   "outputs": [
    {
     "data": {
      "text/plain": [
       "False    6246\n",
       "True      291\n",
       "Name: is_accepted, dtype: int64"
      ]
     },
     "execution_count": 29,
     "metadata": {},
     "output_type": "execute_result"
    }
   ],
   "source": [
    "registrations.is_accepted.value_counts()"
   ]
  },
  {
   "cell_type": "code",
   "execution_count": 30,
   "metadata": {},
   "outputs": [],
   "source": [
    "# Сортировка данных по дате\n",
    "registrations = registrations.sort_values('created_at_registrations',\n",
    "                                          ascending=True)\n",
    "registrations.reset_index(drop=True, inplace=True)"
   ]
  },
  {
   "cell_type": "markdown",
   "metadata": {},
   "source": [
    "### Sellers - учётные записи зарегистрированных продавцов"
   ]
  },
  {
   "cell_type": "code",
   "execution_count": 31,
   "metadata": {},
   "outputs": [
    {
     "name": "stderr",
     "output_type": "stream",
     "text": [
      "<ipython-input-31-6a9fd22de0f4>:6: FutureWarning: pandas.io.json.json_normalize is deprecated, use pandas.json_normalize instead\n",
      "  contractor = sellers.join(pd.io.json.json_normalize(\n"
     ]
    },
    {
     "data": {
      "text/html": [
       "<div>\n",
       "<style scoped>\n",
       "    .dataframe tbody tr th:only-of-type {\n",
       "        vertical-align: middle;\n",
       "    }\n",
       "\n",
       "    .dataframe tbody tr th {\n",
       "        vertical-align: top;\n",
       "    }\n",
       "\n",
       "    .dataframe thead th {\n",
       "        text-align: right;\n",
       "    }\n",
       "</style>\n",
       "<table border=\"1\" class=\"dataframe\">\n",
       "  <thead>\n",
       "    <tr style=\"text-align: right;\">\n",
       "      <th></th>\n",
       "      <th>id</th>\n",
       "      <th>created_at</th>\n",
       "      <th>Inn</th>\n",
       "      <th>Bulk</th>\n",
       "      <th>City</th>\n",
       "      <th>Flat</th>\n",
       "      <th>Ogrn</th>\n",
       "      <th>House</th>\n",
       "      <th>Оkpo</th>\n",
       "      <th>Status</th>\n",
       "      <th>Street</th>\n",
       "      <th>ZipCode</th>\n",
       "      <th>LegalName</th>\n",
       "      <th>RegionName</th>\n",
       "      <th>Settlement</th>\n",
       "    </tr>\n",
       "  </thead>\n",
       "  <tbody>\n",
       "    <tr>\n",
       "      <th>0</th>\n",
       "      <td>1</td>\n",
       "      <td>2020-08-03 07:12:03.963452</td>\n",
       "      <td>5544554451</td>\n",
       "      <td>None</td>\n",
       "      <td>None</td>\n",
       "      <td>None</td>\n",
       "      <td>None</td>\n",
       "      <td>None</td>\n",
       "      <td>None</td>\n",
       "      <td>0</td>\n",
       "      <td>None</td>\n",
       "      <td>None</td>\n",
       "      <td>None</td>\n",
       "      <td>None</td>\n",
       "      <td>None</td>\n",
       "    </tr>\n",
       "    <tr>\n",
       "      <th>1</th>\n",
       "      <td>2</td>\n",
       "      <td>2020-08-03 07:38:31.136276</td>\n",
       "      <td>0000000000</td>\n",
       "      <td>None</td>\n",
       "      <td>None</td>\n",
       "      <td>None</td>\n",
       "      <td>None</td>\n",
       "      <td>None</td>\n",
       "      <td>None</td>\n",
       "      <td>0</td>\n",
       "      <td>None</td>\n",
       "      <td>None</td>\n",
       "      <td>None</td>\n",
       "      <td>None</td>\n",
       "      <td>None</td>\n",
       "    </tr>\n",
       "    <tr>\n",
       "      <th>2</th>\n",
       "      <td>3</td>\n",
       "      <td>2020-08-04 05:58:33.473403</td>\n",
       "      <td>700202974358</td>\n",
       "      <td>None</td>\n",
       "      <td>Томск</td>\n",
       "      <td>None</td>\n",
       "      <td>317703100080340</td>\n",
       "      <td>None</td>\n",
       "      <td>0114009213</td>\n",
       "      <td>1</td>\n",
       "      <td>None</td>\n",
       "      <td>None</td>\n",
       "      <td>None</td>\n",
       "      <td>Томская область</td>\n",
       "      <td>None</td>\n",
       "    </tr>\n",
       "    <tr>\n",
       "      <th>3</th>\n",
       "      <td>4</td>\n",
       "      <td>2020-08-06 05:05:37.043578</td>\n",
       "      <td>7017216138</td>\n",
       "      <td>None</td>\n",
       "      <td>Томск</td>\n",
       "      <td>None</td>\n",
       "      <td>1087017018395</td>\n",
       "      <td>дом 9</td>\n",
       "      <td>85256729</td>\n",
       "      <td>1</td>\n",
       "      <td>улица Киевская</td>\n",
       "      <td>634012</td>\n",
       "      <td>Общество с ограниченной ответственностью \"Авто...</td>\n",
       "      <td>Томская область</td>\n",
       "      <td>None</td>\n",
       "    </tr>\n",
       "    <tr>\n",
       "      <th>4</th>\n",
       "      <td>5</td>\n",
       "      <td>2020-08-06 06:03:06.613762</td>\n",
       "      <td>352500119022</td>\n",
       "      <td>None</td>\n",
       "      <td>None</td>\n",
       "      <td>None</td>\n",
       "      <td>316290100082018</td>\n",
       "      <td>None</td>\n",
       "      <td>0104421401</td>\n",
       "      <td>1</td>\n",
       "      <td>None</td>\n",
       "      <td>None</td>\n",
       "      <td>None</td>\n",
       "      <td>Архангельская область</td>\n",
       "      <td>None</td>\n",
       "    </tr>\n",
       "  </tbody>\n",
       "</table>\n",
       "</div>"
      ],
      "text/plain": [
       "   id                  created_at           Inn  Bulk   City  Flat  \\\n",
       "0   1  2020-08-03 07:12:03.963452    5544554451  None   None  None   \n",
       "1   2  2020-08-03 07:38:31.136276    0000000000  None   None  None   \n",
       "2   3  2020-08-04 05:58:33.473403  700202974358  None  Томск  None   \n",
       "3   4  2020-08-06 05:05:37.043578    7017216138  None  Томск  None   \n",
       "4   5  2020-08-06 06:03:06.613762  352500119022  None   None  None   \n",
       "\n",
       "              Ogrn  House        Оkpo  Status          Street ZipCode  \\\n",
       "0             None   None        None       0            None    None   \n",
       "1             None   None        None       0            None    None   \n",
       "2  317703100080340   None  0114009213       1            None    None   \n",
       "3    1087017018395  дом 9    85256729       1  улица Киевская  634012   \n",
       "4  316290100082018   None  0104421401       1            None    None   \n",
       "\n",
       "                                           LegalName             RegionName  \\\n",
       "0                                               None                   None   \n",
       "1                                               None                   None   \n",
       "2                                               None        Томская область   \n",
       "3  Общество с ограниченной ответственностью \"Авто...        Томская область   \n",
       "4                                               None  Архангельская область   \n",
       "\n",
       "  Settlement  \n",
       "0       None  \n",
       "1       None  \n",
       "2       None  \n",
       "3       None  \n",
       "4       None  "
      ]
     },
     "execution_count": 31,
     "metadata": {},
     "output_type": "execute_result"
    }
   ],
   "source": [
    "sellers = pd.read_csv(\n",
    "    '/opt/kate_repo/real_data_analysis/emex_interview_task/sellers.csv',\n",
    "    converters={'contractor_json': json.loads},\n",
    "    header=0,\n",
    "    quotechar='\"')\n",
    "contractor = sellers.join(pd.io.json.json_normalize(\n",
    "    sellers[\"contractor_json\"])).drop([\"contractor_json\"], axis=1)\n",
    "contractor.head()"
   ]
  },
  {
   "cell_type": "code",
   "execution_count": 32,
   "metadata": {},
   "outputs": [],
   "source": [
    "contractor.rename(columns=lambda x: x.replace('id', 'seller_id'), inplace=True)\n",
    "contractor.rename(\n",
    "    columns=lambda x: x.replace('created_at', 'created_at_sellers'),\n",
    "    inplace=True)"
   ]
  },
  {
   "cell_type": "code",
   "execution_count": 33,
   "metadata": {},
   "outputs": [
    {
     "data": {
      "text/plain": [
       "(72, 15)"
      ]
     },
     "execution_count": 33,
     "metadata": {},
     "output_type": "execute_result"
    }
   ],
   "source": [
    "contractor.shape"
   ]
  },
  {
   "cell_type": "code",
   "execution_count": 34,
   "metadata": {},
   "outputs": [
    {
     "data": {
      "text/plain": [
       "seller_id              int64\n",
       "created_at_sellers    object\n",
       "Inn                   object\n",
       "Bulk                  object\n",
       "City                  object\n",
       "Flat                  object\n",
       "Ogrn                  object\n",
       "House                 object\n",
       "Оkpo                  object\n",
       "Status                 int64\n",
       "Street                object\n",
       "ZipCode               object\n",
       "LegalName             object\n",
       "RegionName            object\n",
       "Settlement            object\n",
       "dtype: object"
      ]
     },
     "execution_count": 34,
     "metadata": {},
     "output_type": "execute_result"
    }
   ],
   "source": [
    "contractor.dtypes"
   ]
  },
  {
   "cell_type": "code",
   "execution_count": 35,
   "metadata": {},
   "outputs": [],
   "source": [
    "# Корректировка формата даты\n",
    "contractor['created_at_sellers'] = pd.to_datetime(\n",
    "    contractor['created_at_sellers'])"
   ]
  },
  {
   "cell_type": "code",
   "execution_count": 36,
   "metadata": {},
   "outputs": [],
   "source": [
    "# Заполнение отсутствующих данных значением 0\n",
    "contractor = contractor.fillna(0)"
   ]
  },
  {
   "cell_type": "code",
   "execution_count": 37,
   "metadata": {},
   "outputs": [
    {
     "data": {
      "text/plain": [
       "(array([18435., 18444., 18465., 18475., 18496., 18506., 18527., 18536.,\n",
       "        18557., 18567.]),\n",
       " [Text(0, 0, ''),\n",
       "  Text(0, 0, ''),\n",
       "  Text(0, 0, ''),\n",
       "  Text(0, 0, ''),\n",
       "  Text(0, 0, ''),\n",
       "  Text(0, 0, ''),\n",
       "  Text(0, 0, ''),\n",
       "  Text(0, 0, ''),\n",
       "  Text(0, 0, ''),\n",
       "  Text(0, 0, '')])"
      ]
     },
     "execution_count": 37,
     "metadata": {},
     "output_type": "execute_result"
    },
    {
     "data": {
      "image/png": "[encoded data removed]",
      "text/plain": [
       "<Figure size 1080x360 with 1 Axes>"
      ]
     },
     "metadata": {},
     "output_type": "display_data"
    }
   ],
   "source": [
    "# Сбор заявок потенциальных продавцов\n",
    "x = registrations.created_at_registrations\n",
    "y = registrations.index\n",
    "sns.lineplot(x=x, y=y, data=registrations)\n",
    "plt.xticks(rotation=90)"
   ]
  },
  {
   "cell_type": "code",
   "execution_count": 38,
   "metadata": {},
   "outputs": [
    {
     "data": {
      "text/plain": [
       "(array([18475., 18489., 18506., 18520., 18536., 18550., 18567., 18581.]),\n",
       " [Text(0, 0, ''),\n",
       "  Text(0, 0, ''),\n",
       "  Text(0, 0, ''),\n",
       "  Text(0, 0, ''),\n",
       "  Text(0, 0, ''),\n",
       "  Text(0, 0, ''),\n",
       "  Text(0, 0, ''),\n",
       "  Text(0, 0, '')])"
      ]
     },
     "execution_count": 38,
     "metadata": {},
     "output_type": "execute_result"
    },
    {
     "data": {
      "image/png": "[encoded data removed]",
      "text/plain": [
       "<Figure size 1080x360 with 1 Axes>"
      ]
     },
     "metadata": {},
     "output_type": "display_data"
    }
   ],
   "source": [
    "# Размещение заказов\n",
    "x = orders.created_at\n",
    "y = orders.index\n",
    "sns.lineplot(x=x, y=y, data=orders)\n",
    "plt.xticks(rotation=90)"
   ]
  },
  {
   "cell_type": "code",
   "execution_count": 39,
   "metadata": {},
   "outputs": [
    {
     "data": {
      "text/plain": [
       "(array([18475., 18489., 18506., 18520., 18536., 18550., 18567., 18581.]),\n",
       " [Text(0, 0, ''),\n",
       "  Text(0, 0, ''),\n",
       "  Text(0, 0, ''),\n",
       "  Text(0, 0, ''),\n",
       "  Text(0, 0, ''),\n",
       "  Text(0, 0, ''),\n",
       "  Text(0, 0, ''),\n",
       "  Text(0, 0, '')])"
      ]
     },
     "execution_count": 39,
     "metadata": {},
     "output_type": "execute_result"
    },
    {
     "data": {
      "image/png": "[encoded data removed]",
      "text/plain": [
       "<Figure size 1080x360 with 1 Axes>"
      ]
     },
     "metadata": {},
     "output_type": "display_data"
    }
   ],
   "source": [
    "# Создание учётных записей зарегистрированных продавцов\n",
    "x = contractor.created_at_sellers\n",
    "y = contractor.index\n",
    "sns.lineplot(x=x, y=y, data=sellers)\n",
    "plt.xticks(rotation=90)"
   ]
  },
  {
   "cell_type": "code",
   "execution_count": 40,
   "metadata": {},
   "outputs": [
    {
     "data": {
      "text/html": [
       "<div>\n",
       "<style scoped>\n",
       "    .dataframe tbody tr th:only-of-type {\n",
       "        vertical-align: middle;\n",
       "    }\n",
       "\n",
       "    .dataframe tbody tr th {\n",
       "        vertical-align: top;\n",
       "    }\n",
       "\n",
       "    .dataframe thead th {\n",
       "        text-align: right;\n",
       "    }\n",
       "</style>\n",
       "<table border=\"1\" class=\"dataframe\">\n",
       "  <thead>\n",
       "    <tr style=\"text-align: right;\">\n",
       "      <th></th>\n",
       "      <th>id_x</th>\n",
       "      <th>created_at_orders</th>\n",
       "      <th>seller_id</th>\n",
       "      <th>product_price</th>\n",
       "      <th>quantity</th>\n",
       "      <th>status</th>\n",
       "      <th>created_at_orders_sellers</th>\n",
       "      <th>Inn</th>\n",
       "      <th>Bulk</th>\n",
       "      <th>City</th>\n",
       "      <th>...</th>\n",
       "      <th>Status</th>\n",
       "      <th>Street</th>\n",
       "      <th>ZipCode</th>\n",
       "      <th>LegalName</th>\n",
       "      <th>RegionName</th>\n",
       "      <th>Settlement</th>\n",
       "      <th>id_y</th>\n",
       "      <th>created_at_orders_registrations</th>\n",
       "      <th>is_accepted</th>\n",
       "      <th>is_seller</th>\n",
       "    </tr>\n",
       "  </thead>\n",
       "  <tbody>\n",
       "    <tr>\n",
       "      <th>0</th>\n",
       "      <td>33</td>\n",
       "      <td>2020-09-14</td>\n",
       "      <td>30</td>\n",
       "      <td>225.0</td>\n",
       "      <td>1</td>\n",
       "      <td>Rejection</td>\n",
       "      <td>2020-09-12 04:13:28.469386</td>\n",
       "      <td>702435078164</td>\n",
       "      <td>0</td>\n",
       "      <td>Северск</td>\n",
       "      <td>...</td>\n",
       "      <td>1</td>\n",
       "      <td>0</td>\n",
       "      <td>0</td>\n",
       "      <td>0</td>\n",
       "      <td>Томская область</td>\n",
       "      <td>0</td>\n",
       "      <td>39064bfcf34938cea611f5dfcc4c94d8</td>\n",
       "      <td>2020-08-17 02:06:23.600490</td>\n",
       "      <td>True</td>\n",
       "      <td>True</td>\n",
       "    </tr>\n",
       "    <tr>\n",
       "      <th>1</th>\n",
       "      <td>34</td>\n",
       "      <td>2020-09-14</td>\n",
       "      <td>30</td>\n",
       "      <td>225.0</td>\n",
       "      <td>1</td>\n",
       "      <td>BuyerDidNotCome</td>\n",
       "      <td>2020-09-12 04:13:28.469386</td>\n",
       "      <td>702435078164</td>\n",
       "      <td>0</td>\n",
       "      <td>Северск</td>\n",
       "      <td>...</td>\n",
       "      <td>1</td>\n",
       "      <td>0</td>\n",
       "      <td>0</td>\n",
       "      <td>0</td>\n",
       "      <td>Томская область</td>\n",
       "      <td>0</td>\n",
       "      <td>39064bfcf34938cea611f5dfcc4c94d8</td>\n",
       "      <td>2020-08-17 02:06:23.600490</td>\n",
       "      <td>True</td>\n",
       "      <td>True</td>\n",
       "    </tr>\n",
       "    <tr>\n",
       "      <th>2</th>\n",
       "      <td>35</td>\n",
       "      <td>2020-09-14</td>\n",
       "      <td>30</td>\n",
       "      <td>225.0</td>\n",
       "      <td>1</td>\n",
       "      <td>Rejection</td>\n",
       "      <td>2020-09-12 04:13:28.469386</td>\n",
       "      <td>702435078164</td>\n",
       "      <td>0</td>\n",
       "      <td>Северск</td>\n",
       "      <td>...</td>\n",
       "      <td>1</td>\n",
       "      <td>0</td>\n",
       "      <td>0</td>\n",
       "      <td>0</td>\n",
       "      <td>Томская область</td>\n",
       "      <td>0</td>\n",
       "      <td>39064bfcf34938cea611f5dfcc4c94d8</td>\n",
       "      <td>2020-08-17 02:06:23.600490</td>\n",
       "      <td>True</td>\n",
       "      <td>True</td>\n",
       "    </tr>\n",
       "    <tr>\n",
       "      <th>3</th>\n",
       "      <td>36</td>\n",
       "      <td>2020-09-14</td>\n",
       "      <td>30</td>\n",
       "      <td>225.0</td>\n",
       "      <td>1</td>\n",
       "      <td>Rejection</td>\n",
       "      <td>2020-09-12 04:13:28.469386</td>\n",
       "      <td>702435078164</td>\n",
       "      <td>0</td>\n",
       "      <td>Северск</td>\n",
       "      <td>...</td>\n",
       "      <td>1</td>\n",
       "      <td>0</td>\n",
       "      <td>0</td>\n",
       "      <td>0</td>\n",
       "      <td>Томская область</td>\n",
       "      <td>0</td>\n",
       "      <td>39064bfcf34938cea611f5dfcc4c94d8</td>\n",
       "      <td>2020-08-17 02:06:23.600490</td>\n",
       "      <td>True</td>\n",
       "      <td>True</td>\n",
       "    </tr>\n",
       "    <tr>\n",
       "      <th>4</th>\n",
       "      <td>37</td>\n",
       "      <td>2020-09-16</td>\n",
       "      <td>30</td>\n",
       "      <td>223.0</td>\n",
       "      <td>1</td>\n",
       "      <td>Rejection</td>\n",
       "      <td>2020-09-12 04:13:28.469386</td>\n",
       "      <td>702435078164</td>\n",
       "      <td>0</td>\n",
       "      <td>Северск</td>\n",
       "      <td>...</td>\n",
       "      <td>1</td>\n",
       "      <td>0</td>\n",
       "      <td>0</td>\n",
       "      <td>0</td>\n",
       "      <td>Томская область</td>\n",
       "      <td>0</td>\n",
       "      <td>39064bfcf34938cea611f5dfcc4c94d8</td>\n",
       "      <td>2020-08-17 02:06:23.600490</td>\n",
       "      <td>True</td>\n",
       "      <td>True</td>\n",
       "    </tr>\n",
       "    <tr>\n",
       "      <th>...</th>\n",
       "      <td>...</td>\n",
       "      <td>...</td>\n",
       "      <td>...</td>\n",
       "      <td>...</td>\n",
       "      <td>...</td>\n",
       "      <td>...</td>\n",
       "      <td>...</td>\n",
       "      <td>...</td>\n",
       "      <td>...</td>\n",
       "      <td>...</td>\n",
       "      <td>...</td>\n",
       "      <td>...</td>\n",
       "      <td>...</td>\n",
       "      <td>...</td>\n",
       "      <td>...</td>\n",
       "      <td>...</td>\n",
       "      <td>...</td>\n",
       "      <td>...</td>\n",
       "      <td>...</td>\n",
       "      <td>...</td>\n",
       "      <td>...</td>\n",
       "    </tr>\n",
       "    <tr>\n",
       "      <th>76</th>\n",
       "      <td>302</td>\n",
       "      <td>2020-11-09</td>\n",
       "      <td>30</td>\n",
       "      <td>1167.0</td>\n",
       "      <td>1</td>\n",
       "      <td>BuyerDidNotCome</td>\n",
       "      <td>2020-09-12 04:13:28.469386</td>\n",
       "      <td>702435078164</td>\n",
       "      <td>0</td>\n",
       "      <td>Северск</td>\n",
       "      <td>...</td>\n",
       "      <td>1</td>\n",
       "      <td>0</td>\n",
       "      <td>0</td>\n",
       "      <td>0</td>\n",
       "      <td>Томская область</td>\n",
       "      <td>0</td>\n",
       "      <td>39064bfcf34938cea611f5dfcc4c94d8</td>\n",
       "      <td>2020-08-17 02:06:23.600490</td>\n",
       "      <td>True</td>\n",
       "      <td>True</td>\n",
       "    </tr>\n",
       "    <tr>\n",
       "      <th>77</th>\n",
       "      <td>303</td>\n",
       "      <td>2020-11-09</td>\n",
       "      <td>30</td>\n",
       "      <td>2105.0</td>\n",
       "      <td>1</td>\n",
       "      <td>BuyerDidNotCome</td>\n",
       "      <td>2020-09-12 04:13:28.469386</td>\n",
       "      <td>702435078164</td>\n",
       "      <td>0</td>\n",
       "      <td>Северск</td>\n",
       "      <td>...</td>\n",
       "      <td>1</td>\n",
       "      <td>0</td>\n",
       "      <td>0</td>\n",
       "      <td>0</td>\n",
       "      <td>Томская область</td>\n",
       "      <td>0</td>\n",
       "      <td>39064bfcf34938cea611f5dfcc4c94d8</td>\n",
       "      <td>2020-08-17 02:06:23.600490</td>\n",
       "      <td>True</td>\n",
       "      <td>True</td>\n",
       "    </tr>\n",
       "    <tr>\n",
       "      <th>78</th>\n",
       "      <td>313</td>\n",
       "      <td>2020-11-10</td>\n",
       "      <td>30</td>\n",
       "      <td>4188.0</td>\n",
       "      <td>1</td>\n",
       "      <td>Rejection</td>\n",
       "      <td>2020-09-12 04:13:28.469386</td>\n",
       "      <td>702435078164</td>\n",
       "      <td>0</td>\n",
       "      <td>Северск</td>\n",
       "      <td>...</td>\n",
       "      <td>1</td>\n",
       "      <td>0</td>\n",
       "      <td>0</td>\n",
       "      <td>0</td>\n",
       "      <td>Томская область</td>\n",
       "      <td>0</td>\n",
       "      <td>39064bfcf34938cea611f5dfcc4c94d8</td>\n",
       "      <td>2020-08-17 02:06:23.600490</td>\n",
       "      <td>True</td>\n",
       "      <td>True</td>\n",
       "    </tr>\n",
       "    <tr>\n",
       "      <th>79</th>\n",
       "      <td>330</td>\n",
       "      <td>2020-11-11</td>\n",
       "      <td>30</td>\n",
       "      <td>882.0</td>\n",
       "      <td>2</td>\n",
       "      <td>BuyerDidNotCome</td>\n",
       "      <td>2020-09-12 04:13:28.469386</td>\n",
       "      <td>702435078164</td>\n",
       "      <td>0</td>\n",
       "      <td>Северск</td>\n",
       "      <td>...</td>\n",
       "      <td>1</td>\n",
       "      <td>0</td>\n",
       "      <td>0</td>\n",
       "      <td>0</td>\n",
       "      <td>Томская область</td>\n",
       "      <td>0</td>\n",
       "      <td>39064bfcf34938cea611f5dfcc4c94d8</td>\n",
       "      <td>2020-08-17 02:06:23.600490</td>\n",
       "      <td>True</td>\n",
       "      <td>True</td>\n",
       "    </tr>\n",
       "    <tr>\n",
       "      <th>80</th>\n",
       "      <td>331</td>\n",
       "      <td>2020-11-11</td>\n",
       "      <td>30</td>\n",
       "      <td>215.0</td>\n",
       "      <td>1</td>\n",
       "      <td>New</td>\n",
       "      <td>2020-09-12 04:13:28.469386</td>\n",
       "      <td>702435078164</td>\n",
       "      <td>0</td>\n",
       "      <td>Северск</td>\n",
       "      <td>...</td>\n",
       "      <td>1</td>\n",
       "      <td>0</td>\n",
       "      <td>0</td>\n",
       "      <td>0</td>\n",
       "      <td>Томская область</td>\n",
       "      <td>0</td>\n",
       "      <td>39064bfcf34938cea611f5dfcc4c94d8</td>\n",
       "      <td>2020-08-17 02:06:23.600490</td>\n",
       "      <td>True</td>\n",
       "      <td>True</td>\n",
       "    </tr>\n",
       "  </tbody>\n",
       "</table>\n",
       "<p>81 rows × 24 columns</p>\n",
       "</div>"
      ],
      "text/plain": [
       "    id_x created_at_orders  seller_id  product_price  quantity  \\\n",
       "0     33        2020-09-14         30          225.0         1   \n",
       "1     34        2020-09-14         30          225.0         1   \n",
       "2     35        2020-09-14         30          225.0         1   \n",
       "3     36        2020-09-14         30          225.0         1   \n",
       "4     37        2020-09-16         30          223.0         1   \n",
       "..   ...               ...        ...            ...       ...   \n",
       "76   302        2020-11-09         30         1167.0         1   \n",
       "77   303        2020-11-09         30         2105.0         1   \n",
       "78   313        2020-11-10         30         4188.0         1   \n",
       "79   330        2020-11-11         30          882.0         2   \n",
       "80   331        2020-11-11         30          215.0         1   \n",
       "\n",
       "             status  created_at_orders_sellers           Inn Bulk     City  \\\n",
       "0         Rejection 2020-09-12 04:13:28.469386  702435078164    0  Северск   \n",
       "1   BuyerDidNotCome 2020-09-12 04:13:28.469386  702435078164    0  Северск   \n",
       "2         Rejection 2020-09-12 04:13:28.469386  702435078164    0  Северск   \n",
       "3         Rejection 2020-09-12 04:13:28.469386  702435078164    0  Северск   \n",
       "4         Rejection 2020-09-12 04:13:28.469386  702435078164    0  Северск   \n",
       "..              ...                        ...           ...  ...      ...   \n",
       "76  BuyerDidNotCome 2020-09-12 04:13:28.469386  702435078164    0  Северск   \n",
       "77  BuyerDidNotCome 2020-09-12 04:13:28.469386  702435078164    0  Северск   \n",
       "78        Rejection 2020-09-12 04:13:28.469386  702435078164    0  Северск   \n",
       "79  BuyerDidNotCome 2020-09-12 04:13:28.469386  702435078164    0  Северск   \n",
       "80              New 2020-09-12 04:13:28.469386  702435078164    0  Северск   \n",
       "\n",
       "    ... Status Street ZipCode LegalName       RegionName Settlement  \\\n",
       "0   ...      1      0       0         0  Томская область          0   \n",
       "1   ...      1      0       0         0  Томская область          0   \n",
       "2   ...      1      0       0         0  Томская область          0   \n",
       "3   ...      1      0       0         0  Томская область          0   \n",
       "4   ...      1      0       0         0  Томская область          0   \n",
       "..  ...    ...    ...     ...       ...              ...        ...   \n",
       "76  ...      1      0       0         0  Томская область          0   \n",
       "77  ...      1      0       0         0  Томская область          0   \n",
       "78  ...      1      0       0         0  Томская область          0   \n",
       "79  ...      1      0       0         0  Томская область          0   \n",
       "80  ...      1      0       0         0  Томская область          0   \n",
       "\n",
       "                                id_y created_at_orders_registrations  \\\n",
       "0   39064bfcf34938cea611f5dfcc4c94d8      2020-08-17 02:06:23.600490   \n",
       "1   39064bfcf34938cea611f5dfcc4c94d8      2020-08-17 02:06:23.600490   \n",
       "2   39064bfcf34938cea611f5dfcc4c94d8      2020-08-17 02:06:23.600490   \n",
       "3   39064bfcf34938cea611f5dfcc4c94d8      2020-08-17 02:06:23.600490   \n",
       "4   39064bfcf34938cea611f5dfcc4c94d8      2020-08-17 02:06:23.600490   \n",
       "..                               ...                             ...   \n",
       "76  39064bfcf34938cea611f5dfcc4c94d8      2020-08-17 02:06:23.600490   \n",
       "77  39064bfcf34938cea611f5dfcc4c94d8      2020-08-17 02:06:23.600490   \n",
       "78  39064bfcf34938cea611f5dfcc4c94d8      2020-08-17 02:06:23.600490   \n",
       "79  39064bfcf34938cea611f5dfcc4c94d8      2020-08-17 02:06:23.600490   \n",
       "80  39064bfcf34938cea611f5dfcc4c94d8      2020-08-17 02:06:23.600490   \n",
       "\n",
       "   is_accepted is_seller  \n",
       "0         True      True  \n",
       "1         True      True  \n",
       "2         True      True  \n",
       "3         True      True  \n",
       "4         True      True  \n",
       "..         ...       ...  \n",
       "76        True      True  \n",
       "77        True      True  \n",
       "78        True      True  \n",
       "79        True      True  \n",
       "80        True      True  \n",
       "\n",
       "[81 rows x 24 columns]"
      ]
     },
     "execution_count": 40,
     "metadata": {},
     "output_type": "execute_result"
    }
   ],
   "source": [
    "# Данные о наиболее успешном продавце\n",
    "thirtieth_seller = orders[orders['seller_id'].isin([30])]\n",
    "orders_with_saler_name = pd.merge(thirtieth_seller,\n",
    "                                  contractor,\n",
    "                                  on=['seller_id'],\n",
    "                                  how='left')\n",
    "orders_with_saler_name['Inn'] = orders_with_saler_name['Inn'].astype(int)\n",
    "info_thirtieth_seller = pd.merge(orders_with_saler_name,\n",
    "                                 registrations,\n",
    "                                 on=['Inn'],\n",
    "                                 how='left')\n",
    "info_thirtieth_seller.rename(\n",
    "    columns=lambda x: x.replace('created_at', 'created_at_orders'),\n",
    "    inplace=True)\n",
    "info_thirtieth_seller"
   ]
  },
  {
   "cell_type": "code",
   "execution_count": 41,
   "metadata": {},
   "outputs": [
    {
     "data": {
      "image/png": "[encoded data removed]",
      "text/plain": [
       "<Figure size 490.675x432 with 1 Axes>"
      ]
     },
     "metadata": {},
     "output_type": "display_data"
    }
   ],
   "source": [
    "# sns.lineplot(data = info_thirtieth_seller)\n",
    "sns.set_theme(style='white')\n",
    "\n",
    "sns.relplot(x='created_at',\n",
    "            y='seller_id',\n",
    "            hue='seller_id',\n",
    "            sizes=(40, 400),\n",
    "            alpha=.5,\n",
    "            palette='muted',\n",
    "            height=6,\n",
    "            data=orders)\n",
    "plt.xticks(rotation=90);"
   ]
  },
  {
   "cell_type": "code",
   "execution_count": 42,
   "metadata": {},
   "outputs": [
    {
     "data": {
      "text/html": [
       "<div>\n",
       "<style scoped>\n",
       "    .dataframe tbody tr th:only-of-type {\n",
       "        vertical-align: middle;\n",
       "    }\n",
       "\n",
       "    .dataframe tbody tr th {\n",
       "        vertical-align: top;\n",
       "    }\n",
       "\n",
       "    .dataframe thead th {\n",
       "        text-align: right;\n",
       "    }\n",
       "</style>\n",
       "<table border=\"1\" class=\"dataframe\">\n",
       "  <thead>\n",
       "    <tr style=\"text-align: right;\">\n",
       "      <th></th>\n",
       "      <th>id</th>\n",
       "      <th>created_at</th>\n",
       "      <th>seller_id</th>\n",
       "      <th>product_price</th>\n",
       "      <th>quantity</th>\n",
       "      <th>status</th>\n",
       "    </tr>\n",
       "  </thead>\n",
       "  <tbody>\n",
       "    <tr>\n",
       "      <th>0</th>\n",
       "      <td>1</td>\n",
       "      <td>2020-08-03</td>\n",
       "      <td>2</td>\n",
       "      <td>911.50</td>\n",
       "      <td>1</td>\n",
       "      <td>BuyerDidNotCome</td>\n",
       "    </tr>\n",
       "    <tr>\n",
       "      <th>1</th>\n",
       "      <td>4</td>\n",
       "      <td>2020-08-03</td>\n",
       "      <td>2</td>\n",
       "      <td>911.50</td>\n",
       "      <td>1</td>\n",
       "      <td>Rejection</td>\n",
       "    </tr>\n",
       "    <tr>\n",
       "      <th>2</th>\n",
       "      <td>2</td>\n",
       "      <td>2020-08-03</td>\n",
       "      <td>2</td>\n",
       "      <td>911.50</td>\n",
       "      <td>2</td>\n",
       "      <td>Rejection</td>\n",
       "    </tr>\n",
       "    <tr>\n",
       "      <th>3</th>\n",
       "      <td>3</td>\n",
       "      <td>2020-08-03</td>\n",
       "      <td>1</td>\n",
       "      <td>911.50</td>\n",
       "      <td>3</td>\n",
       "      <td>New</td>\n",
       "    </tr>\n",
       "    <tr>\n",
       "      <th>4</th>\n",
       "      <td>5</td>\n",
       "      <td>2020-08-03</td>\n",
       "      <td>1</td>\n",
       "      <td>5001.99</td>\n",
       "      <td>7</td>\n",
       "      <td>New</td>\n",
       "    </tr>\n",
       "  </tbody>\n",
       "</table>\n",
       "</div>"
      ],
      "text/plain": [
       "   id  created_at  seller_id  product_price  quantity           status\n",
       "0   1  2020-08-03          2         911.50         1  BuyerDidNotCome\n",
       "1   4  2020-08-03          2         911.50         1        Rejection\n",
       "2   2  2020-08-03          2         911.50         2        Rejection\n",
       "3   3  2020-08-03          1         911.50         3              New\n",
       "4   5  2020-08-03          1        5001.99         7              New"
      ]
     },
     "execution_count": 42,
     "metadata": {},
     "output_type": "execute_result"
    }
   ],
   "source": [
    "orders.head()"
   ]
  },
  {
   "cell_type": "code",
   "execution_count": 43,
   "metadata": {},
   "outputs": [
    {
     "data": {
      "image/png": "[encoded data removed]",
      "text/plain": [
       "<Figure size 1080x360 with 1 Axes>"
      ]
     },
     "metadata": {},
     "output_type": "display_data"
    }
   ],
   "source": [
    "# base = plt.gca().transData\n",
    "# rot = transforms.Affine2D().rotate_deg(90)\n",
    "# orders_date_count\n",
    "\n",
    "# for item in orders_date_count:\n",
    "#     print(\"=====\")\n",
    "#     print(item)\n",
    "# orders_date_count.plot(x='created_at', y='id')\n",
    "\n",
    "# # df.groupby('country').plot(x='year', y='unemployment')\n",
    "\n",
    "\n",
    "orders_date_count.plot(y='quantity')#x='created_at', y='id')\n",
    "\n",
    "# contractor['created_at_sellers'].plot()\n",
    "# registrations['created_at_registrations'].plot()\n",
    "\n",
    "\n",
    "\n",
    "# # info_thirtieth_seller.loc[0:25,'value'].plot()\n",
    "# # info_thirtieth_seller.loc[25:150, 'value'].plot()\n",
    "# # info_thirtieth_seller.loc[150:, 'value'].plot()\n",
    "plt.show()"
   ]
  },
  {
   "cell_type": "code",
   "execution_count": 44,
   "metadata": {},
   "outputs": [
    {
     "data": {
      "text/plain": [
       "id               int64\n",
       "seller_id        int64\n",
       "product_price    int64\n",
       "quantity         int64\n",
       "status           int64\n",
       "dtype: object"
      ]
     },
     "execution_count": 44,
     "metadata": {},
     "output_type": "execute_result"
    }
   ],
   "source": [
    "orders_date_count.dtypes"
   ]
  },
  {
   "cell_type": "code",
   "execution_count": null,
   "metadata": {},
   "outputs": [],
   "source": []
  }
 ],
 "metadata": {
  "kernelspec": {
   "display_name": "Python 3",
   "language": "python",
   "name": "python3"
  },
  "language_info": {
   "codemirror_mode": {
    "name": "ipython",
    "version": 3
   },
   "file_extension": ".py",
   "mimetype": "text/x-python",
   "name": "python",
   "nbconvert_exporter": "python",
   "pygments_lexer": "ipython3",
   "version": "3.8.5"
  },
  "nbTranslate": {
   "displayLangs": [
    "*"
   ],
   "hotkey": "alt-t",
   "langInMainMenu": true,
   "sourceLang": "en",
   "targetLang": "fr",
   "useGoogleTranslate": true
  },
  "toc": {
   "base_numbering": 1,
   "nav_menu": {},
   "number_sections": true,
   "sideBar": true,
   "skip_h1_title": false,
   "title_cell": "Table of Contents",
   "title_sidebar": "Contents",
   "toc_cell": false,
   "toc_position": {},
   "toc_section_display": true,
   "toc_window_display": false
  },
  "varInspector": {
   "cols": {
    "lenName": 16,
    "lenType": 16,
    "lenVar": 40
   },
   "kernels_config": {
    "python": {
     "delete_cmd_postfix": "",
     "delete_cmd_prefix": "del ",
     "library": "var_list.py",
     "varRefreshCmd": "print(var_dic_list())"
    },
    "r": {
     "delete_cmd_postfix": ") ",
     "delete_cmd_prefix": "rm(",
     "library": "var_list.r",
     "varRefreshCmd": "cat(var_dic_list()) "
    }
   },
   "types_to_exclude": [
    "module",
    "function",
    "builtin_function_or_method",
    "instance",
    "_Feature"
   ],
   "window_display": false
  }
 },
 "nbformat": 4,
 "nbformat_minor": 4
}
