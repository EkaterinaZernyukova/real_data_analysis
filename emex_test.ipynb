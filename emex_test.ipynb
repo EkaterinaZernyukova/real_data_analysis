{
 "cells": [
  {
   "cell_type": "raw",
   "metadata": {},
   "source": [
    "В продукте для продавцов был произведен пробный запуск, состоявший из нескольких этапов. Одной из метрик успешности считается количество продаж каждым из продавцов. Владелец продукта установил такой критерий успешности пробного запуска — 10 продаж на продавца. В вашем распоряжении три таблицы:\n",
    "\n",
    "registrations - заявки потенциальных продавцов,\n",
    "sellers - учётные записи зарегистрированных продавцов,\n",
    "orders - заказы у продавцов.\n",
    "\n",
    "На основании данных определите\n",
    "    Какие характерные этапы были в запуске, сколько их было и когда?\n",
    "    Удалось ли достичь критериев успешности?\n",
    "    Какие бы вы визуализации предложили для обозревания ответа на каждый вопрос? \n",
    "    Кроме изображений, прикрепите к заданию код, с помощью которого вы пришли к ним."
   ]
  },
  {
   "cell_type": "code",
   "execution_count": 1,
   "metadata": {},
   "outputs": [],
   "source": [
    "import pandas as pd\n",
    "import numpy as np\n",
    "import seaborn as sns\n",
    "sns.set()\n",
    "import matplotlib.pyplot as plt"
   ]
  },
  {
   "cell_type": "code",
   "execution_count": 2,
   "metadata": {},
   "outputs": [],
   "source": [
    "# настройки отображения графиков\n",
    "%matplotlib inline\n",
    "plt.style.use('ggplot')\n",
    "plt.rcParams['figure.figsize'] = (15, 5)\n",
    "plt.rcParams['font.family'] = 'sans-serif'"
   ]
  },
  {
   "cell_type": "markdown",
   "metadata": {},
   "source": [
    "### Orders - заказы у продавцов"
   ]
  },
  {
   "cell_type": "code",
   "execution_count": 3,
   "metadata": {},
   "outputs": [
    {
     "data": {
      "text/html": [
       "<div>\n",
       "<style scoped>\n",
       "    .dataframe tbody tr th:only-of-type {\n",
       "        vertical-align: middle;\n",
       "    }\n",
       "\n",
       "    .dataframe tbody tr th {\n",
       "        vertical-align: top;\n",
       "    }\n",
       "\n",
       "    .dataframe thead th {\n",
       "        text-align: right;\n",
       "    }\n",
       "</style>\n",
       "<table border=\"1\" class=\"dataframe\">\n",
       "  <thead>\n",
       "    <tr style=\"text-align: right;\">\n",
       "      <th></th>\n",
       "      <th>id</th>\n",
       "      <th>created_at</th>\n",
       "      <th>seller_id</th>\n",
       "      <th>product_price</th>\n",
       "      <th>quantity</th>\n",
       "      <th>status</th>\n",
       "    </tr>\n",
       "  </thead>\n",
       "  <tbody>\n",
       "    <tr>\n",
       "      <th>0</th>\n",
       "      <td>12</td>\n",
       "      <td>2020-08-21 04:20:08.867</td>\n",
       "      <td>15</td>\n",
       "      <td>4417.2</td>\n",
       "      <td>1</td>\n",
       "      <td>BuyerDidNotCome</td>\n",
       "    </tr>\n",
       "    <tr>\n",
       "      <th>1</th>\n",
       "      <td>1</td>\n",
       "      <td>2020-08-03 10:39:52.847</td>\n",
       "      <td>2</td>\n",
       "      <td>911.5</td>\n",
       "      <td>1</td>\n",
       "      <td>BuyerDidNotCome</td>\n",
       "    </tr>\n",
       "    <tr>\n",
       "      <th>2</th>\n",
       "      <td>2</td>\n",
       "      <td>2020-08-03 10:48:48.763</td>\n",
       "      <td>2</td>\n",
       "      <td>911.5</td>\n",
       "      <td>2</td>\n",
       "      <td>Rejection</td>\n",
       "    </tr>\n",
       "    <tr>\n",
       "      <th>3</th>\n",
       "      <td>25</td>\n",
       "      <td>2020-09-05 14:16:03.177</td>\n",
       "      <td>4</td>\n",
       "      <td>435.0</td>\n",
       "      <td>2</td>\n",
       "      <td>BuyerDidNotCome</td>\n",
       "    </tr>\n",
       "    <tr>\n",
       "      <th>4</th>\n",
       "      <td>17</td>\n",
       "      <td>2020-08-27 06:07:22.65</td>\n",
       "      <td>10</td>\n",
       "      <td>4000.0</td>\n",
       "      <td>1</td>\n",
       "      <td>Issued</td>\n",
       "    </tr>\n",
       "  </tbody>\n",
       "</table>\n",
       "</div>"
      ],
      "text/plain": [
       "   id               created_at  seller_id  product_price  quantity  \\\n",
       "0  12  2020-08-21 04:20:08.867         15         4417.2         1   \n",
       "1   1  2020-08-03 10:39:52.847          2          911.5         1   \n",
       "2   2  2020-08-03 10:48:48.763          2          911.5         2   \n",
       "3  25  2020-09-05 14:16:03.177          4          435.0         2   \n",
       "4  17   2020-08-27 06:07:22.65         10         4000.0         1   \n",
       "\n",
       "            status  \n",
       "0  BuyerDidNotCome  \n",
       "1  BuyerDidNotCome  \n",
       "2        Rejection  \n",
       "3  BuyerDidNotCome  \n",
       "4           Issued  "
      ]
     },
     "execution_count": 3,
     "metadata": {},
     "output_type": "execute_result"
    }
   ],
   "source": [
    "orders = pd.read_csv(\n",
    "    '/opt/kate_repo/real_data_analysis/emex_interview_task/orders.csv')\n",
    "orders.head()"
   ]
  },
  {
   "cell_type": "code",
   "execution_count": 4,
   "metadata": {},
   "outputs": [
    {
     "data": {
      "text/plain": [
       "(338, 6)"
      ]
     },
     "execution_count": 4,
     "metadata": {},
     "output_type": "execute_result"
    }
   ],
   "source": [
    "orders.shape"
   ]
  },
  {
   "cell_type": "code",
   "execution_count": 5,
   "metadata": {},
   "outputs": [
    {
     "data": {
      "text/plain": [
       "id                 int64\n",
       "created_at        object\n",
       "seller_id          int64\n",
       "product_price    float64\n",
       "quantity           int64\n",
       "status            object\n",
       "dtype: object"
      ]
     },
     "execution_count": 5,
     "metadata": {},
     "output_type": "execute_result"
    }
   ],
   "source": [
    "# Тип данных\n",
    "orders.dtypes"
   ]
  },
  {
   "cell_type": "code",
   "execution_count": 6,
   "metadata": {},
   "outputs": [],
   "source": [
    "# Корректировка формата даты\n",
    "orders['created_at'] = pd.to_datetime(orders['created_at'])"
   ]
  },
  {
   "cell_type": "code",
   "execution_count": 7,
   "metadata": {},
   "outputs": [
    {
     "data": {
      "text/plain": [
       "31"
      ]
     },
     "execution_count": 7,
     "metadata": {},
     "output_type": "execute_result"
    }
   ],
   "source": [
    "# Количество продавцов\n",
    "num_seller = orders['seller_id'].value_counts(sort=False)\n",
    "len(num_seller)"
   ]
  },
  {
   "cell_type": "code",
   "execution_count": 8,
   "metadata": {},
   "outputs": [
    {
     "data": {
      "text/plain": [
       "<AxesSubplot:>"
      ]
     },
     "execution_count": 8,
     "metadata": {},
     "output_type": "execute_result"
    },
    {
     "data": {
      "image/png": "[encoded data removed]",
      "text/plain": [
       "<Figure size 1080x360 with 1 Axes>"
      ]
     },
     "metadata": {},
     "output_type": "display_data"
    }
   ],
   "source": [
    "# Количество заказов у продавцов\n",
    "orders['seller_id'].value_counts().plot.bar()"
   ]
  },
  {
   "cell_type": "code",
   "execution_count": 9,
   "metadata": {},
   "outputs": [
    {
     "data": {
      "text/plain": [
       "Issued             155\n",
       "Rejection           66\n",
       "New                 41\n",
       "Canceled            38\n",
       "BuyerDidNotCome     38\n",
       "Name: status, dtype: int64"
      ]
     },
     "execution_count": 9,
     "metadata": {},
     "output_type": "execute_result"
    }
   ],
   "source": [
    "orders['status'].value_counts()"
   ]
  },
  {
   "cell_type": "code",
   "execution_count": 10,
   "metadata": {},
   "outputs": [
    {
     "data": {
      "text/plain": [
       "Text(0.5, 1.0, 'Статусы заказов у продавцов')"
      ]
     },
     "execution_count": 10,
     "metadata": {},
     "output_type": "execute_result"
    },
    {
     "data": {
      "image/png": "[encoded data removed]",
      "text/plain": [
       "<Figure size 1280x720 with 1 Axes>"
      ]
     },
     "metadata": {},
     "output_type": "display_data"
    }
   ],
   "source": [
    "# Статусы заказов у продавцов\n",
    "\n",
    "# Данные\n",
    "x_var = 'seller_id'\n",
    "groupby_var = 'status'\n",
    "orders_agg = orders.loc[:, [x_var, groupby_var]].groupby(groupby_var)\n",
    "vals = [orders[x_var].values.tolist() for i, orders in orders_agg]\n",
    "\n",
    "# График\n",
    "plt.figure(figsize=(16, 9), dpi=80)\n",
    "n, bins, patches = plt.hist(vals,\n",
    "                            30,\n",
    "                            stacked=True,\n",
    "                            density=False,\n",
    "                            color=['r', 'y', 'b', 'k', 'g'])\n",
    "\n",
    "# Легенда\n",
    "colors = [plt.cm.Spectral(i/float(len(vals)-1)) for i in range(len(vals))]\n",
    "plt.legend({\n",
    "    group: col\n",
    "    for group, col in zip(\n",
    "        np.unique(orders[groupby_var]).tolist(), colors[:len(vals)])\n",
    "})\n",
    "\n",
    "plt.ylim(0, 90)\n",
    "plt.xticks(ticks=bins,\n",
    "           labels=np.unique(orders[x_var]).tolist(),\n",
    "           rotation=90,\n",
    "           horizontalalignment='left')\n",
    "plt.xlabel('id продавца')\n",
    "plt.ylabel('Количество заказов у продавца')\n",
    "plt.title('Статусы заказов у продавцов')"
   ]
  },
  {
   "cell_type": "code",
   "execution_count": 11,
   "metadata": {},
   "outputs": [
    {
     "data": {
      "text/plain": [
       "Text(0.5, 1.0, 'Статусы созданных заказов')"
      ]
     },
     "execution_count": 11,
     "metadata": {},
     "output_type": "execute_result"
    },
    {
     "data": {
      "image/png": "[encoded data removed]",
      "text/plain": [
       "<Figure size 1080x360 with 1 Axes>"
      ]
     },
     "metadata": {},
     "output_type": "display_data"
    }
   ],
   "source": [
    "# Дата статусов заказов\n",
    "\n",
    "sns.kdeplot(data=orders, x='created_at', hue='status')\n",
    "plt.xlabel('Дата создания заказа')\n",
    "plt.ylabel('Количество заказов')\n",
    "plt.title('Статусы созданных заказов')"
   ]
  },
  {
   "cell_type": "code",
   "execution_count": 12,
   "metadata": {},
   "outputs": [],
   "source": [
    "# Достигнут критерий успешности пробного запуска >= 10 продаж на продавца\n",
    "orders_issued = orders[orders['status'] == 'Issued']\n",
    "\n",
    "sellers_id_groups = orders_issued.groupby(['seller_id'])\n",
    "\n",
    "success_sellers=sellers_id_groups.filter(lambda group: group['status'].count() >= 10)\n"
   ]
  },
  {
   "cell_type": "code",
   "execution_count": 13,
   "metadata": {},
   "outputs": [
    {
     "data": {
      "text/plain": [
       "Text(0.5, 1.0, '>= 10 продаж на продавца')"
      ]
     },
     "execution_count": 13,
     "metadata": {},
     "output_type": "execute_result"
    },
    {
     "data": {
      "image/png": "[encoded data removed]",
      "text/plain": [
       "<Figure size 1080x360 with 1 Axes>"
      ]
     },
     "metadata": {},
     "output_type": "display_data"
    }
   ],
   "source": [
    "# Id продавцов, достигнувших критерия успешности\n",
    "success_sellers['seller_id'].value_counts().plot.bar()\n",
    "\n",
    "plt.xlabel('id продавца')\n",
    "plt.ylabel('Количество продаж у продавца')\n",
    "plt.title('>= 10 продаж на продавца')"
   ]
  },
  {
   "cell_type": "code",
   "execution_count": 14,
   "metadata": {},
   "outputs": [
    {
     "data": {
      "text/plain": [
       "19.35483870967742"
      ]
     },
     "execution_count": 14,
     "metadata": {},
     "output_type": "execute_result"
    }
   ],
   "source": [
    "# Процент продавцов, которым удалось достичь критерия успешности\n",
    "num_success_sellers = success_sellers['seller_id'].value_counts(sort=False)\n",
    "len(num_success_sellers)/ len(num_seller)* 100 "
   ]
  },
  {
   "cell_type": "markdown",
   "metadata": {},
   "source": [
    "### Registrations - заявки потенциальных продавцов"
   ]
  },
  {
   "cell_type": "code",
   "execution_count": 15,
   "metadata": {},
   "outputs": [
    {
     "data": {
      "text/html": [
       "<div>\n",
       "<style scoped>\n",
       "    .dataframe tbody tr th:only-of-type {\n",
       "        vertical-align: middle;\n",
       "    }\n",
       "\n",
       "    .dataframe tbody tr th {\n",
       "        vertical-align: top;\n",
       "    }\n",
       "\n",
       "    .dataframe thead th {\n",
       "        text-align: right;\n",
       "    }\n",
       "</style>\n",
       "<table border=\"1\" class=\"dataframe\">\n",
       "  <thead>\n",
       "    <tr style=\"text-align: right;\">\n",
       "      <th></th>\n",
       "      <th>id</th>\n",
       "      <th>inn</th>\n",
       "      <th>created_at</th>\n",
       "      <th>is_accepted</th>\n",
       "      <th>is_seller</th>\n",
       "    </tr>\n",
       "  </thead>\n",
       "  <tbody>\n",
       "    <tr>\n",
       "      <th>0</th>\n",
       "      <td>5781db93a6444c921c45efcc7f30bd08</td>\n",
       "      <td>2.301126e+11</td>\n",
       "      <td>2020-07-17 10:11:40.204382</td>\n",
       "      <td>False</td>\n",
       "      <td>False</td>\n",
       "    </tr>\n",
       "    <tr>\n",
       "      <th>1</th>\n",
       "      <td>e8862ca7b667307568ca408c05c57cce</td>\n",
       "      <td>5.047905e+11</td>\n",
       "      <td>2020-07-31 15:54:30.906968</td>\n",
       "      <td>False</td>\n",
       "      <td>False</td>\n",
       "    </tr>\n",
       "    <tr>\n",
       "      <th>2</th>\n",
       "      <td>838ae3edd30e77940522cb950fb6a77d</td>\n",
       "      <td>NaN</td>\n",
       "      <td>2020-08-03 08:09:59.410891</td>\n",
       "      <td>False</td>\n",
       "      <td>True</td>\n",
       "    </tr>\n",
       "    <tr>\n",
       "      <th>3</th>\n",
       "      <td>d8aa22a597b538ddef927675a20fec45</td>\n",
       "      <td>NaN</td>\n",
       "      <td>2020-07-29 10:03:43.949494</td>\n",
       "      <td>False</td>\n",
       "      <td>True</td>\n",
       "    </tr>\n",
       "    <tr>\n",
       "      <th>4</th>\n",
       "      <td>d30bd4297f49a76595df3eb348b59eaa</td>\n",
       "      <td>NaN</td>\n",
       "      <td>2020-07-30 12:48:44.982906</td>\n",
       "      <td>False</td>\n",
       "      <td>True</td>\n",
       "    </tr>\n",
       "  </tbody>\n",
       "</table>\n",
       "</div>"
      ],
      "text/plain": [
       "                                 id           inn                  created_at  \\\n",
       "0  5781db93a6444c921c45efcc7f30bd08  2.301126e+11  2020-07-17 10:11:40.204382   \n",
       "1  e8862ca7b667307568ca408c05c57cce  5.047905e+11  2020-07-31 15:54:30.906968   \n",
       "2  838ae3edd30e77940522cb950fb6a77d           NaN  2020-08-03 08:09:59.410891   \n",
       "3  d8aa22a597b538ddef927675a20fec45           NaN  2020-07-29 10:03:43.949494   \n",
       "4  d30bd4297f49a76595df3eb348b59eaa           NaN  2020-07-30 12:48:44.982906   \n",
       "\n",
       "   is_accepted  is_seller  \n",
       "0        False      False  \n",
       "1        False      False  \n",
       "2        False       True  \n",
       "3        False       True  \n",
       "4        False       True  "
      ]
     },
     "execution_count": 15,
     "metadata": {},
     "output_type": "execute_result"
    }
   ],
   "source": [
    "registrations = pd.read_csv(\n",
    "    '/opt/kate_repo/real_data_analysis/emex_interview_task/registrations.csv')\n",
    "registrations.head()"
   ]
  },
  {
   "cell_type": "code",
   "execution_count": 27,
   "metadata": {},
   "outputs": [
    {
     "data": {
      "text/plain": [
       "True     4675\n",
       "False    1862\n",
       "Name: is_seller, dtype: int64"
      ]
     },
     "execution_count": 27,
     "metadata": {},
     "output_type": "execute_result"
    }
   ],
   "source": [
    "registrations['is_seller'].value_counts()"
   ]
  },
  {
   "cell_type": "code",
   "execution_count": 16,
   "metadata": {},
   "outputs": [
    {
     "data": {
      "text/plain": [
       "(6537, 5)"
      ]
     },
     "execution_count": 16,
     "metadata": {},
     "output_type": "execute_result"
    }
   ],
   "source": [
    "# Количество заявок потенциальных продавцов\n",
    "registrations.shape"
   ]
  },
  {
   "cell_type": "code",
   "execution_count": 17,
   "metadata": {},
   "outputs": [
    {
     "data": {
      "text/plain": [
       "id              object\n",
       "inn            float64\n",
       "created_at      object\n",
       "is_accepted       bool\n",
       "is_seller         bool\n",
       "dtype: object"
      ]
     },
     "execution_count": 17,
     "metadata": {},
     "output_type": "execute_result"
    }
   ],
   "source": [
    "registrations.dtypes"
   ]
  },
  {
   "cell_type": "code",
   "execution_count": 18,
   "metadata": {},
   "outputs": [],
   "source": [
    "# Заполнение отсутствующих данных значением 0\n",
    "registrations= registrations.fillna(0)"
   ]
  },
  {
   "cell_type": "code",
   "execution_count": 19,
   "metadata": {},
   "outputs": [],
   "source": [
    "# Корректировка форматов даты и ИНН\n",
    "registrations['created_at'] = pd.to_datetime(registrations['created_at'])\n",
    "registrations['inn'] = registrations['inn'].astype(int)"
   ]
  },
  {
   "cell_type": "code",
   "execution_count": 29,
   "metadata": {},
   "outputs": [
    {
     "data": {
      "text/html": [
       "<div>\n",
       "<style scoped>\n",
       "    .dataframe tbody tr th:only-of-type {\n",
       "        vertical-align: middle;\n",
       "    }\n",
       "\n",
       "    .dataframe tbody tr th {\n",
       "        vertical-align: top;\n",
       "    }\n",
       "\n",
       "    .dataframe thead th {\n",
       "        text-align: right;\n",
       "    }\n",
       "</style>\n",
       "<table border=\"1\" class=\"dataframe\">\n",
       "  <thead>\n",
       "    <tr style=\"text-align: right;\">\n",
       "      <th></th>\n",
       "      <th>id</th>\n",
       "      <th>inn</th>\n",
       "      <th>created_at</th>\n",
       "      <th>is_accepted</th>\n",
       "      <th>is_seller</th>\n",
       "    </tr>\n",
       "  </thead>\n",
       "  <tbody>\n",
       "    <tr>\n",
       "      <th>0</th>\n",
       "      <td>5781db93a6444c921c45efcc7f30bd08</td>\n",
       "      <td>230112640500</td>\n",
       "      <td>2020-07-17 10:11:40.204382</td>\n",
       "      <td>False</td>\n",
       "      <td>False</td>\n",
       "    </tr>\n",
       "    <tr>\n",
       "      <th>1</th>\n",
       "      <td>e8862ca7b667307568ca408c05c57cce</td>\n",
       "      <td>504790490890</td>\n",
       "      <td>2020-07-31 15:54:30.906968</td>\n",
       "      <td>False</td>\n",
       "      <td>False</td>\n",
       "    </tr>\n",
       "    <tr>\n",
       "      <th>2</th>\n",
       "      <td>838ae3edd30e77940522cb950fb6a77d</td>\n",
       "      <td>0</td>\n",
       "      <td>2020-08-03 08:09:59.410891</td>\n",
       "      <td>False</td>\n",
       "      <td>True</td>\n",
       "    </tr>\n",
       "    <tr>\n",
       "      <th>3</th>\n",
       "      <td>d8aa22a597b538ddef927675a20fec45</td>\n",
       "      <td>0</td>\n",
       "      <td>2020-07-29 10:03:43.949494</td>\n",
       "      <td>False</td>\n",
       "      <td>True</td>\n",
       "    </tr>\n",
       "    <tr>\n",
       "      <th>4</th>\n",
       "      <td>d30bd4297f49a76595df3eb348b59eaa</td>\n",
       "      <td>0</td>\n",
       "      <td>2020-07-30 12:48:44.982906</td>\n",
       "      <td>False</td>\n",
       "      <td>True</td>\n",
       "    </tr>\n",
       "    <tr>\n",
       "      <th>...</th>\n",
       "      <td>...</td>\n",
       "      <td>...</td>\n",
       "      <td>...</td>\n",
       "      <td>...</td>\n",
       "      <td>...</td>\n",
       "    </tr>\n",
       "    <tr>\n",
       "      <th>6532</th>\n",
       "      <td>72a14d2ae5260f9fa99a9e0163bfcda3</td>\n",
       "      <td>0</td>\n",
       "      <td>2020-10-11 09:49:48.998893</td>\n",
       "      <td>False</td>\n",
       "      <td>True</td>\n",
       "    </tr>\n",
       "    <tr>\n",
       "      <th>6533</th>\n",
       "      <td>d282a28a5e39822412a0182bc6e6a39a</td>\n",
       "      <td>0</td>\n",
       "      <td>2020-10-16 02:04:35.119768</td>\n",
       "      <td>False</td>\n",
       "      <td>True</td>\n",
       "    </tr>\n",
       "    <tr>\n",
       "      <th>6534</th>\n",
       "      <td>4bf5eaa5e3732288dcdc2cef862a0f15</td>\n",
       "      <td>0</td>\n",
       "      <td>2020-11-09 17:48:47.863637</td>\n",
       "      <td>False</td>\n",
       "      <td>True</td>\n",
       "    </tr>\n",
       "    <tr>\n",
       "      <th>6535</th>\n",
       "      <td>954065ec11db2f72f8ef3e0630872054</td>\n",
       "      <td>0</td>\n",
       "      <td>2020-11-10 05:24:49.110302</td>\n",
       "      <td>False</td>\n",
       "      <td>True</td>\n",
       "    </tr>\n",
       "    <tr>\n",
       "      <th>6536</th>\n",
       "      <td>a01180d2dcac095117905ccff5dab2ad</td>\n",
       "      <td>0</td>\n",
       "      <td>2020-11-02 10:03:19.142662</td>\n",
       "      <td>False</td>\n",
       "      <td>True</td>\n",
       "    </tr>\n",
       "  </tbody>\n",
       "</table>\n",
       "<p>6537 rows × 5 columns</p>\n",
       "</div>"
      ],
      "text/plain": [
       "                                    id           inn  \\\n",
       "0     5781db93a6444c921c45efcc7f30bd08  230112640500   \n",
       "1     e8862ca7b667307568ca408c05c57cce  504790490890   \n",
       "2     838ae3edd30e77940522cb950fb6a77d             0   \n",
       "3     d8aa22a597b538ddef927675a20fec45             0   \n",
       "4     d30bd4297f49a76595df3eb348b59eaa             0   \n",
       "...                                ...           ...   \n",
       "6532  72a14d2ae5260f9fa99a9e0163bfcda3             0   \n",
       "6533  d282a28a5e39822412a0182bc6e6a39a             0   \n",
       "6534  4bf5eaa5e3732288dcdc2cef862a0f15             0   \n",
       "6535  954065ec11db2f72f8ef3e0630872054             0   \n",
       "6536  a01180d2dcac095117905ccff5dab2ad             0   \n",
       "\n",
       "                     created_at  is_accepted  is_seller  \n",
       "0    2020-07-17 10:11:40.204382        False      False  \n",
       "1    2020-07-31 15:54:30.906968        False      False  \n",
       "2    2020-08-03 08:09:59.410891        False       True  \n",
       "3    2020-07-29 10:03:43.949494        False       True  \n",
       "4    2020-07-30 12:48:44.982906        False       True  \n",
       "...                         ...          ...        ...  \n",
       "6532 2020-10-11 09:49:48.998893        False       True  \n",
       "6533 2020-10-16 02:04:35.119768        False       True  \n",
       "6534 2020-11-09 17:48:47.863637        False       True  \n",
       "6535 2020-11-10 05:24:49.110302        False       True  \n",
       "6536 2020-11-02 10:03:19.142662        False       True  \n",
       "\n",
       "[6537 rows x 5 columns]"
      ]
     },
     "execution_count": 29,
     "metadata": {},
     "output_type": "execute_result"
    }
   ],
   "source": [
    "registrations"
   ]
  },
  {
   "cell_type": "code",
   "execution_count": 20,
   "metadata": {},
   "outputs": [
    {
     "data": {
      "text/plain": [
       "Text(0.5, 1.0, 'Статусы созданных заказов')"
      ]
     },
     "execution_count": 20,
     "metadata": {},
     "output_type": "execute_result"
    },
    {
     "data": {
      "image/png": "[encoded data removed]",
      "text/plain": [
       "<Figure size 1080x360 with 1 Axes>"
      ]
     },
     "metadata": {},
     "output_type": "display_data"
    }
   ],
   "source": [
    "# Принятые заявки\n",
    "sns.kdeplot(data=registrations, x='created_at', hue='is_accepted')\n",
    "plt.xlabel('Дата создания заявки')\n",
    "plt.ylabel('Количество заявок')\n",
    "plt.title('Статусы созданных заказов')"
   ]
  },
  {
   "cell_type": "code",
   "execution_count": 21,
   "metadata": {},
   "outputs": [
    {
     "data": {
      "text/plain": [
       "Text(0.5, 1.0, 'Статус покупки')"
      ]
     },
     "execution_count": 21,
     "metadata": {},
     "output_type": "execute_result"
    },
    {
     "data": {
      "image/png": "[encoded data removed]",
      "text/plain": [
       "<Figure size 1080x360 with 1 Axes>"
      ]
     },
     "metadata": {},
     "output_type": "display_data"
    }
   ],
   "source": [
    "# Принятые заявки\n",
    "sns.kdeplot(data=registrations, x='created_at', hue='is_seller')\n",
    "plt.xlabel('Дата покупки')\n",
    "plt.ylabel('Количество покупок')\n",
    "plt.title('Статус покупки')"
   ]
  },
  {
   "cell_type": "markdown",
   "metadata": {},
   "source": [
    "### Sellers - учётные записи зарегистрированных продавцов"
   ]
  },
  {
   "cell_type": "code",
   "execution_count": 22,
   "metadata": {},
   "outputs": [
    {
     "name": "stderr",
     "output_type": "stream",
     "text": [
      "<ipython-input-22-84298213f91c>:6: FutureWarning: pandas.io.json.json_normalize is deprecated, use pandas.json_normalize instead\n",
      "  contractor = sellers.join(pd.io.json.json_normalize(\n"
     ]
    },
    {
     "data": {
      "text/html": [
       "<div>\n",
       "<style scoped>\n",
       "    .dataframe tbody tr th:only-of-type {\n",
       "        vertical-align: middle;\n",
       "    }\n",
       "\n",
       "    .dataframe tbody tr th {\n",
       "        vertical-align: top;\n",
       "    }\n",
       "\n",
       "    .dataframe thead th {\n",
       "        text-align: right;\n",
       "    }\n",
       "</style>\n",
       "<table border=\"1\" class=\"dataframe\">\n",
       "  <thead>\n",
       "    <tr style=\"text-align: right;\">\n",
       "      <th></th>\n",
       "      <th>id</th>\n",
       "      <th>created_at</th>\n",
       "      <th>Inn</th>\n",
       "      <th>Bulk</th>\n",
       "      <th>City</th>\n",
       "      <th>Flat</th>\n",
       "      <th>Ogrn</th>\n",
       "      <th>House</th>\n",
       "      <th>Оkpo</th>\n",
       "      <th>Status</th>\n",
       "      <th>Street</th>\n",
       "      <th>ZipCode</th>\n",
       "      <th>LegalName</th>\n",
       "      <th>RegionName</th>\n",
       "      <th>Settlement</th>\n",
       "    </tr>\n",
       "  </thead>\n",
       "  <tbody>\n",
       "    <tr>\n",
       "      <th>0</th>\n",
       "      <td>1</td>\n",
       "      <td>2020-08-03 07:12:03.963452</td>\n",
       "      <td>5544554451</td>\n",
       "      <td>None</td>\n",
       "      <td>None</td>\n",
       "      <td>None</td>\n",
       "      <td>None</td>\n",
       "      <td>None</td>\n",
       "      <td>None</td>\n",
       "      <td>0</td>\n",
       "      <td>None</td>\n",
       "      <td>None</td>\n",
       "      <td>None</td>\n",
       "      <td>None</td>\n",
       "      <td>None</td>\n",
       "    </tr>\n",
       "    <tr>\n",
       "      <th>1</th>\n",
       "      <td>2</td>\n",
       "      <td>2020-08-03 07:38:31.136276</td>\n",
       "      <td>0000000000</td>\n",
       "      <td>None</td>\n",
       "      <td>None</td>\n",
       "      <td>None</td>\n",
       "      <td>None</td>\n",
       "      <td>None</td>\n",
       "      <td>None</td>\n",
       "      <td>0</td>\n",
       "      <td>None</td>\n",
       "      <td>None</td>\n",
       "      <td>None</td>\n",
       "      <td>None</td>\n",
       "      <td>None</td>\n",
       "    </tr>\n",
       "    <tr>\n",
       "      <th>2</th>\n",
       "      <td>3</td>\n",
       "      <td>2020-08-04 05:58:33.473403</td>\n",
       "      <td>700202974358</td>\n",
       "      <td>None</td>\n",
       "      <td>Томск</td>\n",
       "      <td>None</td>\n",
       "      <td>317703100080340</td>\n",
       "      <td>None</td>\n",
       "      <td>0114009213</td>\n",
       "      <td>1</td>\n",
       "      <td>None</td>\n",
       "      <td>None</td>\n",
       "      <td>None</td>\n",
       "      <td>Томская область</td>\n",
       "      <td>None</td>\n",
       "    </tr>\n",
       "    <tr>\n",
       "      <th>3</th>\n",
       "      <td>4</td>\n",
       "      <td>2020-08-06 05:05:37.043578</td>\n",
       "      <td>7017216138</td>\n",
       "      <td>None</td>\n",
       "      <td>Томск</td>\n",
       "      <td>None</td>\n",
       "      <td>1087017018395</td>\n",
       "      <td>дом 9</td>\n",
       "      <td>85256729</td>\n",
       "      <td>1</td>\n",
       "      <td>улица Киевская</td>\n",
       "      <td>634012</td>\n",
       "      <td>Общество с ограниченной ответственностью \"Авто...</td>\n",
       "      <td>Томская область</td>\n",
       "      <td>None</td>\n",
       "    </tr>\n",
       "    <tr>\n",
       "      <th>4</th>\n",
       "      <td>5</td>\n",
       "      <td>2020-08-06 06:03:06.613762</td>\n",
       "      <td>352500119022</td>\n",
       "      <td>None</td>\n",
       "      <td>None</td>\n",
       "      <td>None</td>\n",
       "      <td>316290100082018</td>\n",
       "      <td>None</td>\n",
       "      <td>0104421401</td>\n",
       "      <td>1</td>\n",
       "      <td>None</td>\n",
       "      <td>None</td>\n",
       "      <td>None</td>\n",
       "      <td>Архангельская область</td>\n",
       "      <td>None</td>\n",
       "    </tr>\n",
       "    <tr>\n",
       "      <th>...</th>\n",
       "      <td>...</td>\n",
       "      <td>...</td>\n",
       "      <td>...</td>\n",
       "      <td>...</td>\n",
       "      <td>...</td>\n",
       "      <td>...</td>\n",
       "      <td>...</td>\n",
       "      <td>...</td>\n",
       "      <td>...</td>\n",
       "      <td>...</td>\n",
       "      <td>...</td>\n",
       "      <td>...</td>\n",
       "      <td>...</td>\n",
       "      <td>...</td>\n",
       "      <td>...</td>\n",
       "    </tr>\n",
       "    <tr>\n",
       "      <th>67</th>\n",
       "      <td>68</td>\n",
       "      <td>2020-11-11 05:22:52.213879</td>\n",
       "      <td>027612880004</td>\n",
       "      <td>None</td>\n",
       "      <td>Уфа</td>\n",
       "      <td>None</td>\n",
       "      <td>317028000128126</td>\n",
       "      <td>None</td>\n",
       "      <td>0119910853</td>\n",
       "      <td>1</td>\n",
       "      <td>None</td>\n",
       "      <td>None</td>\n",
       "      <td>None</td>\n",
       "      <td>Башкортостан республика</td>\n",
       "      <td>None</td>\n",
       "    </tr>\n",
       "    <tr>\n",
       "      <th>68</th>\n",
       "      <td>69</td>\n",
       "      <td>2020-11-11 06:32:21.733324</td>\n",
       "      <td>742600456869</td>\n",
       "      <td>None</td>\n",
       "      <td>None</td>\n",
       "      <td>None</td>\n",
       "      <td>306743828900016</td>\n",
       "      <td>None</td>\n",
       "      <td>0151106487</td>\n",
       "      <td>1</td>\n",
       "      <td>None</td>\n",
       "      <td>None</td>\n",
       "      <td>None</td>\n",
       "      <td>Челябинская область</td>\n",
       "      <td>None</td>\n",
       "    </tr>\n",
       "    <tr>\n",
       "      <th>69</th>\n",
       "      <td>70</td>\n",
       "      <td>2020-11-11 08:54:29.692515</td>\n",
       "      <td>745010253903</td>\n",
       "      <td>None</td>\n",
       "      <td>Челябинск</td>\n",
       "      <td>None</td>\n",
       "      <td>308745011400012</td>\n",
       "      <td>None</td>\n",
       "      <td>0160758844</td>\n",
       "      <td>1</td>\n",
       "      <td>None</td>\n",
       "      <td>None</td>\n",
       "      <td>None</td>\n",
       "      <td>Челябинская область</td>\n",
       "      <td>None</td>\n",
       "    </tr>\n",
       "    <tr>\n",
       "      <th>70</th>\n",
       "      <td>71</td>\n",
       "      <td>2020-11-11 11:24:19.889126</td>\n",
       "      <td>745214807998</td>\n",
       "      <td>None</td>\n",
       "      <td>Челябинск</td>\n",
       "      <td>None</td>\n",
       "      <td>318745600101871</td>\n",
       "      <td>None</td>\n",
       "      <td>0131335359</td>\n",
       "      <td>1</td>\n",
       "      <td>None</td>\n",
       "      <td>None</td>\n",
       "      <td>None</td>\n",
       "      <td>Челябинская область</td>\n",
       "      <td>None</td>\n",
       "    </tr>\n",
       "    <tr>\n",
       "      <th>71</th>\n",
       "      <td>72</td>\n",
       "      <td>2020-11-11 13:14:43.03616</td>\n",
       "      <td>742300181243</td>\n",
       "      <td>None</td>\n",
       "      <td>Снежинск</td>\n",
       "      <td>None</td>\n",
       "      <td>304742332900051</td>\n",
       "      <td>None</td>\n",
       "      <td>0129235725</td>\n",
       "      <td>1</td>\n",
       "      <td>None</td>\n",
       "      <td>None</td>\n",
       "      <td>None</td>\n",
       "      <td>Челябинская область</td>\n",
       "      <td>None</td>\n",
       "    </tr>\n",
       "  </tbody>\n",
       "</table>\n",
       "<p>72 rows × 15 columns</p>\n",
       "</div>"
      ],
      "text/plain": [
       "    id                  created_at           Inn  Bulk       City  Flat  \\\n",
       "0    1  2020-08-03 07:12:03.963452    5544554451  None       None  None   \n",
       "1    2  2020-08-03 07:38:31.136276    0000000000  None       None  None   \n",
       "2    3  2020-08-04 05:58:33.473403  700202974358  None      Томск  None   \n",
       "3    4  2020-08-06 05:05:37.043578    7017216138  None      Томск  None   \n",
       "4    5  2020-08-06 06:03:06.613762  352500119022  None       None  None   \n",
       "..  ..                         ...           ...   ...        ...   ...   \n",
       "67  68  2020-11-11 05:22:52.213879  027612880004  None        Уфа  None   \n",
       "68  69  2020-11-11 06:32:21.733324  742600456869  None       None  None   \n",
       "69  70  2020-11-11 08:54:29.692515  745010253903  None  Челябинск  None   \n",
       "70  71  2020-11-11 11:24:19.889126  745214807998  None  Челябинск  None   \n",
       "71  72   2020-11-11 13:14:43.03616  742300181243  None   Снежинск  None   \n",
       "\n",
       "               Ogrn  House        Оkpo  Status          Street ZipCode  \\\n",
       "0              None   None        None       0            None    None   \n",
       "1              None   None        None       0            None    None   \n",
       "2   317703100080340   None  0114009213       1            None    None   \n",
       "3     1087017018395  дом 9    85256729       1  улица Киевская  634012   \n",
       "4   316290100082018   None  0104421401       1            None    None   \n",
       "..              ...    ...         ...     ...             ...     ...   \n",
       "67  317028000128126   None  0119910853       1            None    None   \n",
       "68  306743828900016   None  0151106487       1            None    None   \n",
       "69  308745011400012   None  0160758844       1            None    None   \n",
       "70  318745600101871   None  0131335359       1            None    None   \n",
       "71  304742332900051   None  0129235725       1            None    None   \n",
       "\n",
       "                                            LegalName  \\\n",
       "0                                                None   \n",
       "1                                                None   \n",
       "2                                                None   \n",
       "3   Общество с ограниченной ответственностью \"Авто...   \n",
       "4                                                None   \n",
       "..                                                ...   \n",
       "67                                               None   \n",
       "68                                               None   \n",
       "69                                               None   \n",
       "70                                               None   \n",
       "71                                               None   \n",
       "\n",
       "                 RegionName Settlement  \n",
       "0                      None       None  \n",
       "1                      None       None  \n",
       "2           Томская область       None  \n",
       "3           Томская область       None  \n",
       "4     Архангельская область       None  \n",
       "..                      ...        ...  \n",
       "67  Башкортостан республика       None  \n",
       "68      Челябинская область       None  \n",
       "69      Челябинская область       None  \n",
       "70      Челябинская область       None  \n",
       "71      Челябинская область       None  \n",
       "\n",
       "[72 rows x 15 columns]"
      ]
     },
     "execution_count": 22,
     "metadata": {},
     "output_type": "execute_result"
    }
   ],
   "source": [
    "sellers = pd.read_csv(\n",
    "    '/opt/kate_repo/real_data_analysis/emex_interview_task/sellers.csv',\n",
    "    converters={'contractor_json': json.loads},\n",
    "    header=0,\n",
    "    quotechar='\"')\n",
    "contractor = sellers.join(pd.io.json.json_normalize(\n",
    "    sellers[\"contractor_json\"])).drop([\"contractor_json\"], axis=1)\n",
    "contractor"
   ]
  },
  {
   "cell_type": "code",
   "execution_count": 23,
   "metadata": {},
   "outputs": [
    {
     "data": {
      "text/plain": [
       "(72, 3)"
      ]
     },
     "execution_count": 23,
     "metadata": {},
     "output_type": "execute_result"
    }
   ],
   "source": [
    "sellers.shape"
   ]
  },
  {
   "cell_type": "code",
   "execution_count": 28,
   "metadata": {},
   "outputs": [
    {
     "data": {
      "text/html": [
       "<div>\n",
       "<style scoped>\n",
       "    .dataframe tbody tr th:only-of-type {\n",
       "        vertical-align: middle;\n",
       "    }\n",
       "\n",
       "    .dataframe tbody tr th {\n",
       "        vertical-align: top;\n",
       "    }\n",
       "\n",
       "    .dataframe thead th {\n",
       "        text-align: right;\n",
       "    }\n",
       "</style>\n",
       "<table border=\"1\" class=\"dataframe\">\n",
       "  <thead>\n",
       "    <tr style=\"text-align: right;\">\n",
       "      <th></th>\n",
       "      <th>id</th>\n",
       "      <th>inn</th>\n",
       "      <th>created_at</th>\n",
       "      <th>is_accepted</th>\n",
       "      <th>is_seller</th>\n",
       "      <th>id</th>\n",
       "      <th>created_at</th>\n",
       "      <th>contractor_json</th>\n",
       "    </tr>\n",
       "  </thead>\n",
       "  <tbody>\n",
       "    <tr>\n",
       "      <th>0</th>\n",
       "      <td>5781db93a6444c921c45efcc7f30bd08</td>\n",
       "      <td>230112640500</td>\n",
       "      <td>2020-07-17 10:11:40.204382</td>\n",
       "      <td>False</td>\n",
       "      <td>False</td>\n",
       "      <td>1.0</td>\n",
       "      <td>2020-08-03 07:12:03.963452</td>\n",
       "      <td>{'Inn': '5544554451', 'Bulk': None, 'City': No...</td>\n",
       "    </tr>\n",
       "    <tr>\n",
       "      <th>1</th>\n",
       "      <td>e8862ca7b667307568ca408c05c57cce</td>\n",
       "      <td>504790490890</td>\n",
       "      <td>2020-07-31 15:54:30.906968</td>\n",
       "      <td>False</td>\n",
       "      <td>False</td>\n",
       "      <td>2.0</td>\n",
       "      <td>2020-08-03 07:38:31.136276</td>\n",
       "      <td>{'Inn': '0000000000', 'Bulk': None, 'City': No...</td>\n",
       "    </tr>\n",
       "    <tr>\n",
       "      <th>2</th>\n",
       "      <td>838ae3edd30e77940522cb950fb6a77d</td>\n",
       "      <td>0</td>\n",
       "      <td>2020-08-03 08:09:59.410891</td>\n",
       "      <td>False</td>\n",
       "      <td>True</td>\n",
       "      <td>3.0</td>\n",
       "      <td>2020-08-04 05:58:33.473403</td>\n",
       "      <td>{'Inn': '700202974358', 'Bulk': None, 'City': ...</td>\n",
       "    </tr>\n",
       "    <tr>\n",
       "      <th>3</th>\n",
       "      <td>d8aa22a597b538ddef927675a20fec45</td>\n",
       "      <td>0</td>\n",
       "      <td>2020-07-29 10:03:43.949494</td>\n",
       "      <td>False</td>\n",
       "      <td>True</td>\n",
       "      <td>4.0</td>\n",
       "      <td>2020-08-06 05:05:37.043578</td>\n",
       "      <td>{'Inn': '7017216138', 'Bulk': None, 'City': 'Т...</td>\n",
       "    </tr>\n",
       "    <tr>\n",
       "      <th>4</th>\n",
       "      <td>d30bd4297f49a76595df3eb348b59eaa</td>\n",
       "      <td>0</td>\n",
       "      <td>2020-07-30 12:48:44.982906</td>\n",
       "      <td>False</td>\n",
       "      <td>True</td>\n",
       "      <td>5.0</td>\n",
       "      <td>2020-08-06 06:03:06.613762</td>\n",
       "      <td>{'Inn': '352500119022', 'Bulk': None, 'City': ...</td>\n",
       "    </tr>\n",
       "    <tr>\n",
       "      <th>...</th>\n",
       "      <td>...</td>\n",
       "      <td>...</td>\n",
       "      <td>...</td>\n",
       "      <td>...</td>\n",
       "      <td>...</td>\n",
       "      <td>...</td>\n",
       "      <td>...</td>\n",
       "      <td>...</td>\n",
       "    </tr>\n",
       "    <tr>\n",
       "      <th>67</th>\n",
       "      <td>56f9fe0d933ee159f5fb9949008a81ff</td>\n",
       "      <td>0</td>\n",
       "      <td>2020-08-22 10:25:51.699245</td>\n",
       "      <td>False</td>\n",
       "      <td>True</td>\n",
       "      <td>68.0</td>\n",
       "      <td>2020-11-11 05:22:52.213879</td>\n",
       "      <td>{'Inn': '027612880004', 'Bulk': None, 'City': ...</td>\n",
       "    </tr>\n",
       "    <tr>\n",
       "      <th>68</th>\n",
       "      <td>fad13d7ba643f54448a27a75a8056651</td>\n",
       "      <td>7715515201</td>\n",
       "      <td>2020-07-29 10:11:07.170116</td>\n",
       "      <td>False</td>\n",
       "      <td>False</td>\n",
       "      <td>69.0</td>\n",
       "      <td>2020-11-11 06:32:21.733324</td>\n",
       "      <td>{'Inn': '742600456869', 'Bulk': None, 'City': ...</td>\n",
       "    </tr>\n",
       "    <tr>\n",
       "      <th>69</th>\n",
       "      <td>077ad270ae404df63f667f0c6ac57599</td>\n",
       "      <td>740301447171</td>\n",
       "      <td>2020-07-18 05:37:14.828163</td>\n",
       "      <td>False</td>\n",
       "      <td>False</td>\n",
       "      <td>70.0</td>\n",
       "      <td>2020-11-11 08:54:29.692515</td>\n",
       "      <td>{'Inn': '745010253903', 'Bulk': None, 'City': ...</td>\n",
       "    </tr>\n",
       "    <tr>\n",
       "      <th>70</th>\n",
       "      <td>cc8928d469c055dcb0e0a07d1b9ddca7</td>\n",
       "      <td>7816406449</td>\n",
       "      <td>2020-07-20 09:36:03.125227</td>\n",
       "      <td>False</td>\n",
       "      <td>False</td>\n",
       "      <td>71.0</td>\n",
       "      <td>2020-11-11 11:24:19.889126</td>\n",
       "      <td>{'Inn': '745214807998', 'Bulk': None, 'City': ...</td>\n",
       "    </tr>\n",
       "    <tr>\n",
       "      <th>71</th>\n",
       "      <td>f361512f29c5bfca70eb0239ba52f8e0</td>\n",
       "      <td>0</td>\n",
       "      <td>2020-08-03 08:23:38.808408</td>\n",
       "      <td>False</td>\n",
       "      <td>True</td>\n",
       "      <td>72.0</td>\n",
       "      <td>2020-11-11 13:14:43.03616</td>\n",
       "      <td>{'Inn': '742300181243', 'Bulk': None, 'City': ...</td>\n",
       "    </tr>\n",
       "  </tbody>\n",
       "</table>\n",
       "<p>72 rows × 8 columns</p>\n",
       "</div>"
      ],
      "text/plain": [
       "                                  id           inn                 created_at  \\\n",
       "0   5781db93a6444c921c45efcc7f30bd08  230112640500 2020-07-17 10:11:40.204382   \n",
       "1   e8862ca7b667307568ca408c05c57cce  504790490890 2020-07-31 15:54:30.906968   \n",
       "2   838ae3edd30e77940522cb950fb6a77d             0 2020-08-03 08:09:59.410891   \n",
       "3   d8aa22a597b538ddef927675a20fec45             0 2020-07-29 10:03:43.949494   \n",
       "4   d30bd4297f49a76595df3eb348b59eaa             0 2020-07-30 12:48:44.982906   \n",
       "..                               ...           ...                        ...   \n",
       "67  56f9fe0d933ee159f5fb9949008a81ff             0 2020-08-22 10:25:51.699245   \n",
       "68  fad13d7ba643f54448a27a75a8056651    7715515201 2020-07-29 10:11:07.170116   \n",
       "69  077ad270ae404df63f667f0c6ac57599  740301447171 2020-07-18 05:37:14.828163   \n",
       "70  cc8928d469c055dcb0e0a07d1b9ddca7    7816406449 2020-07-20 09:36:03.125227   \n",
       "71  f361512f29c5bfca70eb0239ba52f8e0             0 2020-08-03 08:23:38.808408   \n",
       "\n",
       "    is_accepted  is_seller    id                  created_at  \\\n",
       "0         False      False   1.0  2020-08-03 07:12:03.963452   \n",
       "1         False      False   2.0  2020-08-03 07:38:31.136276   \n",
       "2         False       True   3.0  2020-08-04 05:58:33.473403   \n",
       "3         False       True   4.0  2020-08-06 05:05:37.043578   \n",
       "4         False       True   5.0  2020-08-06 06:03:06.613762   \n",
       "..          ...        ...   ...                         ...   \n",
       "67        False       True  68.0  2020-11-11 05:22:52.213879   \n",
       "68        False      False  69.0  2020-11-11 06:32:21.733324   \n",
       "69        False      False  70.0  2020-11-11 08:54:29.692515   \n",
       "70        False      False  71.0  2020-11-11 11:24:19.889126   \n",
       "71        False       True  72.0   2020-11-11 13:14:43.03616   \n",
       "\n",
       "                                      contractor_json  \n",
       "0   {'Inn': '5544554451', 'Bulk': None, 'City': No...  \n",
       "1   {'Inn': '0000000000', 'Bulk': None, 'City': No...  \n",
       "2   {'Inn': '700202974358', 'Bulk': None, 'City': ...  \n",
       "3   {'Inn': '7017216138', 'Bulk': None, 'City': 'Т...  \n",
       "4   {'Inn': '352500119022', 'Bulk': None, 'City': ...  \n",
       "..                                                ...  \n",
       "67  {'Inn': '027612880004', 'Bulk': None, 'City': ...  \n",
       "68  {'Inn': '742600456869', 'Bulk': None, 'City': ...  \n",
       "69  {'Inn': '745010253903', 'Bulk': None, 'City': ...  \n",
       "70  {'Inn': '745214807998', 'Bulk': None, 'City': ...  \n",
       "71  {'Inn': '742300181243', 'Bulk': None, 'City': ...  \n",
       "\n",
       "[72 rows x 8 columns]"
      ]
     },
     "execution_count": 28,
     "metadata": {},
     "output_type": "execute_result"
    }
   ],
   "source": [
    "orders_with_saler_name= pd.concat([registrations, sellers], axis=1)\n",
    "\n",
    "orders_with_saler_name=orders_with_saler_name.dropna(subset=['id'])\n",
    "orders_with_saler_name"
   ]
  },
  {
   "cell_type": "code",
   "execution_count": null,
   "metadata": {},
   "outputs": [],
   "source": []
  }
 ],
 "metadata": {
  "kernelspec": {
   "display_name": "Python 3",
   "language": "python",
   "name": "python3"
  },
  "language_info": {
   "codemirror_mode": {
    "name": "ipython",
    "version": 3
   },
   "file_extension": ".py",
   "mimetype": "text/x-python",
   "name": "python",
   "nbconvert_exporter": "python",
   "pygments_lexer": "ipython3",
   "version": "3.8.5"
  },
  "nbTranslate": {
   "displayLangs": [
    "*"
   ],
   "hotkey": "alt-t",
   "langInMainMenu": true,
   "sourceLang": "en",
   "targetLang": "fr",
   "useGoogleTranslate": true
  },
  "toc": {
   "base_numbering": 1,
   "nav_menu": {},
   "number_sections": true,
   "sideBar": true,
   "skip_h1_title": false,
   "title_cell": "Table of Contents",
   "title_sidebar": "Contents",
   "toc_cell": false,
   "toc_position": {},
   "toc_section_display": true,
   "toc_window_display": false
  },
  "varInspector": {
   "cols": {
    "lenName": 16,
    "lenType": 16,
    "lenVar": 40
   },
   "kernels_config": {
    "python": {
     "delete_cmd_postfix": "",
     "delete_cmd_prefix": "del ",
     "library": "var_list.py",
     "varRefreshCmd": "print(var_dic_list())"
    },
    "r": {
     "delete_cmd_postfix": ") ",
     "delete_cmd_prefix": "rm(",
     "library": "var_list.r",
     "varRefreshCmd": "cat(var_dic_list()) "
    }
   },
   "types_to_exclude": [
    "module",
    "function",
    "builtin_function_or_method",
    "instance",
    "_Feature"
   ],
   "window_display": false
  }
 },
 "nbformat": 4,
 "nbformat_minor": 4
}
