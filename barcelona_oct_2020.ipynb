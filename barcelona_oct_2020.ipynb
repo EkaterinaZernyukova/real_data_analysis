{
 "cells": [
  {
   "cell_type": "raw",
   "metadata": {},
   "source": [
    "Исследование взаимосвязи между несколькими переменными.\n",
    "Выявление факторов наиболее и наименее влияющих на стоимость аренды недвижимости в Барселоне."
   ]
  },
  {
   "cell_type": "code",
   "execution_count": 1,
   "metadata": {},
   "outputs": [],
   "source": [
    "import numpy as np\n",
    "import pandas as pd\n",
    "\n",
    "from scipy import polyval, stats\n",
    "import math\n",
    "from statsmodels.graphics.mosaicplot import mosaic\n",
    "import statsmodels.formula.api as sf\n",
    "import statsmodels.api as sm\n",
    "\n",
    "import seaborn as sns\n",
    "sns.set()\n",
    "import matplotlib.pyplot as plt\n",
    "\n",
    "from collections import Counter"
   ]
  },
  {
   "cell_type": "code",
   "execution_count": 2,
   "metadata": {},
   "outputs": [],
   "source": [
    "%matplotlib inline\n",
    "plt.style.use('ggplot')\n",
    "plt.rcParams['figure.figsize'] = (15, 5)\n",
    "plt.rcParams['font.family'] = 'sans-serif'"
   ]
  },
  {
   "cell_type": "code",
   "execution_count": 3,
   "metadata": {},
   "outputs": [],
   "source": [
    "df = pd.read_csv('resource/Barcelona airbnb 10.2020.csv')"
   ]
  },
  {
   "cell_type": "code",
   "execution_count": 4,
   "metadata": {},
   "outputs": [
    {
     "data": {
      "text/html": [
       "<div>\n",
       "<style scoped>\n",
       "    .dataframe tbody tr th:only-of-type {\n",
       "        vertical-align: middle;\n",
       "    }\n",
       "\n",
       "    .dataframe tbody tr th {\n",
       "        vertical-align: top;\n",
       "    }\n",
       "\n",
       "    .dataframe thead th {\n",
       "        text-align: right;\n",
       "    }\n",
       "</style>\n",
       "<table border=\"1\" class=\"dataframe\">\n",
       "  <thead>\n",
       "    <tr style=\"text-align: right;\">\n",
       "      <th></th>\n",
       "      <th>id</th>\n",
       "      <th>name</th>\n",
       "      <th>host_id</th>\n",
       "      <th>host_name</th>\n",
       "      <th>neighbourhood_group</th>\n",
       "      <th>neighbourhood</th>\n",
       "      <th>latitude</th>\n",
       "      <th>longitude</th>\n",
       "      <th>room_type</th>\n",
       "      <th>price</th>\n",
       "      <th>minimum_nights</th>\n",
       "      <th>number_of_reviews</th>\n",
       "      <th>last_review</th>\n",
       "      <th>reviews_per_month</th>\n",
       "      <th>calculated_host_listings_count</th>\n",
       "      <th>availability_365</th>\n",
       "    </tr>\n",
       "  </thead>\n",
       "  <tbody>\n",
       "    <tr>\n",
       "      <th>0</th>\n",
       "      <td>21974</td>\n",
       "      <td>Comf. double room/private bathroom</td>\n",
       "      <td>73163</td>\n",
       "      <td>Andres</td>\n",
       "      <td>Ciutat Vella</td>\n",
       "      <td>el Barri Gòtic</td>\n",
       "      <td>41.37973</td>\n",
       "      <td>2.17631</td>\n",
       "      <td>Private room</td>\n",
       "      <td>55</td>\n",
       "      <td>3</td>\n",
       "      <td>2</td>\n",
       "      <td>2017-11-06</td>\n",
       "      <td>0.05</td>\n",
       "      <td>3</td>\n",
       "      <td>139</td>\n",
       "    </tr>\n",
       "    <tr>\n",
       "      <th>1</th>\n",
       "      <td>23197</td>\n",
       "      <td>Forum DeLuxe 5 mins Walk  To CCIB Center &amp; Sea★</td>\n",
       "      <td>90417</td>\n",
       "      <td>Etain (Marnie)</td>\n",
       "      <td>Sant Martí</td>\n",
       "      <td>el Besòs i el Maresme</td>\n",
       "      <td>41.41291</td>\n",
       "      <td>2.22063</td>\n",
       "      <td>Entire home/apt</td>\n",
       "      <td>180</td>\n",
       "      <td>3</td>\n",
       "      <td>52</td>\n",
       "      <td>2019-12-15</td>\n",
       "      <td>0.45</td>\n",
       "      <td>2</td>\n",
       "      <td>358</td>\n",
       "    </tr>\n",
       "    <tr>\n",
       "      <th>2</th>\n",
       "      <td>32711</td>\n",
       "      <td>Sagrada Familia area - Còrsega 1</td>\n",
       "      <td>135703</td>\n",
       "      <td>Nick</td>\n",
       "      <td>Gràcia</td>\n",
       "      <td>el Camp d'en Grassot i Gràcia Nova</td>\n",
       "      <td>41.40566</td>\n",
       "      <td>2.17015</td>\n",
       "      <td>Entire home/apt</td>\n",
       "      <td>109</td>\n",
       "      <td>2</td>\n",
       "      <td>63</td>\n",
       "      <td>2020-02-22</td>\n",
       "      <td>0.56</td>\n",
       "      <td>5</td>\n",
       "      <td>0</td>\n",
       "    </tr>\n",
       "    <tr>\n",
       "      <th>3</th>\n",
       "      <td>34241</td>\n",
       "      <td>Private Double room - Plaza Real</td>\n",
       "      <td>73163</td>\n",
       "      <td>Andres</td>\n",
       "      <td>Ciutat Vella</td>\n",
       "      <td>el Barri Gòtic</td>\n",
       "      <td>41.37916</td>\n",
       "      <td>2.17535</td>\n",
       "      <td>Private room</td>\n",
       "      <td>40</td>\n",
       "      <td>30</td>\n",
       "      <td>8</td>\n",
       "      <td>2013-07-15</td>\n",
       "      <td>0.06</td>\n",
       "      <td>3</td>\n",
       "      <td>0</td>\n",
       "    </tr>\n",
       "    <tr>\n",
       "      <th>4</th>\n",
       "      <td>34981</td>\n",
       "      <td>VIDRE HOME PLAZA REAL on LAS RAMBLAS</td>\n",
       "      <td>73163</td>\n",
       "      <td>Andres</td>\n",
       "      <td>Ciutat Vella</td>\n",
       "      <td>el Barri Gòtic</td>\n",
       "      <td>41.37978</td>\n",
       "      <td>2.17623</td>\n",
       "      <td>Entire home/apt</td>\n",
       "      <td>131</td>\n",
       "      <td>4</td>\n",
       "      <td>149</td>\n",
       "      <td>2020-03-11</td>\n",
       "      <td>1.22</td>\n",
       "      <td>3</td>\n",
       "      <td>92</td>\n",
       "    </tr>\n",
       "  </tbody>\n",
       "</table>\n",
       "</div>"
      ],
      "text/plain": [
       "      id                                             name  host_id  \\\n",
       "0  21974               Comf. double room/private bathroom    73163   \n",
       "1  23197  Forum DeLuxe 5 mins Walk  To CCIB Center & Sea★    90417   \n",
       "2  32711                 Sagrada Familia area - Còrsega 1   135703   \n",
       "3  34241                 Private Double room - Plaza Real    73163   \n",
       "4  34981             VIDRE HOME PLAZA REAL on LAS RAMBLAS    73163   \n",
       "\n",
       "        host_name neighbourhood_group                       neighbourhood  \\\n",
       "0          Andres        Ciutat Vella                      el Barri Gòtic   \n",
       "1  Etain (Marnie)          Sant Martí               el Besòs i el Maresme   \n",
       "2            Nick              Gràcia  el Camp d'en Grassot i Gràcia Nova   \n",
       "3          Andres        Ciutat Vella                      el Barri Gòtic   \n",
       "4          Andres        Ciutat Vella                      el Barri Gòtic   \n",
       "\n",
       "   latitude  longitude        room_type  price  minimum_nights  \\\n",
       "0  41.37973    2.17631     Private room     55               3   \n",
       "1  41.41291    2.22063  Entire home/apt    180               3   \n",
       "2  41.40566    2.17015  Entire home/apt    109               2   \n",
       "3  41.37916    2.17535     Private room     40              30   \n",
       "4  41.37978    2.17623  Entire home/apt    131               4   \n",
       "\n",
       "   number_of_reviews last_review  reviews_per_month  \\\n",
       "0                  2  2017-11-06               0.05   \n",
       "1                 52  2019-12-15               0.45   \n",
       "2                 63  2020-02-22               0.56   \n",
       "3                  8  2013-07-15               0.06   \n",
       "4                149  2020-03-11               1.22   \n",
       "\n",
       "   calculated_host_listings_count  availability_365  \n",
       "0                               3               139  \n",
       "1                               2               358  \n",
       "2                               5                 0  \n",
       "3                               3                 0  \n",
       "4                               3                92  "
      ]
     },
     "execution_count": 4,
     "metadata": {},
     "output_type": "execute_result"
    }
   ],
   "source": [
    "df.head()"
   ]
  },
  {
   "cell_type": "raw",
   "metadata": {},
   "source": [
    "                                     Numeric columns"
   ]
  },
  {
   "cell_type": "code",
   "execution_count": 5,
   "metadata": {},
   "outputs": [
    {
     "name": "stdout",
     "output_type": "stream",
     "text": [
      "['id' 'host_id' 'latitude' 'longitude' 'price' 'minimum_nights'\n",
      " 'number_of_reviews' 'reviews_per_month' 'calculated_host_listings_count'\n",
      " 'availability_365']\n"
     ]
    }
   ],
   "source": [
    "df_numeric = df.select_dtypes(include=[np.number])\n",
    "numeric_cols = df_numeric.columns.values\n",
    "print(numeric_cols)"
   ]
  },
  {
   "cell_type": "markdown",
   "metadata": {},
   "source": [
    "                                  Shape and data types of the data \n",
    "                                     (генеральная совокупность)"
   ]
  },
  {
   "cell_type": "code",
   "execution_count": 6,
   "metadata": {},
   "outputs": [
    {
     "data": {
      "text/plain": [
       "(19896, 16)"
      ]
     },
     "execution_count": 6,
     "metadata": {},
     "output_type": "execute_result"
    }
   ],
   "source": [
    "df.shape"
   ]
  },
  {
   "cell_type": "code",
   "execution_count": 7,
   "metadata": {},
   "outputs": [
    {
     "name": "stdout",
     "output_type": "stream",
     "text": [
      "<class 'pandas.core.frame.DataFrame'>\n",
      "RangeIndex: 19896 entries, 0 to 19895\n",
      "Data columns (total 16 columns):\n",
      " #   Column                          Non-Null Count  Dtype  \n",
      "---  ------                          --------------  -----  \n",
      " 0   id                              19896 non-null  int64  \n",
      " 1   name                            19884 non-null  object \n",
      " 2   host_id                         19896 non-null  int64  \n",
      " 3   host_name                       19889 non-null  object \n",
      " 4   neighbourhood_group             19896 non-null  object \n",
      " 5   neighbourhood                   19896 non-null  object \n",
      " 6   latitude                        19896 non-null  float64\n",
      " 7   longitude                       19896 non-null  float64\n",
      " 8   room_type                       19896 non-null  object \n",
      " 9   price                           19896 non-null  int64  \n",
      " 10  minimum_nights                  19896 non-null  int64  \n",
      " 11  number_of_reviews               19896 non-null  int64  \n",
      " 12  last_review                     14019 non-null  object \n",
      " 13  reviews_per_month               14019 non-null  float64\n",
      " 14  calculated_host_listings_count  19896 non-null  int64  \n",
      " 15  availability_365                19896 non-null  int64  \n",
      "dtypes: float64(3), int64(7), object(6)\n",
      "memory usage: 2.4+ MB\n"
     ]
    }
   ],
   "source": [
    "df.info()"
   ]
  },
  {
   "cell_type": "raw",
   "metadata": {},
   "source": [
    "Согласно общему описанию данных (info) в 4х столбцах: name, host_name, last_review, reviews_per_month \n",
    "отсутствует часть значений. \n",
    "Для оценки объема отсутствующих значений и выбора метода их обработки необходимо провести расчет доли отсутствующих значений, учитывая тип данных и содержание."
   ]
  },
  {
   "cell_type": "code",
   "execution_count": 8,
   "metadata": {},
   "outputs": [
    {
     "name": "stdout",
     "output_type": "stream",
     "text": [
      "id - 0%\n",
      "name - 0%\n",
      "host_id - 0%\n",
      "host_name - 0%\n",
      "neighbourhood_group - 0%\n",
      "neighbourhood - 0%\n",
      "latitude - 0%\n",
      "longitude - 0%\n",
      "room_type - 0%\n",
      "price - 0%\n",
      "minimum_nights - 0%\n",
      "number_of_reviews - 0%\n",
      "last_review - 30%\n",
      "reviews_per_month - 30%\n",
      "calculated_host_listings_count - 0%\n",
      "availability_365 - 0%\n"
     ]
    }
   ],
   "source": [
    "# Список долей отсутствующих записей для каждого признака\n",
    "for col in df.columns:\n",
    "    pct_missing = np.mean(df[col].isnull())\n",
    "    print('{} - {}%'.format(col, round(pct_missing * 100)))"
   ]
  },
  {
   "cell_type": "raw",
   "metadata": {},
   "source": [
    "Пропуски данных типа object в столбцах name и host_name составляют менее 1%, поэтому допустимо заменить пропуски условным значением MISSING.\n",
    "\n",
    "Пропуски данных 30% присутствуют у признаков last_review и reviews_per_month. \n",
    "Данные могут отсутствовать в связи с отсутствием отзывов об объектах, либо значения действительно были пропущены.\n",
    "Необходимо найти признаки влияющие на отзывы и оценить вероятность пропусков, а не отсутствия отзывов."
   ]
  },
  {
   "cell_type": "markdown",
   "metadata": {},
   "source": [
    "                                    Data cleaning"
   ]
  },
  {
   "cell_type": "markdown",
   "metadata": {},
   "source": [
    "### Отсутствующие данные"
   ]
  },
  {
   "cell_type": "code",
   "execution_count": 9,
   "metadata": {},
   "outputs": [],
   "source": [
    "# Внесение недостающих значений в столбцы name и host_name\n",
    "df['name'] = df['name'].fillna('MISSING')\n",
    "df['host_name'] = df['host_name'].fillna('MISSING')"
   ]
  },
  {
   "cell_type": "code",
   "execution_count": 10,
   "metadata": {},
   "outputs": [
    {
     "data": {
      "text/plain": [
       "1869    MISSING\n",
       "2285    MISSING\n",
       "2685    MISSING\n",
       "2698    MISSING\n",
       "2804    MISSING\n",
       "2890    MISSING\n",
       "3001    MISSING\n",
       "3012    MISSING\n",
       "3358    MISSING\n",
       "4533    MISSING\n",
       "4561    MISSING\n",
       "4661    MISSING\n",
       "Name: name, dtype: object"
      ]
     },
     "execution_count": 10,
     "metadata": {},
     "output_type": "execute_result"
    }
   ],
   "source": [
    "# проверка заполнения недостающих значений 'name'\n",
    "missing_df = df['name'].str.contains('MISSING')\n",
    "df[missing_df]['name']"
   ]
  },
  {
   "cell_type": "code",
   "execution_count": 11,
   "metadata": {},
   "outputs": [
    {
     "data": {
      "text/plain": [
       "Text(0.5, 1.0, 'Тепловая карта пропущенных значений')"
      ]
     },
     "execution_count": 11,
     "metadata": {},
     "output_type": "execute_result"
    },
    {
     "data": {
      "image/png": "[encoded data removed]",
      "text/plain": [
       "<Figure size 1080x360 with 2 Axes>"
      ]
     },
     "metadata": {},
     "output_type": "display_data"
    }
   ],
   "source": [
    "# Отсутствующие значения на тепловой карте\n",
    "cols = df.columns\n",
    "colours = ['#005522', '#ffff00']\n",
    "# желтый - пропущенные данные\n",
    "sns.heatmap(df[cols].isnull(), cmap=sns.color_palette(colours))\n",
    "plt.xlabel('Параметры')\n",
    "plt.ylabel('Индекс параметра')\n",
    "plt.title('Тепловая карта пропущенных значений')"
   ]
  },
  {
   "cell_type": "raw",
   "metadata": {},
   "source": [
    "На тепловой карте наблюдаются пропуски данных для last_review и reviews_per_month в одних и тех же строках.\n",
    "Так как параметр last_review имеет тип object и содержит сведения о дате последнего отзыва, очевидно last_review связан с reviews_per_month."
   ]
  },
  {
   "cell_type": "markdown",
   "metadata": {},
   "source": [
    "Диаграмма корреляции для визуализации метрики корреляции между всеми возможными парами числовых переменных в данном наборе данных "
   ]
  },
  {
   "cell_type": "code",
   "execution_count": 12,
   "metadata": {},
   "outputs": [
    {
     "data": {
      "image/png": "[encoded data removed]",
      "text/plain": [
       "<Figure size 576x576 with 2 Axes>"
      ]
     },
     "metadata": {},
     "output_type": "display_data"
    }
   ],
   "source": [
    "# матрица корреляции между атрибутами объекта\n",
    "fig, ax = plt.subplots(figsize=(8, 8))\n",
    "corr = df[[\n",
    "    'id', 'host_id', 'latitude', 'longitude', 'price', 'minimum_nights',\n",
    "    'number_of_reviews', 'reviews_per_month', 'calculated_host_listings_count',\n",
    "    'availability_365'\n",
    "]].corr()\n",
    "mask = np.zeros_like(corr)\n",
    "mask[np.triu_indices_from(mask)] = True\n",
    "with sns.axes_style('dark'):\n",
    "    ax = sns.heatmap(corr,\n",
    "                     mask=mask,\n",
    "                     square=True,\n",
    "                     cbar=True,\n",
    "                     annot=True,\n",
    "                     linewidths=3)"
   ]
  },
  {
   "cell_type": "raw",
   "metadata": {},
   "source": [
    "Согласно диаграмме корреляции наибольшая зависимость у количественного параметра reviews_per_month наблюдается с number_of_reviews = 0,78.\n",
    "Необходимо оценить какие значения принимает number_of_reviews при отсутствии значений зависимого параметра reviews_per_month."
   ]
  },
  {
   "cell_type": "code",
   "execution_count": 13,
   "metadata": {},
   "outputs": [
    {
     "data": {
      "text/plain": [
       "5877"
      ]
     },
     "execution_count": 13,
     "metadata": {},
     "output_type": "execute_result"
    }
   ],
   "source": [
    "#фильтр по пустым ячейкам в столбце reviews_per_month\n",
    "filtered_nullable = df[df['reviews_per_month'].isnull()]\n",
    "len(filtered_nullable)"
   ]
  },
  {
   "cell_type": "code",
   "execution_count": 14,
   "metadata": {},
   "outputs": [
    {
     "data": {
      "text/plain": [
       "0    5877\n",
       "Name: number_of_reviews, dtype: int64"
      ]
     },
     "execution_count": 14,
     "metadata": {},
     "output_type": "execute_result"
    }
   ],
   "source": [
    "#выбор 2х столбцов по заданному фильтру\n",
    "filtered_nullable = filtered_nullable[[\n",
    "    'number_of_reviews', 'reviews_per_month'\n",
    "]]\n",
    "# количество отзывов при нулевом значении параметра в месяц\n",
    "filtered_nullable['number_of_reviews'].value_counts()"
   ]
  },
  {
   "cell_type": "raw",
   "metadata": {},
   "source": [
    "При отсутствии значений параметра reviews_per_month, у параметра number_of_reviews наблюдается нулевое значение, следовательно столбец reviews_per_month не содержит какие-либо данные в том случае, когда отсутствуют отзывы об объектах. Соответственно, для столбца reviews_per_month допустимо заменить пропуски значением 0.\n",
    "\n",
    "Согласно установленной по тепловой карте взаимосвязи между reviews_per_month и last_review, при значении 0 для reviews_per_month, значение параметра last_review допустимо не заполнять для приведения в соответствие с типом данных datetime."
   ]
  },
  {
   "cell_type": "code",
   "execution_count": 15,
   "metadata": {},
   "outputs": [],
   "source": [
    "# замененна значения NAN новым значением 0\n",
    "df['reviews_per_month'] = df['reviews_per_month'].fillna(0)"
   ]
  },
  {
   "cell_type": "code",
   "execution_count": 16,
   "metadata": {},
   "outputs": [
    {
     "name": "stdout",
     "output_type": "stream",
     "text": [
      "id - 0%\n",
      "name - 0%\n",
      "host_id - 0%\n",
      "host_name - 0%\n",
      "neighbourhood_group - 0%\n",
      "neighbourhood - 0%\n",
      "latitude - 0%\n",
      "longitude - 0%\n",
      "room_type - 0%\n",
      "price - 0%\n",
      "minimum_nights - 0%\n",
      "number_of_reviews - 0%\n",
      "last_review - 30%\n",
      "reviews_per_month - 0%\n",
      "calculated_host_listings_count - 0%\n",
      "availability_365 - 0%\n"
     ]
    }
   ],
   "source": [
    "# Проверка долей отсутствующих записей для каждого признака после внесения недостающих значений\n",
    "for col in df.columns:\n",
    "    pct_missing = np.mean(df[col].isnull())\n",
    "    print('{} - {}%'.format(col, round(pct_missing * 100)))"
   ]
  },
  {
   "cell_type": "raw",
   "metadata": {},
   "source": [
    "Устранено отсутствие записей в списке данных внесением недостающих значений.\n",
    "Данные подготовлены для анализа параметров, оценки их значимости и выявления наличия зависимостей."
   ]
  },
  {
   "cell_type": "markdown",
   "metadata": {},
   "source": [
    "### Анализ каждого параметра"
   ]
  },
  {
   "cell_type": "markdown",
   "metadata": {},
   "source": [
    "####                                    Анализ параметра id"
   ]
  },
  {
   "cell_type": "code",
   "execution_count": 17,
   "metadata": {},
   "outputs": [
    {
     "data": {
      "text/plain": [
       "[]"
      ]
     },
     "execution_count": 17,
     "metadata": {},
     "output_type": "execute_result"
    }
   ],
   "source": [
    "# проверка на уникальность\n",
    "[k for k, v in Counter(df['id']).items() if v > 1]\n",
    "# все значения id уникальны, повторений нет, следовательно весь датасет содержит уникальные данные"
   ]
  },
  {
   "cell_type": "markdown",
   "metadata": {},
   "source": [
    "####                                    Анализ параметра host id"
   ]
  },
  {
   "cell_type": "code",
   "execution_count": 18,
   "metadata": {},
   "outputs": [
    {
     "data": {
      "text/plain": [
       "0.4904000804181745"
      ]
     },
     "execution_count": 18,
     "metadata": {},
     "output_type": "execute_result"
    }
   ],
   "source": [
    "# проверка на уникальность\n",
    "df['host_id'].nunique() / len(df)"
   ]
  },
  {
   "cell_type": "code",
   "execution_count": 19,
   "metadata": {},
   "outputs": [
    {
     "data": {
      "text/plain": [
       "9757"
      ]
     },
     "execution_count": 19,
     "metadata": {},
     "output_type": "execute_result"
    }
   ],
   "source": [
    "df['host_id'].nunique()"
   ]
  },
  {
   "cell_type": "raw",
   "metadata": {},
   "source": [
    "Половина значений параметра host id имеет повторения, которые можно объяснить наличием нескольких вариантов предложений размещения от одного хозяина. Параметр можно сравнить с calculated_host_listings_count для подтверждения предположения."
   ]
  },
  {
   "cell_type": "code",
   "execution_count": 20,
   "metadata": {},
   "outputs": [
    {
     "data": {
      "text/plain": [
       "True    19896\n",
       "Name: filtered_host, dtype: int64"
      ]
     },
     "execution_count": 20,
     "metadata": {},
     "output_type": "execute_result"
    }
   ],
   "source": [
    "# сравнение частоты встречаемости id каждого хозяина с параметром calculated_host_listings_count\n",
    "\n",
    "df_copy = df.copy(deep=True) #создание копии данных\n",
    "\n",
    "tags, C = np.unique(df_copy.host_id, return_counts=1, return_inverse=1)[1:] \n",
    "df_copy['host_id_сount'] = C[tags] #создание столбца с числом встречаемости каждого уникального значения host_id\n",
    "\n",
    "df_copy['filtered_host']=df_copy['host_id_сount']==df_copy['calculated_host_listings_count'] #булевое значение при сравнении столбцов\n",
    "df_copy['filtered_host'].value_counts()"
   ]
  },
  {
   "cell_type": "raw",
   "metadata": {},
   "source": [
    "Параметр calculated_host_listings_count является частотой встречаемости параметра host_id, но для анализа влияния фактора на стоимость достаточно данных с количественным показателем, поэтому столбец host_id можно не учитывать."
   ]
  },
  {
   "cell_type": "markdown",
   "metadata": {},
   "source": [
    "#### Анализ параметра host_name"
   ]
  },
  {
   "cell_type": "code",
   "execution_count": 21,
   "metadata": {},
   "outputs": [
    {
     "data": {
      "text/plain": [
       "0.20999195818254926"
      ]
     },
     "execution_count": 21,
     "metadata": {},
     "output_type": "execute_result"
    }
   ],
   "source": [
    "# объем уникальных значений в столбце host_name\n",
    "df['host_name'].nunique() / len(df)"
   ]
  },
  {
   "cell_type": "code",
   "execution_count": 22,
   "metadata": {},
   "outputs": [],
   "source": [
    "# словарь уникальных значений с учетом группировки по host_id\n",
    "dict_name_host=df.groupby(df.host_name)['host_id'].nunique()"
   ]
  },
  {
   "cell_type": "code",
   "execution_count": 23,
   "metadata": {},
   "outputs": [
    {
     "data": {
      "text/plain": [
       "['Maria']"
      ]
     },
     "execution_count": 23,
     "metadata": {},
     "output_type": "execute_result"
    }
   ],
   "source": [
    "# список наиболее популярных имен с учетом уникальности по параметру host_id\n",
    "[keys for keys, values in dict_name_host.items() if values == dict_name_host.max()]"
   ]
  },
  {
   "cell_type": "code",
   "execution_count": 24,
   "metadata": {},
   "outputs": [
    {
     "ename": "NameError",
     "evalue": "name 'series_name_host' is not defined",
     "output_type": "error",
     "traceback": [
      "\u001b[0;31m---------------------------------------------------------------------------\u001b[0m",
      "\u001b[0;31mNameError\u001b[0m                                 Traceback (most recent call last)",
      "\u001b[0;32m<ipython-input-24-7338434442b2>\u001b[0m in \u001b[0;36m<module>\u001b[0;34m\u001b[0m\n\u001b[1;32m      1\u001b[0m \u001b[0;31m# Частота встречаемости самого популярного имени\u001b[0m\u001b[0;34m\u001b[0m\u001b[0;34m\u001b[0m\u001b[0;34m\u001b[0m\u001b[0m\n\u001b[0;32m----> 2\u001b[0;31m \u001b[0mseries_name_host\u001b[0m\u001b[0;34m.\u001b[0m\u001b[0mmax\u001b[0m\u001b[0;34m(\u001b[0m\u001b[0;34m)\u001b[0m\u001b[0;34m/\u001b[0m\u001b[0mdf\u001b[0m\u001b[0;34m[\u001b[0m\u001b[0;34m'host_id'\u001b[0m\u001b[0;34m]\u001b[0m\u001b[0;34m.\u001b[0m\u001b[0mnunique\u001b[0m\u001b[0;34m(\u001b[0m\u001b[0;34m)\u001b[0m\u001b[0;34m\u001b[0m\u001b[0;34m\u001b[0m\u001b[0m\n\u001b[0m",
      "\u001b[0;31mNameError\u001b[0m: name 'series_name_host' is not defined"
     ]
    }
   ],
   "source": [
    "# Частота встречаемости самого популярного имени\n",
    "series_name_host.max()/df['host_id'].nunique()"
   ]
  },
  {
   "cell_type": "raw",
   "metadata": {},
   "source": [
    "Имена в 2 раза менее уникальный признак, чем host_id, поэтому количество имен не сопоставимо с calculated_host_listings_count. Но имена недостаточно однообразны, чтоб разделить их на категории.\n",
    "Встречаемость наиболее часто используемого имени в host_name составляет всего 1% от количества хозяев.\n",
    "На основании проведенной оценки можно считать признак host_name малоинформативным и не учитывать в анализе влияния фактора на стоимость."
   ]
  },
  {
   "cell_type": "code",
   "execution_count": null,
   "metadata": {},
   "outputs": [],
   "source": [
    "# удаление столбца host_id и host_name\n",
    "df=df.drop(['host_id', 'host_name'], axis=1)"
   ]
  },
  {
   "cell_type": "markdown",
   "metadata": {},
   "source": [
    "####                                    Анализ параметра price"
   ]
  },
  {
   "cell_type": "code",
   "execution_count": 25,
   "metadata": {},
   "outputs": [
    {
     "data": {
      "text/plain": [
       "count    19896.000000\n",
       "mean        85.995074\n",
       "std        207.216127\n",
       "min          0.000000\n",
       "25%         34.000000\n",
       "50%         54.000000\n",
       "75%         93.000000\n",
       "max      10000.000000\n",
       "Name: price, dtype: float64"
      ]
     },
     "execution_count": 25,
     "metadata": {},
     "output_type": "execute_result"
    }
   ],
   "source": [
    "# Описательная статистика\n",
    "df['price'].describe()"
   ]
  },
  {
   "cell_type": "code",
   "execution_count": 26,
   "metadata": {},
   "outputs": [
    {
     "data": {
      "text/plain": [
       "54.0"
      ]
     },
     "execution_count": 26,
     "metadata": {},
     "output_type": "execute_result"
    }
   ],
   "source": [
    "df['price'].median()"
   ]
  },
  {
   "cell_type": "code",
   "execution_count": 27,
   "metadata": {},
   "outputs": [
    {
     "data": {
      "text/plain": [
       "50"
      ]
     },
     "execution_count": 27,
     "metadata": {},
     "output_type": "execute_result"
    }
   ],
   "source": [
    "df['price'].mode()[0]"
   ]
  },
  {
   "cell_type": "raw",
   "metadata": {},
   "source": [
    "Максимальное значение признака price значительно отличается от средних значений, что свидетельствует о наличии выбросов. \n",
    "Минимальное значение 0 не является информативным для оценки данных, поэтому его можно исключить."
   ]
  },
  {
   "cell_type": "code",
   "execution_count": 28,
   "metadata": {},
   "outputs": [],
   "source": [
    "# исключение нулевого значения из набора данных\n",
    "df = df[df['price'] > 0]"
   ]
  },
  {
   "cell_type": "code",
   "execution_count": 29,
   "metadata": {},
   "outputs": [
    {
     "data": {
      "text/plain": [
       "Text(0.5, 1.0, 'цены')"
      ]
     },
     "execution_count": 29,
     "metadata": {},
     "output_type": "execute_result"
    },
    {
     "data": {
      "image/png": "[encoded data removed]",
      "text/plain": [
       "<Figure size 1080x360 with 1 Axes>"
      ]
     },
     "metadata": {},
     "output_type": "display_data"
    }
   ],
   "source": [
    "# Распределение параметра price\n",
    "sns.countplot(x='price', data=df, color='green')\n",
    "plt.xlabel('price')\n",
    "plt.ylabel('Количество')\n",
    "plt.title('цены')"
   ]
  },
  {
   "cell_type": "markdown",
   "metadata": {},
   "source": [
    "Отрицательно-биномиальное распределение значений параметра price"
   ]
  },
  {
   "cell_type": "code",
   "execution_count": 30,
   "metadata": {},
   "outputs": [
    {
     "data": {
      "text/plain": [
       "Text(0.5, 1.0, 'Разброс стоимости жилья')"
      ]
     },
     "execution_count": 30,
     "metadata": {},
     "output_type": "execute_result"
    },
    {
     "data": {
      "image/png": "[encoded data removed]",
      "text/plain": [
       "<Figure size 1080x360 with 1 Axes>"
      ]
     },
     "metadata": {},
     "output_type": "display_data"
    }
   ],
   "source": [
    "df['price'].plot()\n",
    "plt.xlabel('Индекс стоимости')\n",
    "plt.ylabel('Стоимость')\n",
    "plt.title('Разброс стоимости жилья')"
   ]
  },
  {
   "cell_type": "code",
   "execution_count": 31,
   "metadata": {},
   "outputs": [
    {
     "name": "stderr",
     "output_type": "stream",
     "text": [
      "/home/kate/.local/lib/python3.8/site-packages/seaborn/_decorators.py:36: FutureWarning: Pass the following variable as a keyword arg: x. From version 0.12, the only valid positional argument will be `data`, and passing other arguments without an explicit keyword will result in an error or misinterpretation.\n",
      "  warnings.warn(\n"
     ]
    },
    {
     "data": {
      "text/plain": [
       "<AxesSubplot:xlabel='price'>"
      ]
     },
     "execution_count": 31,
     "metadata": {},
     "output_type": "execute_result"
    },
    {
     "data": {
      "image/png": "[encoded data removed]",
      "text/plain": [
       "<Figure size 1080x360 with 1 Axes>"
      ]
     },
     "metadata": {},
     "output_type": "display_data"
    }
   ],
   "source": [
    "sns.boxplot(df['price'], orient='h')"
   ]
  },
  {
   "cell_type": "raw",
   "metadata": {},
   "source": [
    "На графике boxplot присутствует значительное количетсво нетипичных данных. \n",
    "Но для параметра price нетипичные данные могут быть классом элитной недвижимости, либо недвижимости с длительной арендой для которой стоимость указана за минимальный срок аренды.\n",
    "\n",
    "При объеме выбросов более 5% допустимо говорить об отдельной категории для выбросов. \n",
    "\n",
    "Нетипичные данные на boxplot следуют за верхней границей распределения данных равной крайнему значению 4го интервала данных (1.5 межквартильных диапазона)"
   ]
  },
  {
   "cell_type": "code",
   "execution_count": 32,
   "metadata": {},
   "outputs": [
    {
     "data": {
      "text/plain": [
       "7.031917567227946"
      ]
     },
     "execution_count": 32,
     "metadata": {},
     "output_type": "execute_result"
    }
   ],
   "source": [
    "# Объем нетипичных данных параметра price\n",
    "\n",
    "df_price = df['price']\n",
    "upper_quartile = np.percentile(df_price, 75)\n",
    "lower_quartile = np.percentile(df_price, 25)\n",
    "iqr = upper_quartile - lower_quartile  #Межквартильный диапазон\n",
    "upper_whisker = df_price[df_price <= upper_quartile +\n",
    "                         1.5 * iqr].max()  #1.5 межквартильных диапазона\n",
    "\n",
    "filtered_emissions = df[\n",
    "    df['price'] >\n",
    "    upper_whisker]  #выборка данных с нетипичными значениями стоимости\n",
    "\n",
    "len(filtered_emissions) / len(\n",
    "    df\n",
    ") * 100  #процент нетипичных значений стоимости в генеральной совокупности"
   ]
  },
  {
   "cell_type": "raw",
   "metadata": {},
   "source": [
    "Объем нетипичных значений составляет 7%, в связи с чем допустимо расценивать неипичные значения как отдельную категорию.\n",
    "Оценка категории по длительности аренды и выявление маркеров элитной недвижимости:"
   ]
  },
  {
   "cell_type": "code",
   "execution_count": 33,
   "metadata": {},
   "outputs": [
    {
     "data": {
      "text/plain": [
       "1      544\n",
       "3      288\n",
       "2      260\n",
       "30      64\n",
       "32      60\n",
       "4       48\n",
       "5       25\n",
       "7       19\n",
       "6       16\n",
       "14      16\n",
       "28      14\n",
       "31      13\n",
       "15       4\n",
       "150      4\n",
       "60       3\n",
       "90       3\n",
       "33       2\n",
       "360      2\n",
       "34       2\n",
       "180      2\n",
       "29       1\n",
       "135      1\n",
       "18       1\n",
       "36       1\n",
       "12       1\n",
       "10       1\n",
       "100      1\n",
       "120      1\n",
       "240      1\n",
       "365      1\n",
       "Name: minimum_nights, dtype: int64"
      ]
     },
     "execution_count": 33,
     "metadata": {},
     "output_type": "execute_result"
    }
   ],
   "source": [
    "filtered_emissions['minimum_nights'].value_counts()"
   ]
  },
  {
   "cell_type": "code",
   "execution_count": 34,
   "metadata": {},
   "outputs": [
    {
     "data": {
      "text/plain": [
       "11.508220157255183"
      ]
     },
     "execution_count": 34,
     "metadata": {},
     "output_type": "execute_result"
    }
   ],
   "source": [
    "len(filtered_emissions[filtered_emissions['minimum_nights'] > 29]) / len(\n",
    "    filtered_emissions) * 100\n",
    "#процент длительной аренды (от месяца до года) в выборке нетипичной стоимости"
   ]
  },
  {
   "cell_type": "markdown",
   "metadata": {},
   "source": [
    "Анализ описания предложений по параметру name для выявления маркеров премиальной категории"
   ]
  },
  {
   "cell_type": "code",
   "execution_count": 35,
   "metadata": {},
   "outputs": [
    {
     "name": "stderr",
     "output_type": "stream",
     "text": [
      "<ipython-input-35-f7b8e3e2a962>:3: SettingWithCopyWarning: \n",
      "A value is trying to be set on a copy of a slice from a DataFrame.\n",
      "Try using .loc[row_indexer,col_indexer] = value instead\n",
      "\n",
      "See the caveats in the documentation: https://pandas.pydata.org/pandas-docs/stable/user_guide/indexing.html#returning-a-view-versus-a-copy\n",
      "  filtered_emissions['name'] = filtered_emissions['name'].str.lower(\n"
     ]
    }
   ],
   "source": [
    "# Приведение регистров символов к общему виду\n",
    "df['name'] = df['name'].str.lower()  #нижний регистр для всех строк\n",
    "filtered_emissions['name'] = filtered_emissions['name'].str.lower(\n",
    ")  #нижний регистр для всех строк\n",
    "df['name'] = df['name'].str.strip()  #удаление символов в начале и конце строки\n",
    "df['name'] = df['name'].str.replace('\\\\.', '')  #удаление точек\n",
    "df['name'] = df['name'].str.replace('\\\\bstreet\\\\b', 'st')  #введение сокращения"
   ]
  },
  {
   "cell_type": "code",
   "execution_count": 36,
   "metadata": {},
   "outputs": [
    {
     "data": {
      "text/plain": [
       "[('in', 4725),\n",
       " ('room', 4526),\n",
       " ('apartment', 3504),\n",
       " ('barcelona', 2608),\n",
       " ('with', 2213),\n",
       " ('the', 2109),\n",
       " ('habitación', 1871),\n",
       " ('en', 1791),\n",
       " ('-', 1671),\n",
       " ('de', 1640)]"
      ]
     },
     "execution_count": 36,
     "metadata": {},
     "output_type": "execute_result"
    }
   ],
   "source": [
    "# Поиск наиболее часто встречающихся слов в столбце name генеральной совокупности\n",
    "Counter(' '.join(df['name']).split()).most_common(10)"
   ]
  },
  {
   "cell_type": "code",
   "execution_count": 37,
   "metadata": {},
   "outputs": [
    {
     "data": {
      "text/plain": [
       "[('apartment', 352),\n",
       " ('in', 293),\n",
       " ('with', 197),\n",
       " ('barcelona', 176),\n",
       " ('the', 161),\n",
       " ('luxury', 108),\n",
       " ('de', 107),\n",
       " ('-', 101),\n",
       " ('room', 99),\n",
       " ('terrace', 96)]"
      ]
     },
     "execution_count": 37,
     "metadata": {},
     "output_type": "execute_result"
    }
   ],
   "source": [
    "# Поиск наиболее часто встречающихся слов в столбце name filtered_emissions\n",
    "Counter(' '.join(filtered_emissions['name']).split()).most_common(10)"
   ]
  },
  {
   "cell_type": "raw",
   "metadata": {},
   "source": [
    "Нетипичные значения стоимости сопровождает атрибут Luxury, входящий в десятку наиболее встречающихся слов выборки."
   ]
  },
  {
   "cell_type": "code",
   "execution_count": 38,
   "metadata": {},
   "outputs": [
    {
     "data": {
      "text/plain": [
       "7.454134204574013"
      ]
     },
     "execution_count": 38,
     "metadata": {},
     "output_type": "execute_result"
    }
   ],
   "source": [
    "# процент предложений с указанием атрибута Lux в генеральной совокупности\n",
    "df_lux = df[df['name'].str.contains(r'lux*')]\n",
    "len(df_lux) / len(df) * 100"
   ]
  },
  {
   "cell_type": "code",
   "execution_count": 39,
   "metadata": {},
   "outputs": [
    {
     "data": {
      "text/plain": [
       "378.4141330497012"
      ]
     },
     "execution_count": 39,
     "metadata": {},
     "output_type": "execute_result"
    }
   ],
   "source": [
    "# стандартное отклонение выборки с атрибутом lux\n",
    "df_lux['price'].std()"
   ]
  },
  {
   "cell_type": "code",
   "execution_count": 40,
   "metadata": {},
   "outputs": [
    {
     "data": {
      "text/plain": [
       "18.799142244460327"
      ]
     },
     "execution_count": 40,
     "metadata": {},
     "output_type": "execute_result"
    }
   ],
   "source": [
    "# процент предложений с указанием атрибута Lux в выборке нетипичной стоимости\n",
    "df_lux_emission = filtered_emissions[filtered_emissions['name'].str.contains(\n",
    "    r'lux*')]\n",
    "len(df_lux_emission) / len(filtered_emissions) * 100"
   ]
  },
  {
   "cell_type": "code",
   "execution_count": 41,
   "metadata": {},
   "outputs": [
    {
     "data": {
      "text/plain": [
       "15.511079342387418"
      ]
     },
     "execution_count": 41,
     "metadata": {},
     "output_type": "execute_result"
    }
   ],
   "source": [
    "# процент краткосрочной аренды с указанием атрибута Lux в выборке нетипичной стоимости\n",
    "df_lux_emission_short = df_lux_emission[df_lux_emission['minimum_nights'] < 29]\n",
    "len(df_lux_emission_short) / len(filtered_emissions) * 100"
   ]
  },
  {
   "cell_type": "raw",
   "metadata": {},
   "source": [
    "В общем объеме данных атрибут Lux указан в 7% предложений, тогда как в объеме нетипичных значений, составляющих так же 7% от общей выборки, 11% составляют предложения длительной аренды и 15% краткосрочной аренды с атрибуом Lux. Оставшиеся 74% данных с нетипичным значением стоимости составляют дорогостоящую краткосрочную аренду."
   ]
  },
  {
   "cell_type": "raw",
   "metadata": {},
   "source": [
    "Разделение данных price на 5 категорий стоимости (5 интервалов boxplot) для проведения регрессионного анализа с построением порядковой регрессионной модели с целью оценки влияния факторов на зависимую переменную price."
   ]
  },
  {
   "cell_type": "code",
   "execution_count": 42,
   "metadata": {},
   "outputs": [],
   "source": [
    "# Группировка стоимости price_class\n",
    "price_class = {}\n",
    "\n",
    "price_category = 1\n",
    "\n",
    "max_price = df['price'].max() + 1\n",
    "\n",
    "first_quartile = np.percentile(df.price, 25)\n",
    "second_quartile = np.percentile(df.price, 50)\n",
    "third_quartile = np.percentile(df.price, 75)\n",
    "fourth_quartile = upper_whisker\n",
    "premium = df['price'].max()\n",
    "\n",
    "for price in range(1, max_price):\n",
    "\n",
    "    if (price <= first_quartile):\n",
    "        price_category = 1\n",
    "\n",
    "    elif (price > first_quartile and price <= second_quartile):\n",
    "        price_category = 2\n",
    "\n",
    "    elif (price > second_quartile and price <= third_quartile):\n",
    "        price_category = 3\n",
    "\n",
    "    elif (price > third_quartile and price <= fourth_quartile):\n",
    "        price_category = 4\n",
    "\n",
    "    elif (price > fourth_quartile and price <= premium):\n",
    "        price_category = 5\n",
    "\n",
    "    price_class[price] = price_category\n",
    "\n",
    "# price_class"
   ]
  },
  {
   "cell_type": "code",
   "execution_count": 43,
   "metadata": {},
   "outputs": [],
   "source": [
    "# Добавление столбца с номинативными данными категорий стоимости\n",
    "df['price_class'] = df['price'].map(price_class)"
   ]
  },
  {
   "cell_type": "code",
   "execution_count": 44,
   "metadata": {},
   "outputs": [
    {
     "data": {
      "text/plain": [
       "Text(0.5, 1.0, 'Price')"
      ]
     },
     "execution_count": 44,
     "metadata": {},
     "output_type": "execute_result"
    },
    {
     "data": {
      "image/png": "[encoded data removed]",
      "text/plain": [
       "<Figure size 1080x360 with 1 Axes>"
      ]
     },
     "metadata": {},
     "output_type": "display_data"
    }
   ],
   "source": [
    "# Распределение параметра price_class\n",
    "sns.countplot(x='price_class', data=df)\n",
    "plt.xlabel('Price class')\n",
    "plt.ylabel('Количество')\n",
    "plt.title('Price')"
   ]
  },
  {
   "cell_type": "markdown",
   "metadata": {},
   "source": [
    "#### Анализ параметра name"
   ]
  },
  {
   "cell_type": "raw",
   "metadata": {},
   "source": [
    "Параметр name содержит описание объектов для размещения. На стоимость аренды могут оказывать влияние ключевые параметры, указанные в названии объявления такие как sales или luxury. Для их выявления можно рассмотреть наиболее употребимые уникальные слова для каждой категории стоимости."
   ]
  },
  {
   "cell_type": "code",
   "execution_count": 45,
   "metadata": {},
   "outputs": [
    {
     "ename": "NameError",
     "evalue": "name 'df_first_price_category' is not defined",
     "output_type": "error",
     "traceback": [
      "\u001b[0;31m---------------------------------------------------------------------------\u001b[0m",
      "\u001b[0;31mNameError\u001b[0m                                 Traceback (most recent call last)",
      "\u001b[0;32m<ipython-input-45-b2d252a60878>\u001b[0m in \u001b[0;36m<module>\u001b[0;34m\u001b[0m\n\u001b[1;32m      1\u001b[0m \u001b[0;31m# Поиск наиболее часто встречающихся слов в столбце name генеральной совокупности\u001b[0m\u001b[0;34m\u001b[0m\u001b[0;34m\u001b[0m\u001b[0;34m\u001b[0m\u001b[0m\n\u001b[0;32m----> 2\u001b[0;31m \u001b[0mCounter\u001b[0m\u001b[0;34m(\u001b[0m\u001b[0;34m' '\u001b[0m\u001b[0;34m.\u001b[0m\u001b[0mjoin\u001b[0m\u001b[0;34m(\u001b[0m\u001b[0mdf_first_price_category\u001b[0m\u001b[0;34m[\u001b[0m\u001b[0;34m'name'\u001b[0m\u001b[0;34m]\u001b[0m\u001b[0;34m)\u001b[0m\u001b[0;34m.\u001b[0m\u001b[0msplit\u001b[0m\u001b[0;34m(\u001b[0m\u001b[0;34m)\u001b[0m\u001b[0;34m)\u001b[0m\u001b[0;34m.\u001b[0m\u001b[0mmost_common\u001b[0m\u001b[0;34m(\u001b[0m\u001b[0;36m10\u001b[0m\u001b[0;34m)\u001b[0m\u001b[0;34m\u001b[0m\u001b[0;34m\u001b[0m\u001b[0m\n\u001b[0m\u001b[1;32m      3\u001b[0m \u001b[0mdf_first_price_category\u001b[0m\u001b[0;34m=\u001b[0m\u001b[0mdf\u001b[0m\u001b[0;34m[\u001b[0m\u001b[0mdf\u001b[0m\u001b[0;34m[\u001b[0m\u001b[0;34m'price_class'\u001b[0m\u001b[0;34m]\u001b[0m\u001b[0;34m==\u001b[0m\u001b[0;36m1\u001b[0m\u001b[0;34m]\u001b[0m\u001b[0;34m\u001b[0m\u001b[0;34m\u001b[0m\u001b[0m\n\u001b[1;32m      4\u001b[0m \u001b[0mdf_second_price_category\u001b[0m\u001b[0;34m=\u001b[0m\u001b[0mdf\u001b[0m\u001b[0;34m[\u001b[0m\u001b[0mdf\u001b[0m\u001b[0;34m[\u001b[0m\u001b[0;34m'price_class'\u001b[0m\u001b[0;34m]\u001b[0m\u001b[0;34m==\u001b[0m\u001b[0;36m2\u001b[0m\u001b[0;34m]\u001b[0m\u001b[0;34m\u001b[0m\u001b[0;34m\u001b[0m\u001b[0m\n\u001b[1;32m      5\u001b[0m \u001b[0mdf_third_price_category\u001b[0m\u001b[0;34m=\u001b[0m\u001b[0mdf\u001b[0m\u001b[0;34m[\u001b[0m\u001b[0mdf\u001b[0m\u001b[0;34m[\u001b[0m\u001b[0;34m'price_class'\u001b[0m\u001b[0;34m]\u001b[0m\u001b[0;34m==\u001b[0m\u001b[0;36m3\u001b[0m\u001b[0;34m]\u001b[0m\u001b[0;34m\u001b[0m\u001b[0;34m\u001b[0m\u001b[0m\n",
      "\u001b[0;31mNameError\u001b[0m: name 'df_first_price_category' is not defined"
     ]
    }
   ],
   "source": [
    "# Разделение df по категориям из price_class\n",
    "\n",
    "df_first_price_category=df[df['price_class']==1]\n",
    "df_second_price_category=df[df['price_class']==2]\n",
    "df_third_price_category=df[df['price_class']==3]\n",
    "df_fourth_price_category=df[df['price_class']==4]\n",
    "df_fifth_price_category=df[df['price_class']==5]"
   ]
  },
  {
   "cell_type": "code",
   "execution_count": null,
   "metadata": {},
   "outputs": [],
   "source": [
    "# Поиск наиболее часто встречающихся слов в столбце name \n",
    "Counter(' '.join(df_first_price_category['name']).split()).most_common(10)"
   ]
  },
  {
   "cell_type": "code",
   "execution_count": null,
   "metadata": {},
   "outputs": [],
   "source": [
    "Counter(' '.join(df_second_price_category['name']).split()).most_common(10)"
   ]
  },
  {
   "cell_type": "code",
   "execution_count": null,
   "metadata": {},
   "outputs": [],
   "source": [
    "Counter(' '.join(df_third_price_category['name']).split()).most_common(10)"
   ]
  },
  {
   "cell_type": "code",
   "execution_count": null,
   "metadata": {},
   "outputs": [],
   "source": [
    "Counter(' '.join(df_fourth_price_category['name']).split()).most_common(10)"
   ]
  },
  {
   "cell_type": "code",
   "execution_count": null,
   "metadata": {},
   "outputs": [],
   "source": [
    "Counter(' '.join(df_fifth_price_category['name']).split()).most_common(10)"
   ]
  },
  {
   "cell_type": "raw",
   "metadata": {},
   "source": [
    "У параметра name не обнаружено уникальных слов для первых четырех категорий стоимости, в связи можно полагать, что на стоимость оказывает влияние только атрибут Luxury, который можно выделить в отдельную категорию для признака name."
   ]
  },
  {
   "cell_type": "code",
   "execution_count": null,
   "metadata": {},
   "outputs": [],
   "source": [
    "# Группировка по атрибуту Luxyry\n",
    "name_class = {}\n",
    "\n",
    "minimum_nights_category = 1\n",
    "\n",
    "max_count_nights = df['minimum_nights'].max()\n",
    "\n",
    "for minimum_nights in range(1, max_count_nights):\n",
    "\n",
    "    if (minimum_nights < 30):\n",
    "        minimum_nights_category = 'short_term_rent'\n",
    "\n",
    "    elif (minimum_nights >= 30):\n",
    "        minimum_nights_category = 'long_term_rent'\n",
    "\n",
    "    minimum_nights_class[minimum_nights] = minimum_nights_category\n",
    "\n",
    "# minimum_nights_class"
   ]
  },
  {
   "cell_type": "markdown",
   "metadata": {},
   "source": [
    "####                                        Анализ параметра number_of_reviews"
   ]
  },
  {
   "cell_type": "code",
   "execution_count": null,
   "metadata": {},
   "outputs": [],
   "source": [
    "df['number_of_reviews'].describe()"
   ]
  },
  {
   "cell_type": "code",
   "execution_count": null,
   "metadata": {},
   "outputs": [],
   "source": [
    "# Распределение параметра number_of_reviews\n",
    "df['number_of_reviews'].hist(bins=100)\n",
    "plt.xlabel('Количество отзывов')\n",
    "plt.ylabel('Частота')\n",
    "plt.title('Количество')"
   ]
  },
  {
   "cell_type": "code",
   "execution_count": null,
   "metadata": {},
   "outputs": [],
   "source": [
    "# среднее количество отзывов\n",
    "df['number_of_reviews'].mean()"
   ]
  },
  {
   "cell_type": "code",
   "execution_count": null,
   "metadata": {},
   "outputs": [],
   "source": [
    "df['number_of_reviews'].max()"
   ]
  },
  {
   "cell_type": "code",
   "execution_count": null,
   "metadata": {},
   "outputs": [],
   "source": [
    "# Группировка по количеству отзывов\n",
    "number_of_reviews_class = {0: 'no_reviews'}\n",
    "\n",
    "rank = df['number_of_reviews'].mean()\n",
    "max_count_review = df['number_of_reviews'].max() + 1\n",
    "\n",
    "for number_of_reviews in range(1, max_count_review):\n",
    "\n",
    "    if (number_of_reviews < rank):\n",
    "        number_of_reviews_category = 'few reviews'\n",
    "\n",
    "    elif (number_of_reviews >= rank):\n",
    "        number_of_reviews_category = 'many reviews'\n",
    "\n",
    "    number_of_reviews_class[number_of_reviews] = number_of_reviews_category\n",
    "\n",
    "# number_of_reviews_class"
   ]
  },
  {
   "cell_type": "code",
   "execution_count": null,
   "metadata": {},
   "outputs": [],
   "source": [
    "# Добавление столбца с номинативными данными категорий отзывов (без отзывов, более и менее среднего значения)\n",
    "df['number_of_reviews_class'] = df['number_of_reviews'].map(\n",
    "    number_of_reviews_class)"
   ]
  },
  {
   "cell_type": "markdown",
   "metadata": {},
   "source": [
    "####                                  Анализ параметра minimum_nights"
   ]
  },
  {
   "cell_type": "code",
   "execution_count": null,
   "metadata": {},
   "outputs": [],
   "source": [
    "sns.boxplot(df['minimum_nights'], orient='h')"
   ]
  },
  {
   "cell_type": "code",
   "execution_count": null,
   "metadata": {},
   "outputs": [],
   "source": [
    "# Группировка по длительности аренды\n",
    "minimum_nights_class = {}\n",
    "\n",
    "minimum_nights_category = 1\n",
    "\n",
    "max_count_nights = df['minimum_nights'].max()\n",
    "\n",
    "for minimum_nights in range(1, max_count_nights):\n",
    "\n",
    "    if (minimum_nights < 30):\n",
    "        minimum_nights_category = 'short_term_rent'\n",
    "\n",
    "    elif (minimum_nights >= 30):\n",
    "        minimum_nights_category = 'long_term_rent'\n",
    "\n",
    "    minimum_nights_class[minimum_nights] = minimum_nights_category\n",
    "\n",
    "# minimum_nights_class"
   ]
  },
  {
   "cell_type": "code",
   "execution_count": null,
   "metadata": {},
   "outputs": [],
   "source": [
    "# Добавление столбца с номинативными данными категории длительности аренды  2 категории срока аренды \n",
    "# (краткосрочная <30 дней, долгосрочная >30 дней)\n",
    "df['minimum_nights_class'] = df['minimum_nights'].map(minimum_nights_class)"
   ]
  },
  {
   "cell_type": "markdown",
   "metadata": {},
   "source": [
    "####                                Анализ параметра neighbourhood_group"
   ]
  },
  {
   "cell_type": "code",
   "execution_count": null,
   "metadata": {},
   "outputs": [],
   "source": [
    "df['neighbourhood_group'].value_counts().plot.bar()"
   ]
  },
  {
   "cell_type": "markdown",
   "metadata": {},
   "source": [
    "####                                     Анализ параметра availability_365"
   ]
  },
  {
   "cell_type": "code",
   "execution_count": null,
   "metadata": {},
   "outputs": [],
   "source": [
    "# распределение параметра availability_365\n",
    "df['availability_365'].hist(bins=50)\n",
    "plt.xlabel('Количество доступных дней для бронирования')\n",
    "plt.ylabel('Частота')\n",
    "plt.title('Количество доступных дней для бронирования')"
   ]
  },
  {
   "cell_type": "raw",
   "metadata": {},
   "source": [
    "Данные содержат параметр availability_365 по которому часть недвижимости имеет значение 0, следовательно место недоступно для бронирования в связи с наличием брони на ближайшие 365 дней, либо хозяин не планирует размещать гостей в ближайшее время.\n",
    "Если принять данные в качестве маркера, что недвижимость забронирована, то по данному параметру можно проанализировать наиболее востребованное жилье (какой процент доступного для бронирования жилья недоступен для бронирования)."
   ]
  },
  {
   "cell_type": "code",
   "execution_count": null,
   "metadata": {},
   "outputs": [],
   "source": [
    "# Наиболее востребованные районы по availability_365\n",
    "#выбор 2х столбцов по заданному фильтру\n",
    "filtered_availability = df[['availability_365', 'neighbourhood_group']]\n",
    "\n",
    "# жилье недоступное для бронирования\n",
    "filtered_availability = filtered_availability[\n",
    "    filtered_availability['availability_365'] == 0]\n",
    "\n",
    "# Наиболее востребованные районы\n",
    "X=filtered_availability['neighbourhood_group']\n",
    "Y=df['neighbourhood_group']\n",
    "\n",
    "bins = np.linspace(0, 10, 100)\n",
    "\n",
    "plt.hist(X, bins, alpha=0.5, label='забронировано')\n",
    "plt.hist(Y, bins, alpha=0.5, label='всего предложений')\n",
    "plt.legend(loc='upper right')\n",
    "plt.xlabel('Районы')\n",
    "plt.ylabel('Количество забронированного жилья')\n",
    "plt.title('Наиболее востребованные районы')"
   ]
  },
  {
   "cell_type": "markdown",
   "metadata": {},
   "source": [
    "### Сводная таблица факторов к стоимости"
   ]
  },
  {
   "cell_type": "code",
   "execution_count": null,
   "metadata": {},
   "outputs": [],
   "source": [
    "# оценка корелляции признаков после введения категорий\n",
    "f, ax = plt.subplots(figsize=(10, 10))\n",
    "sns.heatmap(df.corr(), annot=True, linewidths=1)\n",
    "plt.show()"
   ]
  },
  {
   "cell_type": "markdown",
   "metadata": {},
   "source": [
    "Для ответа на ключевой вопрос о взаимосвязи необходимо рассмотреть каждый параметр данных, оценить согласованность данных, установить зависимости, провести оценку их значимости и устранить противоречия.\n",
    "\n",
    "Сравнить тип жилья, районы, количество отзывов, доступность"
   ]
  },
  {
   "cell_type": "code",
   "execution_count": null,
   "metadata": {},
   "outputs": [],
   "source": [
    "pivot_table_categories = df.pivot_table(values=['price'],\n",
    "                                        index=[\n",
    "                                            'neighbourhood_group', 'room_type',\n",
    "                                            'minimum_nights_class',\n",
    "                                            'price_class',\n",
    "                                            'number_of_reviews_class'\n",
    "                                        ])\n",
    "pivot_table_categories"
   ]
  },
  {
   "cell_type": "code",
   "execution_count": null,
   "metadata": {},
   "outputs": [],
   "source": [
    "# гистограммы для оценки распределений\n",
    "df.hist(bins=200);"
   ]
  },
  {
   "cell_type": "raw",
   "metadata": {},
   "source": [
    "Порядковые данные от 1 до 5 можно анализировать линейной регрессией или мультиномиальной логистической регрессией, но эти виды регрессий не учитывают порядок.\n",
    "Чтобы оценить шанс перехода от более низкой категории к более высокой (пересечения стоимостного порога), корректно использовать порядковую регрессию (для кумулятивного порогового распределения)"
   ]
  },
  {
   "cell_type": "markdown",
   "metadata": {},
   "source": [
    "### Порядковая регрессия"
   ]
  },
  {
   "cell_type": "code",
   "execution_count": null,
   "metadata": {},
   "outputs": [],
   "source": [
    "from bevel.linear_ordinal_regression import OrderedLogit"
   ]
  },
  {
   "cell_type": "code",
   "execution_count": null,
   "metadata": {},
   "outputs": [],
   "source": [
    "# Назначение зависимых(Y) и независимых(X) переменных\n",
    "\n",
    "Y = df.price_class\n",
    "X = df[[\n",
    "    'minimum_nights', 'number_of_reviews', 'reviews_per_month',\n",
    "    'availability_365', 'latitude', 'longitude',\n",
    "    'calculated_host_listings_count'\n",
    "]]"
   ]
  },
  {
   "cell_type": "code",
   "execution_count": null,
   "metadata": {},
   "outputs": [],
   "source": [
    "X.dtypes"
   ]
  },
  {
   "cell_type": "code",
   "execution_count": null,
   "metadata": {},
   "outputs": [],
   "source": [
    "# Построение регрессионной модели\n",
    "model = OrderedLogit()\n",
    "model.fit(X, Y)"
   ]
  },
  {
   "cell_type": "code",
   "execution_count": null,
   "metadata": {},
   "outputs": [],
   "source": [
    "model.print_summary()"
   ]
  },
  {
   "cell_type": "raw",
   "metadata": {},
   "source": [
    " Somers' D (качество регрессии) - какой процент дисперсии объясняет зависимую переменную независимыми \n",
    "(это коэффициент детерменации, но с диапазоном [-1;1])\n",
    "\n",
    " *** - маркер высокого порога значимости\n",
    " \n",
    " В регрессионной моделе негативно влияют на переход к более высокой категории параметры с отрицательным значением beta:\n",
    " minimum_nights, reviews_per_month, latitude\n",
    " \n",
    " Наиболее позитивное влияние оказывает параметр - longitude"
   ]
  },
  {
   "cell_type": "markdown",
   "metadata": {},
   "source": [
    "### Влияние даты последнего отзыва на стоимость"
   ]
  },
  {
   "cell_type": "code",
   "execution_count": null,
   "metadata": {},
   "outputs": [],
   "source": [
    "# корректировка формата даты\n",
    "df['last_review_dt'] = pd.to_datetime(df['last_review'], format='%Y-%m-%d')"
   ]
  },
  {
   "cell_type": "raw",
   "metadata": {},
   "source": [
    "Столбчатая диаграмма для визуализации данных о категориях и их распределении"
   ]
  },
  {
   "cell_type": "code",
   "execution_count": null,
   "metadata": {},
   "outputs": [],
   "source": [
    "filtered_emissions['neighbourhood_group'].value_counts().plot.bar()"
   ]
  },
  {
   "cell_type": "code",
   "execution_count": null,
   "metadata": {},
   "outputs": [],
   "source": [
    "df['neighbourhood_group'].value_counts()"
   ]
  },
  {
   "cell_type": "code",
   "execution_count": null,
   "metadata": {},
   "outputs": [],
   "source": [
    "filtered_emissions['room_type'].value_counts()"
   ]
  },
  {
   "cell_type": "markdown",
   "metadata": {},
   "source": [
    "### Качество данных \n",
    "насколько данные пригодны для использования\n",
    "\n",
    "Достоверность данных - типы данных приведены в соответствие, значения соответствуют названию "
   ]
  },
  {
   "cell_type": "markdown",
   "metadata": {},
   "source": [
    "### Неинформативные признаки"
   ]
  },
  {
   "cell_type": "raw",
   "metadata": {},
   "source": []
  },
  {
   "cell_type": "code",
   "execution_count": null,
   "metadata": {},
   "outputs": [],
   "source": []
  },
  {
   "cell_type": "raw",
   "metadata": {},
   "source": []
  },
  {
   "cell_type": "markdown",
   "metadata": {},
   "source": [
    "### Нерелевантные признаки"
   ]
  },
  {
   "cell_type": "code",
   "execution_count": null,
   "metadata": {},
   "outputs": [],
   "source": [
    "# df.sample(5)"
   ]
  },
  {
   "cell_type": "code",
   "execution_count": null,
   "metadata": {},
   "outputs": [],
   "source": [
    "# import pandas_profiling\n",
    "# df.profile_report()"
   ]
  },
  {
   "cell_type": "raw",
   "metadata": {},
   "source": [
    "Регрессия с избытком нулей для анализа востребованности\n",
    "Оценка вероятности принадлежности к наиболее востребованной недвижимости"
   ]
  },
  {
   "cell_type": "code",
   "execution_count": null,
   "metadata": {},
   "outputs": [],
   "source": [
    "# Кодировка категориальных данных\n",
    "df.minimum_nights_class = np.where(\n",
    "    df.minimum_nights_class == 'short_term_rent', 1, 0)"
   ]
  },
  {
   "cell_type": "code",
   "execution_count": null,
   "metadata": {},
   "outputs": [],
   "source": [
    "Y = df.availability_365  #ЗП\n",
    "X = df.loc[:, [\n",
    "    'latitude', 'longitude', 'price', 'minimum_nights', 'number_of_reviews', 'calculated_host_listings_count', 'price_class'\n",
    "]]  #НП\n",
    "X = sm.add_constant(X)  #Intercept"
   ]
  },
  {
   "cell_type": "code",
   "execution_count": null,
   "metadata": {},
   "outputs": [],
   "source": [
    "zeroinf = sm.ZeroInflatedPoisson(Y, X).fit(maxiter=100, method=\"ncg\")\n",
    "zeroinf.summary()"
   ]
  },
  {
   "cell_type": "code",
   "execution_count": null,
   "metadata": {},
   "outputs": [],
   "source": []
  },
  {
   "cell_type": "code",
   "execution_count": null,
   "metadata": {},
   "outputs": [],
   "source": []
  }
 ],
 "metadata": {
  "kernelspec": {
   "display_name": "Python 3",
   "language": "python",
   "name": "python3"
  },
  "language_info": {
   "codemirror_mode": {
    "name": "ipython",
    "version": 3
   },
   "file_extension": ".py",
   "mimetype": "text/x-python",
   "name": "python",
   "nbconvert_exporter": "python",
   "pygments_lexer": "ipython3",
   "version": "3.8.5"
  },
  "nbTranslate": {
   "displayLangs": [
    "*"
   ],
   "hotkey": "alt-t",
   "langInMainMenu": true,
   "sourceLang": "en",
   "targetLang": "fr",
   "useGoogleTranslate": true
  },
  "toc": {
   "base_numbering": 1,
   "nav_menu": {
    "height": "109px",
    "width": "352px"
   },
   "number_sections": true,
   "sideBar": true,
   "skip_h1_title": false,
   "title_cell": "Table of Contents",
   "title_sidebar": "Contents",
   "toc_cell": false,
   "toc_position": {},
   "toc_section_display": true,
   "toc_window_display": false
  },
  "varInspector": {
   "cols": {
    "lenName": 16,
    "lenType": 16,
    "lenVar": 40
   },
   "kernels_config": {
    "python": {
     "delete_cmd_postfix": "",
     "delete_cmd_prefix": "del ",
     "library": "var_list.py",
     "varRefreshCmd": "print(var_dic_list())"
    },
    "r": {
     "delete_cmd_postfix": ") ",
     "delete_cmd_prefix": "rm(",
     "library": "var_list.r",
     "varRefreshCmd": "cat(var_dic_list()) "
    }
   },
   "types_to_exclude": [
    "module",
    "function",
    "builtin_function_or_method",
    "instance",
    "_Feature"
   ],
   "window_display": false
  }
 },
 "nbformat": 4,
 "nbformat_minor": 4
}
